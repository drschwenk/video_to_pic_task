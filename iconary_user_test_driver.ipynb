{
 "cells": [
  {
   "cell_type": "markdown",
   "metadata": {},
   "source": [
    "# 1. imports"
   ]
  },
  {
   "cell_type": "code",
   "execution_count": 100,
   "metadata": {
    "run_control": {
     "frozen": false,
     "read_only": false
    }
   },
   "outputs": [],
   "source": [
    "import pickle\n",
    "from vizier.vizier import Vizier"
   ]
  },
  {
   "cell_type": "markdown",
   "metadata": {
    "run_control": {
     "frozen": false,
     "read_only": false
    }
   },
   "source": [
    "# 2. Submitting HITs"
   ]
  },
  {
   "cell_type": "code",
   "execution_count": 107,
   "metadata": {
    "code_folding": [],
    "run_control": {
     "frozen": false,
     "read_only": false
    }
   },
   "outputs": [
    {
     "name": "stdout",
     "output_type": "stream",
     "text": [
      "Account balance is: $10000.00\n"
     ]
    }
   ],
   "source": [
    "from mturk_choi import *\n",
    "\n",
    "static_params = {\n",
    "    'Title': \"Draw pic from video - pilot 0 sandbox1\",\n",
    "    'Description': \"Viconary is a challenge where the player uses the provided icons to draw the sequence of the main activities shown in the video. (1-4 activities)\",\n",
    "    'Keywords': \", \",\n",
    "    'frame_height': 1170,\n",
    "    'Reward': f'{0.15}',\n",
    "    'AssignmentDurationInSeconds': 3600 * 1,\n",
    "    'AutoApprovalDelayInSeconds': 3600 * 24 * 3,\n",
    "    'LifetimeInSeconds': 3600 * 24 * 1,\n",
    "    'MaxAssignments': 3,\n",
    "}\n",
    "\n",
    "template_params = {\n",
    "    'template_file': 'vid2pic_template.html', \n",
    "    'template_dir': 'hit_templates' \n",
    "}\n",
    "\n",
    "client_params = {\n",
    "    'aws_access_key_id': access_key,\n",
    "    'aws_secret_access_key': access_secret_key, \n",
    "    'profile_name': None,\n",
    "    'in_production': False,\n",
    "    'n_threads': 1,\n",
    "    's3_base_path': '',\n",
    "}\n",
    "vizier = Vizier(**client_params)"
   ]
  },
  {
   "cell_type": "code",
   "execution_count": 108,
   "metadata": {
    "run_control": {
     "frozen": false,
     "read_only": false
    }
   },
   "outputs": [],
   "source": [
    "def gen_task_template_args(vid):\n",
    "    return {'video_id': vid}"
   ]
  },
  {
   "cell_type": "code",
   "execution_count": 109,
   "metadata": {
    "run_control": {
     "frozen": false,
     "read_only": false
    }
   },
   "outputs": [],
   "source": [
    "train_vids_filename = 'Charades_v1_train_crops_urls.pickle'\n",
    "test_vids_filename = 'Charades_v1_test_crops_urls.pickle'\n",
    "with open(train_vids_filename, 'rb') as train_urls:\n",
    "    train_vids = pickle.load(train_urls)\n",
    "    train_vids = list(train_vids.values())\n",
    "with open(test_vids_filename, 'rb') as test_urls:\n",
    "    test_vids = pickle.load(test_urls)\n",
    "    test_vids = list(test_vids.values())\n",
    "\n",
    "vids_to_submit = train_vids[0:10]# + test_vids\n",
    "\n",
    "vizier.preview_hit_interface(template_params, **gen_task_template_args(vids_to_submit))"
   ]
  },
  {
   "cell_type": "code",
   "execution_count": 110,
   "metadata": {
    "run_control": {
     "frozen": false,
     "read_only": false
    }
   },
   "outputs": [
    {
     "name": "stdout",
     "output_type": "stream",
     "text": [
      "Batch will cost $5.40\n"
     ]
    }
   ],
   "source": [
    "_ = vizier.expected_cost(vids_to_submit, basic_hit_params=static_params)"
   ]
  },
  {
   "cell_type": "code",
   "execution_count": 111,
   "metadata": {
    "run_control": {
     "frozen": false,
     "read_only": false
    }
   },
   "outputs": [],
   "source": [
    "vizier.preview_hit_interface(template_params, **gen_task_template_args(vids_to_submit[0]))"
   ]
  },
  {
   "cell_type": "code",
   "execution_count": 112,
   "metadata": {
    "run_control": {
     "frozen": false,
     "read_only": false
    }
   },
   "outputs": [
    {
     "name": "stdout",
     "output_type": "stream",
     "text": [
      "Batch will cost $5.40\n"
     ]
    }
   ],
   "source": [
    "created_hits = vizier.create_hit_group(vids_to_submit, gen_task_template_args, \n",
    "                                       basic_hit_params=static_params, template_params=template_params)"
   ]
  },
  {
   "cell_type": "markdown",
   "metadata": {
    "heading_collapsed": true
   },
   "source": [
    "# 3. Retreive results"
   ]
  },
  {
   "cell_type": "code",
   "execution_count": 87,
   "metadata": {
    "hidden": true,
    "run_control": {
     "frozen": false,
     "read_only": false
    }
   },
   "outputs": [
    {
     "name": "stdout",
     "output_type": "stream",
     "text": [
      "Account balance is: $2.71\n"
     ]
    }
   ],
   "source": [
    "# client_params = {\n",
    "#     'aws_access_key_id': mturk_ai2.access_key,\n",
    "#     'aws_secret_access_key': mturk_ai2.access_secret_key, \n",
    "#     'profile_name': None,\n",
    "#     'in_production': True,\n",
    "#     'n_threads': 1,\n",
    "#     's3_base_path': '',\n",
    "# }\n",
    "# vizier_retriever = Vizier(**client_params)"
   ]
  },
  {
   "cell_type": "code",
   "execution_count": 117,
   "metadata": {
    "hidden": true,
    "run_control": {
     "frozen": false,
     "read_only": false
    }
   },
   "outputs": [],
   "source": [
    "submitted_hits = created_hits\n",
    "# submitted_hits = vizier_retriever.unpickle_this('./submitted_batch_sandbox_20_wed_may_9_13_08_54_2018.pkl')\n",
    "hit_batch = [h['HIT'] for h in submitted_hits if h]\n",
    "# hit_batch = all_sbx_hits"
   ]
  },
  {
   "cell_type": "code",
   "execution_count": 89,
   "metadata": {
    "hidden": true,
    "run_control": {
     "frozen": false,
     "read_only": false
    }
   },
   "outputs": [],
   "source": [
    "# vizier_retriever.expire_hits(hit_batch)"
   ]
  },
  {
   "cell_type": "code",
   "execution_count": 90,
   "metadata": {
    "hidden": true,
    "run_control": {
     "frozen": false,
     "read_only": false
    }
   },
   "outputs": [
    {
     "name": "stdout",
     "output_type": "stream",
     "text": [
      "CPU times: user 407 ms, sys: 20.5 ms, total: 428 ms\n",
      "Wall time: 18.7 s\n"
     ]
    }
   ],
   "source": [
    "%%time\n",
    "latest_res = vizier_retriever.get_assignments(hit_batch)"
   ]
  },
  {
   "cell_type": "code",
   "execution_count": 91,
   "metadata": {
    "hidden": true,
    "run_control": {
     "frozen": false,
     "read_only": false
    }
   },
   "outputs": [
    {
     "data": {
      "text/plain": [
       "140"
      ]
     },
     "execution_count": 91,
     "metadata": {},
     "output_type": "execute_result"
    }
   ],
   "source": [
    "# assignment_batch = [a for r in latest_res for a in r['Assignments']]\n",
    "# len(assignment_batch)"
   ]
  },
  {
   "cell_type": "code",
   "execution_count": 94,
   "metadata": {
    "hidden": true,
    "run_control": {
     "frozen": false,
     "read_only": false
    }
   },
   "outputs": [],
   "source": [
    "# vizier_retriever.pickle_this(assignment_batch, 'second_qual_test_games')"
   ]
  },
  {
   "cell_type": "markdown",
   "metadata": {},
   "source": [
    "# 4. approve"
   ]
  },
  {
   "cell_type": "code",
   "execution_count": 96,
   "metadata": {
    "run_control": {
     "frozen": false,
     "read_only": false
    }
   },
   "outputs": [
    {
     "name": "stdout",
     "output_type": "stream",
     "text": [
      "Account balance is: $10000.00\n"
     ]
    }
   ],
   "source": [
    "client_params = {\n",
    "    'aws_access_key_id': mturk_ai2.access_key,\n",
    "    'aws_secret_access_key': mturk_ai2.access_secret_key, \n",
    "    'profile_name': None,\n",
    "    'in_production': False,\n",
    "    'n_threads': 1,\n",
    "    's3_base_path': '',\n",
    "}\n",
    "vizier_retriever = Vizier(**client_params)"
   ]
  },
  {
   "cell_type": "code",
   "execution_count": 138,
   "metadata": {
    "run_control": {
     "frozen": false,
     "read_only": false
    }
   },
   "outputs": [
    {
     "name": "stdout",
     "output_type": "stream",
     "text": [
      "CPU times: user 6.11 ms, sys: 1.16 ms, total: 7.27 ms\n",
      "Wall time: 1.41 s\n"
     ]
    }
   ],
   "source": [
    "%%time\n",
    "all_sbx_hits = vizier_retriever.get_all_hits()"
   ]
  },
  {
   "cell_type": "code",
   "execution_count": 139,
   "metadata": {
    "run_control": {
     "frozen": false,
     "read_only": false
    }
   },
   "outputs": [
    {
     "data": {
      "text/plain": [
       "2"
      ]
     },
     "execution_count": 139,
     "metadata": {},
     "output_type": "execute_result"
    }
   ],
   "source": [
    "len(all_sbx_hits)"
   ]
  },
  {
   "cell_type": "code",
   "execution_count": 137,
   "metadata": {
    "run_control": {
     "frozen": false,
     "read_only": false
    },
    "scrolled": false
   },
   "outputs": [
    {
     "name": "stdout",
     "output_type": "stream",
     "text": [
      "An error occurred (RequestError) when calling the DeleteHIT operation: This HIT is currently in the state 'Unassignable'.  This operation can be called with a status of: Reviewing, Reviewable (1527620975258 s)\n",
      "An error occurred (RequestError) when calling the DeleteHIT operation: This HIT is currently in the state 'Unassignable'.  This operation can be called with a status of: Reviewing, Reviewable (1527620975443 s)\n"
     ]
    }
   ],
   "source": [
    "dels_resp = vizier_retriever.force_delete_hits(all_sbx_hits)"
   ]
  },
  {
   "cell_type": "code",
   "execution_count": 135,
   "metadata": {
    "run_control": {
     "frozen": false,
     "read_only": false
    }
   },
   "outputs": [],
   "source": [
    "# _ = vizier_retriever.set_hits_reviewing(all_sbx_hits)"
   ]
  },
  {
   "cell_type": "code",
   "execution_count": 136,
   "metadata": {
    "run_control": {
     "frozen": false,
     "read_only": false
    }
   },
   "outputs": [],
   "source": [
    "_ = vizier_retriever.approve_hits(all_sbx_hits)"
   ]
  },
  {
   "cell_type": "code",
   "execution_count": 105,
   "metadata": {
    "run_control": {
     "frozen": false,
     "read_only": false
    }
   },
   "outputs": [],
   "source": [
    "# vizier.pickle_this(all_hits, 'all_prod_hits_5_21.pkl')"
   ]
  },
  {
   "cell_type": "code",
   "execution_count": 137,
   "metadata": {
    "run_control": {
     "frozen": false,
     "read_only": false
    }
   },
   "outputs": [],
   "source": [
    "# vizier_retriever.delete_hits(all_sbx_hits)"
   ]
  },
  {
   "cell_type": "code",
   "execution_count": 20,
   "metadata": {
    "run_control": {
     "frozen": false,
     "read_only": false
    }
   },
   "outputs": [],
   "source": [
    "trial_hit_batch = [h for h in all_hits if h['Title'] == static_params['Title']]"
   ]
  },
  {
   "cell_type": "code",
   "execution_count": 21,
   "metadata": {
    "run_control": {
     "frozen": false,
     "read_only": false
    }
   },
   "outputs": [
    {
     "data": {
      "text/plain": [
       "400"
      ]
     },
     "execution_count": 21,
     "metadata": {},
     "output_type": "execute_result"
    }
   ],
   "source": [
    "len(trial_hit_batch)"
   ]
  },
  {
   "cell_type": "code",
   "execution_count": null,
   "metadata": {
    "run_control": {
     "frozen": false,
     "read_only": false
    }
   },
   "outputs": [],
   "source": []
  },
  {
   "cell_type": "code",
   "execution_count": 73,
   "metadata": {
    "run_control": {
     "frozen": false,
     "read_only": false
    }
   },
   "outputs": [],
   "source": [
    "# mt_client.approve_assignments()"
   ]
  },
  {
   "cell_type": "code",
   "execution_count": null,
   "metadata": {
    "run_control": {
     "frozen": false,
     "read_only": false
    }
   },
   "outputs": [],
   "source": []
  }
 ],
 "metadata": {
  "kernelspec": {
   "display_name": "Python 3",
   "language": "python",
   "name": "python3"
  },
  "language_info": {
   "codemirror_mode": {
    "name": "ipython",
    "version": 3
   },
   "file_extension": ".py",
   "mimetype": "text/x-python",
   "name": "python",
   "nbconvert_exporter": "python",
   "pygments_lexer": "ipython3",
   "version": "3.7.0"
  }
 },
 "nbformat": 4,
 "nbformat_minor": 1
}
