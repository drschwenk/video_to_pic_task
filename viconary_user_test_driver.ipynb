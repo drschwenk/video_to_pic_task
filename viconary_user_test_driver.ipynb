{
 "cells": [
  {
   "cell_type": "markdown",
   "metadata": {
    "heading_collapsed": true
   },
   "source": [
    "# 1. imports"
   ]
  },
  {
   "cell_type": "code",
   "execution_count": 59,
   "metadata": {
    "hidden": true,
    "run_control": {
     "frozen": false,
     "read_only": false
    }
   },
   "outputs": [],
   "source": [
    "%%capture\n",
    "from __future__ import division\n",
    "import numpy as np\n",
    "import pandas as pd\n",
    "import scipy.stats as st\n",
    "import itertools\n",
    "from tqdm import tqdm as tqdm\n",
    "from collections import defaultdict\n",
    "from collections import Counter\n",
    "\n",
    "import xmltodict\n",
    "import cv2\n",
    "import PIL.Image as pil\n",
    "\n",
    "import pickle\n",
    "import boto3\n",
    "import json\n",
    "import os\n",
    "from copy import deepcopy\n",
    "\n",
    "from IPython.core.display import HTML\n",
    "\n",
    "from vizier.vizier import Vizier\n",
    "\n",
    "import os\n",
    "import random\n",
    "import datetime\n",
    "\n",
    "pd.options.mode.chained_assignment = None\n",
    "\n",
    "%load_ext autoreload\n",
    "%autoreload 2"
   ]
  },
  {
   "cell_type": "markdown",
   "metadata": {
    "run_control": {
     "frozen": false,
     "read_only": false
    }
   },
   "source": [
    "# 2. Submitting HITs"
   ]
  },
  {
   "cell_type": "code",
   "execution_count": 118,
   "metadata": {
    "code_folding": [],
    "run_control": {
     "frozen": false,
     "read_only": false
    }
   },
   "outputs": [
    {
     "name": "stdout",
     "output_type": "stream",
     "text": [
      "Account balance is: $1315.22\n"
     ]
    }
   ],
   "source": [
    "task_params = {\n",
    "    'Title': \"Viconary: summarize a video with drawings\",\n",
    "    'Description': \"Viconary is a challenge where the player uses the provided icons to draw the sequence of the main activities shown in the video. (1-4 activities)\",\n",
    "    'Keywords': \"video, icons, drawing\",\n",
    "    'frame_height': 1170,\n",
    "    'Reward': f'{0.60}',\n",
    "    'AssignmentDurationInSeconds': 3600 * 1,\n",
    "    'AutoApprovalDelayInSeconds': 3600 * 24 * 2,\n",
    "    'LifetimeInSeconds': 3600 * 24 * 3,\n",
    "    'MaxAssignments': 1,\n",
    "}\n",
    "\n",
    "template_params = {\n",
    "    'template_file': 'vid2pic_template.html', \n",
    "    'template_dir': 'hit_templates' \n",
    "}\n",
    "\n",
    "client_params = {\n",
    "    'profile_name': 'mturk_vision',\n",
    "    'in_production': True,\n",
    "    'n_threads': 4,\n",
    "}\n",
    "\n",
    "vizier = Vizier(**client_params)"
   ]
  },
  {
   "cell_type": "code",
   "execution_count": 89,
   "metadata": {
    "run_control": {
     "frozen": false,
     "read_only": false
    }
   },
   "outputs": [],
   "source": [
    "qual_params = {\n",
    "    'high_accept_rate': 95,\n",
    "    'min_total_hits_approved': 1000,\n",
    "    'english_speaking': ['US', 'CA', 'AU', 'NZ', 'GB'],\n",
    "    'us_only': ['US'],\n",
    "    'master': 'False'\n",
    "}"
   ]
  },
  {
   "cell_type": "code",
   "execution_count": 90,
   "metadata": {
    "code_folding": [
     0
    ],
    "run_control": {
     "frozen": false,
     "read_only": false
    }
   },
   "outputs": [],
   "source": [
    "def _build_qualifications(self, locales=None):\n",
    "    \"\"\"\n",
    "    builds qualifications for task\n",
    "    :param locales: AMT country codes allowed to perform task\n",
    "    :return: list of qualification dicts\n",
    "    \"\"\"\n",
    "    if locales:\n",
    "        locales = [{'Country': loc} for loc in locales]\n",
    "    masters_id = '2F1QJWKUDD8XADTFD2Q0G6UTO95ALH' if self.in_production else '2ARFPLSP75KLA8M8DH1HTEQVJT3SY6'\n",
    "    master = {\n",
    "        'QualificationTypeId': masters_id,\n",
    "        'Comparator': 'EqualTo',\n",
    "        'RequiredToPreview': True,\n",
    "    }\n",
    "    high_accept_rate = {\n",
    "        'QualificationTypeId': '000000000000000000L0',\n",
    "        'Comparator': 'GreaterThanOrEqualTo',\n",
    "        'IntegerValues': [self.qualifications['high_accept_rate']],\n",
    "        'RequiredToPreview': True,\n",
    "    }\n",
    "    min_total_hits_approved = {\n",
    "        'QualificationTypeId': '00000000000000000040',\n",
    "        'Comparator': 'GreaterThanOrEqualTo',\n",
    "        'IntegerValues': [self.qualifications['min_total_hits_approved']],\n",
    "        'RequiredToPreview': True,\n",
    "    }\n",
    "    location_based = {\n",
    "        'QualificationTypeId': '00000000000000000071',\n",
    "        'Comparator': 'In',\n",
    "        'LocaleValues': locales,\n",
    "        'RequiredToPreview': True,\n",
    "    }\n",
    "    iconary = {\n",
    "        'QualificationTypeId': '3Z1HL5WC7LSXUFW49BUXR7ZP1IDH6M',\n",
    "        'Comparator': 'EqualTo',\n",
    "        'ActionsGuarded': 'DiscoverPreviewAndAccept',\n",
    "        'IntegerValues': [1]\n",
    "    }\n",
    "    iconary_2 = {\n",
    "        'QualificationTypeId': '3L4WKCMPYDW5XOAL3OFNEQCBWU222H',\n",
    "        'Comparator': 'EqualTo',\n",
    "        # 'Comparator': 'DoesNotExist',\n",
    "        'ActionsGuarded': 'DiscoverPreviewAndAccept',\n",
    "        'IntegerValues': [1]\n",
    "    }\n",
    "    return [high_accept_rate, location_based, iconary_2]"
   ]
  },
  {
   "cell_type": "code",
   "execution_count": 91,
   "metadata": {
    "run_control": {
     "frozen": false,
     "read_only": false
    }
   },
   "outputs": [],
   "source": [
    "hit_batch_id = 'vic_prod_3_1000'\n",
    "hit_batch_id = 'vic_prod_4_1000'\n",
    "hit_batch_id = 'vic_prod_5_2000'"
   ]
  },
  {
   "cell_type": "code",
   "execution_count": 119,
   "metadata": {
    "run_control": {
     "frozen": false,
     "read_only": false
    }
   },
   "outputs": [],
   "source": [
    "def gen_task_template_args(vid):\n",
    "    return {'video_id': vid, 'hit_batch_id': hit_batch_id}"
   ]
  },
  {
   "cell_type": "code",
   "execution_count": 121,
   "metadata": {
    "run_control": {
     "frozen": false,
     "read_only": false
    }
   },
   "outputs": [
    {
     "data": {
      "text/plain": [
       "2000"
      ]
     },
     "execution_count": 121,
     "metadata": {},
     "output_type": "execute_result"
    }
   ],
   "source": [
    "train_vids_filename = 'Charades_v1_train_crops_urls.pickle'\n",
    "test_vids_filename = 'Charades_v1_test_crops_urls.pickle'\n",
    "\n",
    "with open(train_vids_filename, 'rb') as train_urls:\n",
    "    train_vids = pickle.load(train_urls)\n",
    "    train_vids = list(train_vids.values())\n",
    "with open(test_vids_filename, 'rb') as test_urls:\n",
    "    test_vids = pickle.load(test_urls)\n",
    "    test_vids = list(test_vids.values())\n",
    "\n",
    "vids_to_submit = train_vids[5300:7300]\n",
    "len(vids_to_submit)"
   ]
  },
  {
   "cell_type": "code",
   "execution_count": 122,
   "metadata": {
    "run_control": {
     "frozen": false,
     "read_only": false
    }
   },
   "outputs": [],
   "source": [
    "vizier.preview_hit_interface(template_params, **gen_task_template_args(vids_to_submit[0]))"
   ]
  },
  {
   "cell_type": "code",
   "execution_count": 123,
   "metadata": {
    "run_control": {
     "frozen": false,
     "read_only": false
    }
   },
   "outputs": [
    {
     "name": "stdout",
     "output_type": "stream",
     "text": [
      "Insufficient funds: will cost $1440.00 but only $1315.22 available.\n"
     ]
    }
   ],
   "source": [
    "_ = vizier.expected_cost(vids_to_submit, basic_hit_params=task_params)"
   ]
  },
  {
   "cell_type": "markdown",
   "metadata": {},
   "source": [
    "just did 3300-4300\n",
    "\n",
    "just did 4300-5300"
   ]
  },
  {
   "cell_type": "markdown",
   "metadata": {},
   "source": [
    "make sure to do ~1k test at some point"
   ]
  },
  {
   "cell_type": "code",
   "execution_count": 97,
   "metadata": {
    "run_control": {
     "frozen": false,
     "read_only": false
    }
   },
   "outputs": [],
   "source": [
    "# %%time \n",
    "# created_hits = vizier.create_hit_group(vids_to_submit, gen_task_template_args, basic_hit_params=task_params, template_params=template_params)"
   ]
  },
  {
   "cell_type": "code",
   "execution_count": null,
   "metadata": {
    "run_control": {
     "frozen": false,
     "read_only": false
    }
   },
   "outputs": [],
   "source": []
  },
  {
   "cell_type": "code",
   "execution_count": null,
   "metadata": {
    "run_control": {
     "frozen": false,
     "read_only": false
    }
   },
   "outputs": [],
   "source": []
  },
  {
   "cell_type": "markdown",
   "metadata": {},
   "source": [
    "# 3. Retreive results"
   ]
  },
  {
   "cell_type": "code",
   "execution_count": 124,
   "metadata": {
    "run_control": {
     "frozen": false,
     "read_only": false
    }
   },
   "outputs": [
    {
     "name": "stdout",
     "output_type": "stream",
     "text": [
      "Account balance is: $3315.22\n"
     ]
    }
   ],
   "source": [
    "client_params = {\n",
    "    'profile_name': 'mturk_vision',\n",
    "    'in_production': True,\n",
    "    'n_threads': 10,\n",
    "    's3_base_path': '',\n",
    "}\n",
    "vizier_retriever = Vizier(**client_params)"
   ]
  },
  {
   "cell_type": "code",
   "execution_count": 125,
   "metadata": {
    "run_control": {
     "frozen": false,
     "read_only": false
    }
   },
   "outputs": [],
   "source": [
    "submitted_hits = deepcopy(created_hits)\n",
    "# submitted_hits = vizier_retriever.unpickle_this('./submitted_batch_production_1000_wed_aug_29_14_34_36_2018.pkl')\n",
    "hit_batch = [h['HIT'] for h in submitted_hits if h]\n",
    "# hit_batch = all_sbx_hits"
   ]
  },
  {
   "cell_type": "code",
   "execution_count": 126,
   "metadata": {
    "run_control": {
     "frozen": false,
     "read_only": false
    }
   },
   "outputs": [
    {
     "data": {
      "text/plain": [
       "1000"
      ]
     },
     "execution_count": 126,
     "metadata": {},
     "output_type": "execute_result"
    }
   ],
   "source": [
    "len(hit_batch)"
   ]
  },
  {
   "cell_type": "code",
   "execution_count": 127,
   "metadata": {
    "run_control": {
     "frozen": false,
     "read_only": false
    }
   },
   "outputs": [
    {
     "name": "stdout",
     "output_type": "stream",
     "text": [
      "CPU times: user 2.56 s, sys: 205 ms, total: 2.77 s\n",
      "Wall time: 12.4 s\n"
     ]
    }
   ],
   "source": [
    "%%time\n",
    "latest_res = vizier_retriever.get_assignments(hit_batch)"
   ]
  },
  {
   "cell_type": "code",
   "execution_count": 128,
   "metadata": {
    "run_control": {
     "frozen": false,
     "read_only": false
    }
   },
   "outputs": [],
   "source": [
    "assignement_stats = pd.Series([h['Assignments'][0]['AssignmentStatus'] for h in latest_res if h['Assignments']])"
   ]
  },
  {
   "cell_type": "code",
   "execution_count": 129,
   "metadata": {
    "run_control": {
     "frozen": false,
     "read_only": false
    }
   },
   "outputs": [
    {
     "data": {
      "text/plain": [
       "Submitted    634\n",
       "dtype: int64"
      ]
     },
     "execution_count": 129,
     "metadata": {},
     "output_type": "execute_result"
    }
   ],
   "source": [
    "assignement_stats.value_counts()"
   ]
  },
  {
   "cell_type": "code",
   "execution_count": 116,
   "metadata": {
    "run_control": {
     "frozen": false,
     "read_only": false
    }
   },
   "outputs": [
    {
     "data": {
      "text/plain": [
       "1000"
      ]
     },
     "execution_count": 116,
     "metadata": {},
     "output_type": "execute_result"
    }
   ],
   "source": [
    "len(latest_res)"
   ]
  },
  {
   "cell_type": "code",
   "execution_count": 117,
   "metadata": {
    "run_control": {
     "frozen": false,
     "read_only": false
    }
   },
   "outputs": [
    {
     "data": {
      "text/plain": [
       "582"
      ]
     },
     "execution_count": 117,
     "metadata": {},
     "output_type": "execute_result"
    }
   ],
   "source": [
    "assignment_batch = [a for r in latest_res for a in r['Assignments']]\n",
    "len(assignment_batch)"
   ]
  },
  {
   "cell_type": "code",
   "execution_count": 138,
   "metadata": {
    "run_control": {
     "frozen": false,
     "read_only": false
    }
   },
   "outputs": [],
   "source": [
    "# _resp = vizier_retriever.approve_assignments(latest_res)"
   ]
  },
  {
   "cell_type": "code",
   "execution_count": 100,
   "metadata": {
    "run_control": {
     "frozen": false,
     "read_only": false
    }
   },
   "outputs": [
    {
     "name": "stderr",
     "output_type": "stream",
     "text": [
      "100%|██████████| 200/200 [00:27<00:00,  7.39it/s]\n"
     ]
    }
   ],
   "source": [
    "hss = {}\n",
    "for h in tqdm(hit_batch):\n",
    "    hid = h['HITId']\n",
    "    hr = vizier.amt.client.get_hit(HITId=hid)\n",
    "    hs = hr['HIT']['HITStatus']\n",
    "    hss[hid] = hs\n",
    "\n",
    "pd.Series(list(hss.values())).value_counts()\n",
    "\n",
    "assignable_hits = [{'HITId': k} for k, stat in hss.items() if stat=='Assignable']"
   ]
  },
  {
   "cell_type": "code",
   "execution_count": 159,
   "metadata": {
    "run_control": {
     "frozen": false,
     "read_only": false
    }
   },
   "outputs": [],
   "source": [
    "assignement_returned_df = pd.DataFrame(assignment_batch)"
   ]
  },
  {
   "cell_type": "code",
   "execution_count": 160,
   "metadata": {
    "run_control": {
     "frozen": false,
     "read_only": false
    }
   },
   "outputs": [],
   "source": [
    "assignement_returned_df.to_pickle('hitdata.pkl')"
   ]
  },
  {
   "cell_type": "code",
   "execution_count": 102,
   "metadata": {
    "run_control": {
     "frozen": false,
     "read_only": false
    }
   },
   "outputs": [
    {
     "data": {
      "text/plain": [
       "Reviewable    200\n",
       "dtype: int64"
      ]
     },
     "execution_count": 102,
     "metadata": {},
     "output_type": "execute_result"
    }
   ],
   "source": [
    "pd.Series(list(hss.values())).value_counts()"
   ]
  },
  {
   "cell_type": "code",
   "execution_count": 104,
   "metadata": {
    "run_control": {
     "frozen": false,
     "read_only": false
    }
   },
   "outputs": [],
   "source": [
    "# k, stat in hss.items():\n",
    "#     if stat='Assignable':\n",
    "#         print('expiring')\n",
    "#         vizier.amt.client."
   ]
  },
  {
   "cell_type": "code",
   "execution_count": 17,
   "metadata": {
    "run_control": {
     "frozen": false,
     "read_only": false
    }
   },
   "outputs": [],
   "source": [
    "hr = vizier.amt.client.get_hit(HITId=h1)"
   ]
  },
  {
   "cell_type": "code",
   "execution_count": 69,
   "metadata": {
    "run_control": {
     "frozen": false,
     "read_only": false
    }
   },
   "outputs": [],
   "source": [
    "dupe_aids = ['38JBBYETQPXHUECAYCGWMFTJFXD4EM', '3P1L2B7AD2CZ4DWKYII9D8P85M1LOP']"
   ]
  },
  {
   "cell_type": "code",
   "execution_count": 81,
   "metadata": {
    "run_control": {
     "frozen": false,
     "read_only": false
    }
   },
   "outputs": [],
   "source": [
    "all_submitted_aids = [r['Assignments'][0]['AssignmentId'] for r in latest_res]"
   ]
  },
  {
   "cell_type": "code",
   "execution_count": 83,
   "metadata": {
    "run_control": {
     "frozen": false,
     "read_only": false
    }
   },
   "outputs": [],
   "source": [
    "pd.Series(all_submitted_aids).to_pickle('submitted_aids.pkl')"
   ]
  },
  {
   "cell_type": "code",
   "execution_count": 79,
   "metadata": {
    "run_control": {
     "frozen": false,
     "read_only": false
    }
   },
   "outputs": [
    {
     "name": "stdout",
     "output_type": "stream",
     "text": [
      "{'NextToken': 'p1:Fw3fF6gYtYJjQTgCKn58p4G6XE8PaNNpQnwCB6E71TlVeSzHm7GUoP6qyq86Bw==', 'NumResults': 1, 'Assignments': [{'AssignmentId': '3P1L2B7AD2CZ4DWKYII9D8P85M1LOP', 'WorkerId': 'A8TLS2F8LFQ68', 'HITId': '34KYK9TV2RVZ3D47OK5MUQ7J97LSBO', 'AssignmentStatus': 'Submitted', 'AutoApprovalTime': datetime.datetime(2018, 7, 20, 5, 23, 3, tzinfo=tzlocal()), 'AcceptTime': datetime.datetime(2018, 7, 18, 5, 11, 35, tzinfo=tzlocal()), 'SubmitTime': datetime.datetime(2018, 7, 18, 5, 23, 3, tzinfo=tzlocal()), 'Answer': '<?xml version=\"1.0\" encoding=\"ASCII\"?><QuestionFormAnswers xmlns=\"http://mechanicalturk.amazonaws.com/AWSMechanicalTurkDataSchemas/2005-10-01/QuestionFormAnswers.xsd\"><Answer><QuestionIdentifier>output</QuestionIdentifier><FreeText/></Answer></QuestionFormAnswers>'}], 'ResponseMetadata': {'RequestId': '1b7fdfea-366b-4589-9a95-806a5e5c7894', 'HTTPStatusCode': 200, 'HTTPHeaders': {'x-amzn-requestid': '1b7fdfea-366b-4589-9a95-806a5e5c7894', 'content-type': 'application/x-amz-json-1.1', 'content-length': '632', 'date': 'Wed, 18 Jul 2018 18:42:45 GMT'}, 'RetryAttempts': 0}}\n"
     ]
    }
   ],
   "source": [
    "for r in latest_res:\n",
    "    if r['Assignments'][0]['AssignmentId'] in dupe_aids:\n",
    "        print(r)"
   ]
  },
  {
   "cell_type": "code",
   "execution_count": null,
   "metadata": {
    "run_control": {
     "frozen": false,
     "read_only": false
    }
   },
   "outputs": [],
   "source": []
  },
  {
   "cell_type": "code",
   "execution_count": null,
   "metadata": {
    "run_control": {
     "frozen": false,
     "read_only": false
    }
   },
   "outputs": [],
   "source": []
  },
  {
   "cell_type": "code",
   "execution_count": 25,
   "metadata": {
    "run_control": {
     "frozen": false,
     "read_only": false
    }
   },
   "outputs": [],
   "source": [
    "# vizier_retriever.pickle_this(assignment_batch, 'hit_data/prod_b9')"
   ]
  },
  {
   "cell_type": "code",
   "execution_count": 36,
   "metadata": {
    "run_control": {
     "frozen": false,
     "read_only": false
    }
   },
   "outputs": [],
   "source": [
    "updated_hits = [vizier.amt.client.get_hit(HITId=hit['HITId']) for hit in hit_batch]"
   ]
  },
  {
   "cell_type": "code",
   "execution_count": 47,
   "metadata": {
    "run_control": {
     "frozen": false,
     "read_only": false
    }
   },
   "outputs": [],
   "source": [
    "n_still_avail = pd.Series([uh['HIT']['NumberOfAssignmentsAvailable'] for uh in updated_hits])"
   ]
  },
  {
   "cell_type": "code",
   "execution_count": 51,
   "metadata": {
    "run_control": {
     "frozen": false,
     "read_only": false
    }
   },
   "outputs": [
    {
     "data": {
      "text/plain": [
       "0    12\n",
       "2     8\n",
       "1     8\n",
       "3     2\n",
       "dtype: int64"
      ]
     },
     "execution_count": 51,
     "metadata": {},
     "output_type": "execute_result"
    }
   ],
   "source": [
    "n_still_avail.value_counts()"
   ]
  },
  {
   "cell_type": "code",
   "execution_count": 120,
   "metadata": {
    "run_control": {
     "frozen": false,
     "read_only": false
    }
   },
   "outputs": [],
   "source": [
    "client = boto3.client('logs')"
   ]
  },
  {
   "cell_type": "code",
   "execution_count": 126,
   "metadata": {
    "run_control": {
     "frozen": false,
     "read_only": false
    }
   },
   "outputs": [],
   "source": [
    "logs = client.describe_log_groups()"
   ]
  },
  {
   "cell_type": "code",
   "execution_count": 45,
   "metadata": {
    "run_control": {
     "frozen": false,
     "read_only": false
    }
   },
   "outputs": [],
   "source": [
    "# for log in logs[\"logGroups\"]:\n",
    "#     print(log['logGroupName'])"
   ]
  },
  {
   "cell_type": "code",
   "execution_count": 25,
   "metadata": {
    "run_control": {
     "frozen": false,
     "read_only": false
    }
   },
   "outputs": [],
   "source": [
    "# client.describe_log_streams(logGroupName='/opt/vision-pictionary/log/output-0.log')"
   ]
  },
  {
   "cell_type": "markdown",
   "metadata": {
    "heading_collapsed": true,
    "run_control": {
     "frozen": false,
     "read_only": false
    }
   },
   "source": [
    "## 3.1 s3 sync experiment"
   ]
  },
  {
   "cell_type": "code",
   "execution_count": 138,
   "metadata": {
    "hidden": true,
    "run_control": {
     "frozen": false,
     "read_only": false
    }
   },
   "outputs": [],
   "source": [
    "import boto3"
   ]
  },
  {
   "cell_type": "code",
   "execution_count": 144,
   "metadata": {
    "hidden": true,
    "run_control": {
     "frozen": false,
     "read_only": false
    }
   },
   "outputs": [],
   "source": [
    "s3 = boto3.resource('s3')\n",
    "s3client = boto3.client('s3', )"
   ]
  },
  {
   "cell_type": "code",
   "execution_count": 198,
   "metadata": {
    "hidden": true,
    "run_control": {
     "frozen": false,
     "read_only": false
    }
   },
   "outputs": [],
   "source": [
    "vision_mturk_bucket = 'ai2-vision-mturk'\n",
    "project_folder = 'iconary/'\n",
    "project_subfolder = 'hits/'"
   ]
  },
  {
   "cell_type": "code",
   "execution_count": null,
   "metadata": {
    "hidden": true,
    "run_control": {
     "frozen": false,
     "read_only": false
    }
   },
   "outputs": [],
   "source": [
    "s3client.create_multipart_upload()"
   ]
  },
  {
   "cell_type": "code",
   "execution_count": 199,
   "metadata": {
    "hidden": true,
    "run_control": {
     "frozen": false,
     "read_only": false
    }
   },
   "outputs": [],
   "source": [
    "def create_folder(client, **kwargs):\n",
    "    response = client.put_object(\n",
    "        Bucket=kwargs.get('bucket', ''),\n",
    "        Body='',\n",
    "        Key=kwargs.get('new_folder', ''))\n",
    "    return response"
   ]
  },
  {
   "cell_type": "code",
   "execution_count": 200,
   "metadata": {
    "hidden": true,
    "run_control": {
     "frozen": false,
     "read_only": false
    }
   },
   "outputs": [
    {
     "data": {
      "text/plain": [
       "{'ETag': '\"d41d8cd98f00b204e9800998ecf8427e\"',\n",
       " 'ResponseMetadata': {'HTTPHeaders': {'content-length': '0',\n",
       "   'date': 'Fri, 18 May 2018 21:29:10 GMT',\n",
       "   'etag': '\"d41d8cd98f00b204e9800998ecf8427e\"',\n",
       "   'server': 'AmazonS3',\n",
       "   'x-amz-id-2': 'Dks+mbNHlew3Uo//ElBPdgAFMIhSrgIhVVso/cFlgTDDYTvjlEGnhS6LFqiaZo85fjeVknxZdgw=',\n",
       "   'x-amz-request-id': '555EADB56068AD65'},\n",
       "  'HTTPStatusCode': 200,\n",
       "  'HostId': 'Dks+mbNHlew3Uo//ElBPdgAFMIhSrgIhVVso/cFlgTDDYTvjlEGnhS6LFqiaZo85fjeVknxZdgw=',\n",
       "  'RequestId': '555EADB56068AD65',\n",
       "  'RetryAttempts': 0}}"
      ]
     },
     "execution_count": 200,
     "metadata": {},
     "output_type": "execute_result"
    }
   ],
   "source": [
    "create_folder(s3client, bucket=vision_mturk_bucket, new_folder=project_folder + project_folder)"
   ]
  },
  {
   "cell_type": "code",
   "execution_count": 177,
   "metadata": {
    "hidden": true,
    "run_control": {
     "frozen": false,
     "read_only": false
    }
   },
   "outputs": [],
   "source": [
    "response = s3client.list_buckets(key=vision_mturk_bucket)"
   ]
  },
  {
   "cell_type": "code",
   "execution_count": 165,
   "metadata": {
    "hidden": true,
    "run_control": {
     "frozen": false,
     "read_only": false
    }
   },
   "outputs": [],
   "source": [
    "all_objects = s3client.list_objects(Bucket=vision_mturk_bucket, Prefix='dipart-10') "
   ]
  },
  {
   "cell_type": "code",
   "execution_count": 158,
   "metadata": {
    "hidden": true,
    "run_control": {
     "frozen": false,
     "read_only": false
    }
   },
   "outputs": [],
   "source": [
    "def folders(client, bucket, prefix=''):\n",
    "    paginator = client.get_paginator('list_objects')\n",
    "    for result in paginator.paginate(Bucket=bucket, Prefix=prefix, Delimiter='/'):\n",
    "        for prefix in result.get('CommonPrefixes', []):\n",
    "            yield prefix.get('Prefix')"
   ]
  },
  {
   "cell_type": "code",
   "execution_count": 190,
   "metadata": {
    "hidden": true,
    "run_control": {
     "frozen": false,
     "read_only": false
    }
   },
   "outputs": [],
   "source": [
    "pdat = pickle.dumps('test pickled data')\n",
    "test_data = io.BytesIO(pdat)"
   ]
  },
  {
   "cell_type": "code",
   "execution_count": 191,
   "metadata": {
    "hidden": true,
    "run_control": {
     "frozen": false,
     "read_only": false
    }
   },
   "outputs": [],
   "source": [
    "import io"
   ]
  },
  {
   "cell_type": "code",
   "execution_count": null,
   "metadata": {
    "hidden": true,
    "run_control": {
     "frozen": false,
     "read_only": false
    }
   },
   "outputs": [],
   "source": [
    "test_data"
   ]
  },
  {
   "cell_type": "code",
   "execution_count": 192,
   "metadata": {
    "hidden": true,
    "run_control": {
     "frozen": false,
     "read_only": false
    }
   },
   "outputs": [],
   "source": [
    "s3client.upload_fileobj(test_data, vision_mturk_bucket, project_folder + 'test.pkl')"
   ]
  },
  {
   "cell_type": "code",
   "execution_count": 196,
   "metadata": {
    "hidden": true,
    "run_control": {
     "frozen": false,
     "read_only": false
    }
   },
   "outputs": [],
   "source": [
    "with open('/Users/schwenk/Downloads/test.pkl', 'rb') as f:\n",
    "    dd = pickle.load(f)"
   ]
  },
  {
   "cell_type": "code",
   "execution_count": 183,
   "metadata": {
    "hidden": true,
    "run_control": {
     "frozen": false,
     "read_only": false
    }
   },
   "outputs": [
    {
     "data": {
      "text/plain": [
       "['dipart-10/',\n",
       " 'dqa_matching_images/',\n",
       " 'iconary/',\n",
       " 'tqa-matching/',\n",
       " 'tqa-matching2/']"
      ]
     },
     "execution_count": 183,
     "metadata": {},
     "output_type": "execute_result"
    }
   ],
   "source": [
    "gen_folders = folders(s3client,  vision_mturk_bucket)\n",
    "list(gen_folders)"
   ]
  },
  {
   "cell_type": "code",
   "execution_count": 170,
   "metadata": {
    "hidden": true,
    "run_control": {
     "frozen": false,
     "read_only": false
    }
   },
   "outputs": [
    {
     "data": {
      "text/plain": [
       "['tqa-matching/', 'tqa-matching2/']"
      ]
     },
     "execution_count": 170,
     "metadata": {},
     "output_type": "execute_result"
    }
   ],
   "source": [
    "gen_subfolders = folders(s3client, vision_mturk_bucket, prefix='tqa-matching')\n",
    "list(gen_subfolders)"
   ]
  },
  {
   "cell_type": "code",
   "execution_count": 148,
   "metadata": {
    "hidden": true,
    "run_control": {
     "frozen": false,
     "read_only": false
    }
   },
   "outputs": [
    {
     "name": "stdout",
     "output_type": "stream",
     "text": [
      "ai2\n",
      "ai2-ackbar\n",
      "ai2-aristo-demo-cloudfront-logs\n",
      "ai2-aristo-diagramparses\n",
      "ai2-aristo-elasticsearch\n",
      "ai2-aristo-evaluations\n",
      "ai2-aristo-experiments\n",
      "ai2-aws-billing\n",
      "ai2-aws-configs\n",
      "ai2-backup\n",
      "ai2-beaker\n",
      "ai2-certify\n",
      "ai2-dericka\n",
      "ai2-ek-test\n",
      "ai2-environments\n",
      "ai2-euclid\n",
      "ai2-euclid-im2txt\n",
      "ai2-euclid-public\n",
      "ai2-euclid-tasks\n",
      "ai2-euclid-turk\n",
      "ai2-evaluation-cli\n",
      "ai2-evaluation-framework-backups\n",
      "ai2-fluent-logs\n",
      "ai2-git-annex\n",
      "ai2-incubator\n",
      "ai2-infrastructure\n",
      "ai2-lambda\n",
      "ai2-levan\n",
      "ai2-logs\n",
      "ai2-longterm-glacier\n",
      "ai2-matthewp\n",
      "ai2-michaels\n",
      "ai2-michalg\n",
      "ai2-misc\n",
      "ai2-mohiti\n",
      "ai2-openie\n",
      "ai2-ops-cloudtrail\n",
      "ai2-ops-transfer\n",
      "ai2-oqa\n",
      "ai2-oyvindt\n",
      "ai2-packages\n",
      "ai2-papertrail-backup\n",
      "ai2-public-websites\n",
      "ai2-research-git-annex\n",
      "ai2-s2\n",
      "ai2-s2-analytics\n",
      "ai2-s2-anansi\n",
      "ai2-s2-athena-elb-log\n",
      "ai2-s2-banner-ads\n",
      "ai2-s2-blacklisted-pdfs\n",
      "ai2-s2-brendanr\n",
      "ai2-s2-build\n",
      "ai2-s2-citeomatic\n",
      "ai2-s2-citeseer\n",
      "ai2-s2-cloudfront-access-logs\n",
      "ai2-s2-crawler\n",
      "ai2-s2-data\n",
      "ai2-s2-data-incremental\n",
      "ai2-s2-datateam\n",
      "ai2-s2-deepfigures\n",
      "ai2-s2-dev\n",
      "ai2-s2-dev-joannap\n",
      "ai2-s2-dirkgr\n",
      "ai2-s2-emails\n",
      "ai2-s2-entities\n",
      "ai2-s2-es-backups\n",
      "ai2-s2-extraction-cache\n",
      "ai2-s2-figure-extraction-cache\n",
      "ai2-s2-figure-extraction-output\n",
      "ai2-s2-fs-root\n",
      "ai2-s2-gatling\n",
      "ai2-s2-grobid-cache\n",
      "ai2-s2-grobid-failed-extracts\n",
      "ai2-s2-grobid-output\n",
      "ai2-s2-hackathon-user-submitted-pdf\n",
      "ai2-s2-hsuo\n",
      "ai2-s2-jar-deploy\n",
      "ai2-s2-jason-wolfe\n",
      "ai2-s2-jasond\n",
      "ai2-s2-lambda-functions\n",
      "ai2-s2-loadbalancer-logs\n",
      "ai2-s2-logs\n",
      "ai2-s2-mock-data\n",
      "ai2-s2-online\n",
      "ai2-s2-paper-html\n",
      "ai2-s2-pdf-access-logs\n",
      "ai2-s2-pdfs\n",
      "ai2-s2-pdfs-private\n",
      "ai2-s2-pipeline\n",
      "ai2-s2-private\n",
      "ai2-s2-production-us-west-2a-elb-access-logs\n",
      "ai2-s2-public\n",
      "ai2-s2-regan\n",
      "ai2-s2-research\n",
      "ai2-s2-research-efs-backup\n",
      "ai2-s2-research-public\n",
      "ai2-s2-research-python-index\n",
      "ai2-s2-russellp\n",
      "ai2-s2-sams\n",
      "ai2-s2-scienceparse\n",
      "ai2-s2-scigraph\n",
      "ai2-s2-secure\n",
      "ai2-s2-sergey-feldman\n",
      "ai2-s2-sourcedata\n",
      "ai2-s2-spark-cluster\n",
      "ai2-s2-test-bucket\n",
      "ai2-s2-test-socialdata\n",
      "ai2-s2-test-socialdata2\n",
      "ai2-s2-tmp\n",
      "ai2-s2-unittest-anansi\n",
      "ai2-s2-user-submitted-pdfs\n",
      "ai2-secure\n",
      "ai2-spark\n",
      "ai2-terraform-state-storage\n",
      "ai2-thor\n",
      "ai2-tools\n",
      "ai2-vision\n",
      "ai2-vision-ai2d-models\n",
      "ai2-vision-ai2d-models-backup\n",
      "ai2-vision-ai2d-models-eccv-split\n",
      "ai2-vision-animation-gan\n",
      "ai2-vision-artifacts\n",
      "ai2-vision-challenge2017\n",
      "ai2-vision-chart\n",
      "ai2-vision-datasets\n",
      "ai2-vision-deployments\n",
      "ai2-vision-diagram-classifier\n",
      "ai2-vision-diagram-detections\n",
      "ai2-vision-flickr\n",
      "ai2-vision-hackathon-gauges\n",
      "ai2-vision-imagenet-models\n",
      "ai2-vision-interviews\n",
      "ai2-vision-models\n",
      "ai2-vision-mturk\n",
      "ai2-vision-ocr\n",
      "ai2-vision-oxford\n",
      "ai2-vision-packages\n",
      "ai2-vision-pictionary\n",
      "ai2-vision-pictionary-turk\n",
      "ai2-vision-pqa\n",
      "ai2-vision-robosims\n",
      "ai2-vision-semaphore-packages\n",
      "ai2-vision-snapfs-data\n",
      "ai2-vision-snapfs-snapshots\n",
      "ai2-vision-table-hackathon\n",
      "ai2-vision-table-hackathon-data\n",
      "ai2-vision-table-hackathon-data-prod\n",
      "ai2-vision-table-hackathon-data-prod2\n",
      "ai2-vision-table-hackathon-data-prod3\n",
      "ai2-vision-tableparse\n",
      "ai2-vision-textbook-dataset\n",
      "ai2-vision-tqa-exp\n",
      "ai2-vision-tqa-models\n",
      "ai2-vision-turk-data\n",
      "ai2-vision-vicente\n",
      "ai2-website\n",
      "ai2-website-logs\n",
      "allennlp\n",
      "amosn-ai2\n",
      "archive-ai2-s2-pdfs\n",
      "aristo-data\n",
      "aristo-elasticsearch\n",
      "aristo-eng\n",
      "aristo-mln\n",
      "aristo-mturk\n",
      "aristo-public-data\n",
      "aristo-quiz\n",
      "aristo-quiz-logs\n",
      "aristo-scitail\n",
      "aristo-skidls\n",
      "assets.semanticscholar.org\n",
      "aws-athena-query-results-896129387501-us-west-2\n",
      "aws-ice-bucket\n",
      "aws-logs-896129387501-us-west-2\n",
      "banner.semanticscholar.org\n",
      "certify.allenai.org\n",
      "cf-templates-ulfuni3lg9fj-us-west-2\n",
      "chloea-kube\n",
      "codepipeline-us-west-2-967906829867\n",
      "data.allenai.org\n",
      "data.allenai.org-access-logs\n",
      "ecs-deep-learning-stack-outputbucket-gvciy1zx3z7p\n",
      "elasticbeanstalk-us-west-2-896129387501\n",
      "flintstones-dataset-dev-rev\n",
      "flintstones-dataset-dev-rev-v3\n",
      "halo-linked-open-data\n",
      "infra-cloudformation-templates\n",
      "infra-s2-es-snapshot\n",
      "infrastructure-kube\n",
      "ingmar-kube\n",
      "jayantk-hackathon\n",
      "jayantk-paper-results\n",
      "jessek-kube\n",
      "mattg-pipeline-tmp\n",
      "medline-brandon-test\n",
      "milesc\n",
      "ms-crawl-dev\n",
      "ms-pipeline-temp\n",
      "ops-keystore\n",
      "private.store.dev.allenai.org\n",
      "public.store.dev.allenai.org\n",
      "s2-beta-elb-access-logs\n",
      "s2-email-alerts\n",
      "s2-interview\n",
      "s2-jvms\n",
      "s2-online-cloudformation-templates\n",
      "s2-online-deployment-artifacts\n",
      "s2-online-features\n",
      "s2-online-loadtest-deployment-artifacts\n",
      "s2-prod-frontend-alb-access-logs\n",
      "textbookqa-explorer\n",
      "tmp-ai2-upload\n",
      "topic-based-aristo\n",
      "vulcan-505codearc\n",
      "vulcan-st_helens\n",
      "www.data.allenai.org\n"
     ]
    }
   ],
   "source": [
    "for bucket in response[\"Buckets\"]:\n",
    "    print(bucket['Name'])"
   ]
  },
  {
   "cell_type": "code",
   "execution_count": null,
   "metadata": {
    "hidden": true,
    "run_control": {
     "frozen": false,
     "read_only": false
    }
   },
   "outputs": [],
   "source": []
  },
  {
   "cell_type": "code",
   "execution_count": null,
   "metadata": {
    "hidden": true,
    "run_control": {
     "frozen": false,
     "read_only": false
    }
   },
   "outputs": [],
   "source": []
  },
  {
   "cell_type": "markdown",
   "metadata": {
    "heading_collapsed": true
   },
   "source": [
    "# 4. approve"
   ]
  },
  {
   "cell_type": "code",
   "execution_count": 32,
   "metadata": {
    "hidden": true,
    "run_control": {
     "frozen": false,
     "read_only": false
    }
   },
   "outputs": [
    {
     "name": "stdout",
     "output_type": "stream",
     "text": [
      "Account balance is: $2616.14\n"
     ]
    }
   ],
   "source": [
    "client_params = {\n",
    "    'profile_name': 'mturk_vision',\n",
    "    'in_production': True,\n",
    "    'n_threads': 1,\n",
    "    's3_base_path': '',\n",
    "}\n",
    "vizier_retriever = Vizier(**client_params)"
   ]
  },
  {
   "cell_type": "code",
   "execution_count": 33,
   "metadata": {
    "hidden": true,
    "run_control": {
     "frozen": false,
     "read_only": false
    },
    "scrolled": false
   },
   "outputs": [],
   "source": [
    "# dels_resp = vizier.force_delete_hits(all_sbx_hits)"
   ]
  },
  {
   "cell_type": "code",
   "execution_count": 135,
   "metadata": {
    "hidden": true,
    "run_control": {
     "frozen": false,
     "read_only": false
    }
   },
   "outputs": [],
   "source": [
    "# _ = vizier_retriever.set_hits_reviewing(all_sbx_hits)"
   ]
  },
  {
   "cell_type": "code",
   "execution_count": null,
   "metadata": {
    "hidden": true,
    "run_control": {
     "frozen": false,
     "read_only": false
    }
   },
   "outputs": [],
   "source": []
  },
  {
   "cell_type": "code",
   "execution_count": 136,
   "metadata": {
    "hidden": true,
    "run_control": {
     "frozen": false,
     "read_only": false
    }
   },
   "outputs": [],
   "source": [
    "_ = vizier_retriever.approve_hits(all_sbx_hits)"
   ]
  },
  {
   "cell_type": "code",
   "execution_count": 105,
   "metadata": {
    "hidden": true,
    "run_control": {
     "frozen": false,
     "read_only": false
    }
   },
   "outputs": [],
   "source": [
    "# vizier.pickle_this(all_hits, 'all_prod_hits_5_21.pkl')"
   ]
  },
  {
   "cell_type": "code",
   "execution_count": 137,
   "metadata": {
    "hidden": true,
    "run_control": {
     "frozen": false,
     "read_only": false
    }
   },
   "outputs": [],
   "source": [
    "# vizier_retriever.delete_hits(all_sbx_hits)"
   ]
  },
  {
   "cell_type": "code",
   "execution_count": 20,
   "metadata": {
    "hidden": true,
    "run_control": {
     "frozen": false,
     "read_only": false
    }
   },
   "outputs": [],
   "source": [
    "trial_hit_batch = [h for h in all_hits if h['Title'] == static_params['Title']]"
   ]
  },
  {
   "cell_type": "code",
   "execution_count": 21,
   "metadata": {
    "hidden": true,
    "run_control": {
     "frozen": false,
     "read_only": false
    }
   },
   "outputs": [
    {
     "data": {
      "text/plain": [
       "400"
      ]
     },
     "execution_count": 21,
     "metadata": {},
     "output_type": "execute_result"
    }
   ],
   "source": [
    "len(trial_hit_batch)"
   ]
  },
  {
   "cell_type": "code",
   "execution_count": 73,
   "metadata": {
    "hidden": true,
    "run_control": {
     "frozen": false,
     "read_only": false
    }
   },
   "outputs": [],
   "source": [
    "# mt_client.approve_assignments()"
   ]
  },
  {
   "cell_type": "markdown",
   "metadata": {
    "heading_collapsed": true,
    "run_control": {
     "frozen": false,
     "read_only": false
    }
   },
   "source": [
    "# 5. assign qaulification"
   ]
  },
  {
   "cell_type": "code",
   "execution_count": 16,
   "metadata": {
    "hidden": true,
    "run_control": {
     "frozen": false,
     "read_only": false
    }
   },
   "outputs": [],
   "source": [
    "workers_to_qualify = pd.read_csv('first_qualified_workers.csv', header=None)[0].tolist()"
   ]
  },
  {
   "cell_type": "code",
   "execution_count": 17,
   "metadata": {
    "hidden": true,
    "run_control": {
     "frozen": false,
     "read_only": false
    }
   },
   "outputs": [
    {
     "data": {
      "text/plain": [
       "184"
      ]
     },
     "execution_count": 17,
     "metadata": {},
     "output_type": "execute_result"
    }
   ],
   "source": [
    "len(workers_to_qualify)"
   ]
  },
  {
   "cell_type": "code",
   "execution_count": 66,
   "metadata": {
    "hidden": true,
    "run_control": {
     "frozen": false,
     "read_only": false
    }
   },
   "outputs": [],
   "source": [
    "iconary_qualification = {\n",
    "    'Name': 'Iconary qualifification',\n",
    "    'Keywords': 'ai2, vision, iconary, pictionary',\n",
    "    'Description': 'Qualified to play Iconary as both drawer and guesser.',\n",
    "    'QualificationTypeStatus': 'Active',\n",
    "}"
   ]
  },
  {
   "cell_type": "code",
   "execution_count": 67,
   "metadata": {
    "hidden": true,
    "run_control": {
     "frozen": false,
     "read_only": false
    }
   },
   "outputs": [],
   "source": [
    "qual_resp = vizier.create_qualification(**iconary_qualification)"
   ]
  },
  {
   "cell_type": "code",
   "execution_count": 68,
   "metadata": {
    "hidden": true,
    "run_control": {
     "frozen": false,
     "read_only": false
    }
   },
   "outputs": [],
   "source": [
    "with open('iconary_qual', 'wb') as f:\n",
    "    pickle.dump(qual_resp, f)"
   ]
  },
  {
   "cell_type": "code",
   "execution_count": 69,
   "metadata": {
    "hidden": true,
    "run_control": {
     "frozen": false,
     "read_only": false
    }
   },
   "outputs": [],
   "source": [
    "qual_id = qual_resp['QualificationType']['QualificationTypeId']"
   ]
  },
  {
   "cell_type": "code",
   "execution_count": 107,
   "metadata": {
    "hidden": true,
    "run_control": {
     "frozen": false,
     "read_only": false
    }
   },
   "outputs": [
    {
     "data": {
      "text/plain": [
       "'3Z1HL5WC7LSXUFW49BUXR7ZP1IDH6M'"
      ]
     },
     "execution_count": 107,
     "metadata": {},
     "output_type": "execute_result"
    }
   ],
   "source": [
    "qual_id"
   ]
  },
  {
   "cell_type": "code",
   "execution_count": 5,
   "metadata": {
    "hidden": true,
    "run_control": {
     "frozen": false,
     "read_only": false
    }
   },
   "outputs": [],
   "source": [
    "my_worker_id = 'ATRVCA186WV1B'"
   ]
  },
  {
   "cell_type": "code",
   "execution_count": 61,
   "metadata": {
    "hidden": true,
    "run_control": {
     "frozen": false,
     "read_only": false
    }
   },
   "outputs": [],
   "source": [
    "underperforming_workers = ['A29VL3MZE7YPBZ', 'A2ZZW6KME1FUDU', 'AGX171Q54YXPI']"
   ]
  },
  {
   "cell_type": "code",
   "execution_count": null,
   "metadata": {
    "hidden": true,
    "run_control": {
     "frozen": false,
     "read_only": false
    }
   },
   "outputs": [],
   "source": []
  },
  {
   "cell_type": "code",
   "execution_count": null,
   "metadata": {
    "hidden": true,
    "run_control": {
     "frozen": false,
     "read_only": false
    }
   },
   "outputs": [],
   "source": []
  },
  {
   "cell_type": "markdown",
   "metadata": {
    "heading_collapsed": true
   },
   "source": [
    "# 6. message workers"
   ]
  },
  {
   "cell_type": "code",
   "execution_count": 85,
   "metadata": {
    "hidden": true,
    "run_control": {
     "frozen": false,
     "read_only": false
    }
   },
   "outputs": [],
   "source": [
    "message_subject = 'New related task- Viconary'\n",
    "message_body = \"\"\"\n",
    "Hello,\n",
    "\n",
    "Thanks for your effort on the last round of viconary.\n",
    "\n",
    "The last batch of drawings were an improvement, but we still think many drawings can be even simpler.\n",
    "\n",
    "We've made some new examples to explain what we're going for- http://viconary.allenai.org/examples.html\n",
    "\n",
    "These examples are also linked from the instructions page, if you'd like to refer to them there.\n",
    "\n",
    "We're submitting another test batch this afternoon if you'd like to give these a try.\n",
    "\n",
    "-Vision AI2\n",
    "\"\"\""
   ]
  },
  {
   "cell_type": "code",
   "execution_count": 86,
   "metadata": {
    "hidden": true,
    "run_control": {
     "frozen": false,
     "read_only": false
    }
   },
   "outputs": [],
   "source": [
    "test_worker_id = pd.read_pickle('viconary_first_test_wids.pkl').tolist()"
   ]
  },
  {
   "cell_type": "code",
   "execution_count": 22,
   "metadata": {
    "hidden": true,
    "run_control": {
     "frozen": false,
     "read_only": false
    }
   },
   "outputs": [],
   "source": [
    "# with open('active_workers.pkl', 'rb') as f:\n",
    "#     active_workers = pickle.load(f)\n",
    "# len(active_workers)"
   ]
  },
  {
   "cell_type": "code",
   "execution_count": 88,
   "metadata": {
    "hidden": true,
    "run_control": {
     "frozen": false,
     "read_only": false
    }
   },
   "outputs": [],
   "source": [
    "msg_resp = vizier.message_workers(test_worker_id, message_subject, message_body)"
   ]
  },
  {
   "cell_type": "code",
   "execution_count": null,
   "metadata": {
    "hidden": true,
    "run_control": {
     "frozen": false,
     "read_only": false
    }
   },
   "outputs": [],
   "source": []
  }
 ],
 "metadata": {
  "kernelspec": {
   "display_name": "Python 3",
   "language": "python",
   "name": "python3"
  },
  "language_info": {
   "codemirror_mode": {
    "name": "ipython",
    "version": 3
   },
   "file_extension": ".py",
   "mimetype": "text/x-python",
   "name": "python",
   "nbconvert_exporter": "python",
   "pygments_lexer": "ipython3",
   "version": "3.7.0"
  }
 },
 "nbformat": 4,
 "nbformat_minor": 1
}
