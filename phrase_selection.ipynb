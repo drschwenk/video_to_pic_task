{
 "cells": [
  {
   "cell_type": "markdown",
   "metadata": {
    "heading_collapsed": true
   },
   "source": [
    "# 1. Imports"
   ]
  },
  {
   "cell_type": "code",
   "execution_count": 22,
   "metadata": {
    "hidden": true,
    "run_control": {
     "frozen": false,
     "read_only": false
    }
   },
   "outputs": [],
   "source": [
    "%%capture\n",
    "from __future__ import division\n",
    "import numpy as np\n",
    "import pandas as pd\n",
    "import scipy.stats as st\n",
    "import itertools\n",
    "import math\n",
    "from collections import Counter, defaultdict\n",
    "%load_ext autoreload\n",
    "%autoreload 2\n",
    "\n",
    "from copy import deepcopy\n",
    "import pickle\n",
    "import os\n",
    "import json\n",
    "from tqdm import tqdm\n",
    "from tqdm import tqdm_notebook\n",
    "\n",
    "from IPython.display import Image\n",
    "import PIL.Image as pil\n",
    "import random\n",
    "import matplotlib as mpl\n",
    "mpl.use(\"Agg\")\n",
    "import matplotlib.pylab as plt\n",
    "#%matplotlib notebook\n",
    "%matplotlib inline\n",
    "%load_ext base16_mplrc\n",
    "%base16_mplrc light solarized\n",
    "#%base16_mplrc dark solarized\n",
    "plt.rcParams['grid.linewidth'] = 0\n",
    "plt.rcParams['figure.figsize'] = (16.0, 10.0)\n",
    "\n",
    "import phrase_selection.filter_coco as fc\n"
   ]
  },
  {
   "cell_type": "markdown",
   "metadata": {
    "heading_collapsed": true
   },
   "source": [
    "# 2. Penn Tree bank reference"
   ]
  },
  {
   "cell_type": "markdown",
   "metadata": {
    "heading_collapsed": true,
    "hidden": true
   },
   "source": [
    "## 2.1 Bracket Labels"
   ]
  },
  {
   "cell_type": "markdown",
   "metadata": {
    "hidden": true
   },
   "source": [
    "### 2.1.1 Clause Level"
   ]
  },
  {
   "cell_type": "markdown",
   "metadata": {
    "hidden": true
   },
   "source": [
    "S - simple declarative clause, i.e. one that is not introduced by a (possible empty) subordinating conjunction or a wh-word and that does not exhibit subject-verb inversion.\n",
    "\n",
    "SBAR - Clause introduced by a (possibly empty) subordinating conjunction.\n",
    "\n",
    "SBARQ - Direct question introduced by a wh-word or a wh-phrase. Indirect questions and relative clauses should be bracketed as SBAR, not SBARQ.\n",
    "\n",
    "SINV - Inverted declarative sentence, i.e. one in which the subject follows the tensed verb or modal.\n",
    "\n",
    "SQ - Inverted yes/no question, or main clause of a wh-question, following the wh-phrase in SBARQ."
   ]
  },
  {
   "cell_type": "markdown",
   "metadata": {
    "hidden": true
   },
   "source": [
    "### 2.1.2 Phrase Level"
   ]
  },
  {
   "cell_type": "markdown",
   "metadata": {
    "hidden": true
   },
   "source": [
    "ADJP - Adjective Phrase.\n",
    "\n",
    "ADVP - Adverb Phrase.\n",
    "\n",
    "CONJP - Conjunction Phrase.\n",
    "\n",
    "FRAG - Fragment.\n",
    "\n",
    "INTJ - Interjection. Corresponds approximately to the part-of-speech tag UH.\n",
    "\n",
    "LST - List marker. Includes surrounding punctuation.\n",
    "\n",
    "NAC - Not a Constituent; used to show the scope of certain prenominal modifiers within an NP.\n",
    "\n",
    "NP - Noun Phrase. \n",
    "\n",
    "NX - Used within certain complex NPs to mark the head of the NP. Corresponds very roughly to N-bar level but used quite differently.\n",
    "\n",
    "PP - Prepositional Phrase.\n",
    "\n",
    "PRN - Parenthetical. \n",
    "\n",
    "PRT - Particle. Category for words that should be tagged RP. \n",
    "\n",
    "QP - Quantifier Phrase (i.e. complex measure/amount phrase); used within NP.\n",
    "\n",
    "RRC - Reduced Relative Clause. \n",
    "\n",
    "UCP - Unlike Coordinated Phrase. \n",
    "\n",
    "VP - Vereb Phrase. \n",
    "\n",
    "WHADJP - Wh-adjective Phrase. Adjectival phrase containing a wh-adverb, as in how hot.\n",
    "\n",
    "WHAVP - Wh-adverb Phrase. Introduces a clause with an NP gap. May be null (containing the 0 complementizer) or lexical, containing a wh-adverb such as how or why.\n",
    "\n",
    "WHNP - Wh-noun Phrase. Introduces a clause with an NP gap. May be null (containing the 0 complementizer) or lexical, containing some wh-word, e.g. who, which book, whose daughter, none of which, or how many leopards.\n",
    "\n",
    "WHPP - Wh-prepositional Phrase. Prepositional phrase containing a wh-noun phrase (such as of which or by whose authority) that either introduces a PP gap or is contained by a WHNP.\n",
    "\n",
    "X - Unknown, uncertain, or unbracketable. X is often used for bracketing typos and in bracketing the...the-constructions."
   ]
  },
  {
   "cell_type": "markdown",
   "metadata": {
    "hidden": true
   },
   "source": [
    "### 2.1.3 Word level"
   ]
  },
  {
   "cell_type": "markdown",
   "metadata": {
    "hidden": true
   },
   "source": [
    "CC - Coordinating conjunction\n",
    "\n",
    "CD - Cardinal number\n",
    "\n",
    "DT - Determiner\n",
    "\n",
    "EX - Existential there\n",
    "\n",
    "FW - Foreign word\n",
    "\n",
    "IN - Preposition or subordinating conjunction\n",
    "\n",
    "JJ - Adjective\n",
    "\n",
    "JJR - Adjective, comparative\n",
    "\n",
    "JJS - Adjective, superlative\n",
    "\n",
    "LS - List item marker\n",
    "\n",
    "MD - Modal\n",
    "\n",
    "NN - Noun, singular or mass\n",
    "\n",
    "NNS - Noun, plural\n",
    "\n",
    "NNP - Proper noun, singular\n",
    "\n",
    "NNPS - Proper noun, plural\n",
    "\n",
    "PDT - Predeterminer\n",
    "\n",
    "POS - Possessive ending\n",
    "\n",
    "PRP - Personal pronoun\n",
    "\n",
    "PRP$ - Possessive pronoun (prolog version PRP-S)\n",
    "\n",
    "RB - Adverb\n",
    "\n",
    "RBR - Adverb, comparative\n",
    "\n",
    "RBS - Adverb, superlative\n",
    "\n",
    "RP - Particle\n",
    "\n",
    "SYM - Symbol\n",
    "\n",
    "TO - to\n",
    "\n",
    "UH - Interjection\n",
    "\n",
    "VB - Verb, base form\n",
    "\n",
    "VBD - Verb, past tense\n",
    "\n",
    "VBG - Verb, gerund or present participle\n",
    "\n",
    "VBN - Verb, past participle\n",
    "\n",
    "VBP - Verb, non-3rd person singular present\n",
    "\n",
    "VBZ - Verb, 3rd person singular present\n",
    "\n",
    "WDT - Wh-determiner\n",
    "\n",
    "WP - Wh-pronoun\n",
    "\n",
    "WP$ - Possessive wh-pronoun (prolog version WP-S)\n",
    "\n",
    "WRB - Wh-adverb"
   ]
  },
  {
   "cell_type": "markdown",
   "metadata": {
    "heading_collapsed": true,
    "hidden": true
   },
   "source": [
    "## 2.2 Function tags"
   ]
  },
  {
   "cell_type": "markdown",
   "metadata": {
    "hidden": true
   },
   "source": [
    "### 2.2.1 Grammatical role"
   ]
  },
  {
   "cell_type": "markdown",
   "metadata": {
    "hidden": true
   },
   "source": [
    "-DTV (dative) - marks the dative object in the unshifted form of the double object construction. If the preposition introducing the \"dative\" object is for, it is considered benefactive (-BNF). -DTV (and -BNF) is only used after verbs that can undergo dative shift.\n",
    "\n",
    "-LGS (logical subject) - is used to mark the logical subject in passives. It attaches to the NP object of by and not to the PP node itself.\n",
    "\n",
    "-PRD (predicate) - marks any predicate that is not VP. In the do so construction, the so is annotated as a predicate.\n",
    "\n",
    "-PUT - marks the locative complement of put. \n",
    "\n",
    "-SBJ (surface subject) - marks the structural surface subject of both matrix and embedded clauses, including those with null subjects.\n",
    "\n",
    "-TPC (\"topicalized\") - marks elements that appear before the subject in a declarative sentence, but in two cases only:\n",
    "\n",
    "if the front element is associated with a *T* in the position of the gap.\n",
    "\n",
    "if the fronted element is left-dislocated (i.e. it is associated with a resumptive pronoun in the position of the gap).\n",
    "\n",
    "-VOC (vocative) - marks nouns of address, regardless of their position in the sentence. It is not coindexed to the subject and not get -TPC when it is sentence-initial."
   ]
  },
  {
   "cell_type": "markdown",
   "metadata": {
    "hidden": true
   },
   "source": [
    "### 2.2.2 Adverbials"
   ]
  },
  {
   "cell_type": "markdown",
   "metadata": {
    "hidden": true
   },
   "source": [
    "Adverbials are generally VP adjuncts.\n",
    "\n",
    "\n",
    "\n",
    "-BNF (benefactive) - marks the beneficiary of an action (attaches to NP or PP). \n",
    "\n",
    "This tag is used only when (1) the verb can undergo dative shift and (2) the prepositional variant (with the same meaning) uses for. The prepositional objects of dative-shifting verbs with other prepositions than for (such as to or of) are annotated -DTV.\n",
    "\n",
    "-DIR (direction) - marks adverbials that answer the questions \"from where?\" and \"to where?\" It implies motion, which can be metaphorical as in \"...rose 5 pts. to 57-1/2\" or \"increased 70% to 5.8 billion yen\" -DIR is most often used with verbs of motion/transit and financial verbs.\n",
    "\n",
    "-EXT (extent) - marks adverbial phrases that describe the spatial extent of an activity. -EXT was incorporated primarily for cases of movement in financial space, but is also used in analogous situations elsewhere. Obligatory complements do not receive -EXT. Words such as fully and completely are absolutes and do not receive -EXT. \n",
    "\n",
    "-LOC (locative) - marks adverbials that indicate place/setting of the event. -LOC may also indicate metaphorical location. There is likely to be some varation in the use of -LOC due to differing annotator interpretations. In cases where the annotator is faced with a choice between -LOC or -TMP, the default is -LOC. In cases involving SBAR, SBAR should not receive -LOC. -LOC has some uses that are not adverbial, such as with place names that are adjoined to other NPs and NAC-LOC premodifiers of NPs. The special tag -PUT is used for the locative argument of put.\n",
    "\n",
    "-MNR (manner) - marks adverbials that indicate manner, including instrument phrases.\n",
    "\n",
    "-PRP (purpose or reason) - marks purpose or reason clauses and PPs.\n",
    "\n",
    "-TMP (temporal) - marks temporal or aspectual adverbials that answer the questions when, how often, or how long. It has some uses that are not strictly adverbial, auch as with dates that modify other NPs at S- or VP-level. In cases of apposition involving SBAR, the SBAR should not be labeled -TMP. Only in \"financialspeak,\" and only when the dominating PP is a PP-DIR, may temporal modifiers be put at PP object level. Note that -TMP is not used in possessive phrases."
   ]
  },
  {
   "cell_type": "markdown",
   "metadata": {
    "hidden": true
   },
   "source": [
    "### 2.2.3 Miscellaneous"
   ]
  },
  {
   "cell_type": "markdown",
   "metadata": {
    "hidden": true
   },
   "source": [
    "-CLR (closely related) - marks constituents that occupy some middle ground between arguments and adjunct of the verb phrase. These roughly correspond to \"predication adjuncts\", prepositional ditransitives, and some \"phrasel verbs\". Although constituents marked with -CLR are not strictly speaking complements, they are treated as complements whenever it makes a bracketing difference. The precise meaning of -CLR depends somewhat on the category of the phrase.\n",
    "\n",
    "on S or SBAR - These categories are usually arguments, so the -CLR tag indicates that the clause is more adverbial than normal clausal arguments. The most common case is the infinitival semi-complement of use, but there are a variety of other cases.\n",
    "\n",
    "on PP, ADVP, SBAR-PRP, etc - On categories that are ordinarily interpreted as (adjunct) adverbials, -CLR indicates a somewhat closer relationship to the verb. For example:\n",
    "\n",
    "Prepositional Ditransitives\n",
    "\n",
    "In order to ensure consistency, the Treebank recognizes only a limited class of verbs that take more than one complement (-DTV and -PUT and Small Clauses) Verbs that fall outside these classes (including most of the prepositional ditransitive verbs in class [D2]) are often associated with -CLR."
   ]
  },
  {
   "cell_type": "markdown",
   "metadata": {
    "hidden": true
   },
   "source": [
    "### 2.2.4 Phrasal verbs"
   ]
  },
  {
   "cell_type": "markdown",
   "metadata": {
    "hidden": true
   },
   "source": [
    "Phrasal verbs are also annotated with -CLR or a combination of -PRT and PP-CLR. Words that are considered borderline between particle and adverb are often bracketed with ADVP-CLR.\n",
    "\n",
    "Predication Adjuncts\n",
    "\n",
    "Many of Quirk's predication adjuncts are annotated with -CLR.\n",
    "\n",
    "on NP - To the extent that -CLR is used on NPs, it indicates that the NP is part of some kind of \"fixed phrase\" or expression, such as take care of. Variation is more likely for NPs than for other uses of -CLR.\n",
    "\n",
    "-CLF (cleft) - marks it-clefts (\"true clefts\") and may be added to the labels S, SINV, or SQ.\n",
    "\n",
    "-HLN (headline) - marks headlines and datelines. Note that headlines and datelines always constitute a unit of text that is structurally independent from the following sentence.\n",
    "\n",
    "-TTL (title) - is attached to the top node of a title when this title appears inside running text. -TTL implies -NOM. The internal structure of the title is bracketed as usual."
   ]
  },
  {
   "cell_type": "markdown",
   "metadata": {
    "hidden": true
   },
   "source": [
    "### 2.2.5 Form/function discrepancies"
   ]
  },
  {
   "cell_type": "markdown",
   "metadata": {
    "hidden": true
   },
   "source": [
    "-ADV (adverbial) - marks a constituent other than ADVP or PP when it is used adverbially (e.g. NPs or free (\"headless\" relatives). However, constituents that themselves are modifying an ADVP generally do not get -ADV. If a more specific tag is available (for example, -TMP) then it is used alone and -ADV is implied. See the Adverbials section.\n",
    "\n",
    "-NOM (nominal) - marks free (\"headless\") relatives and gerunds when they act nominally."
   ]
  },
  {
   "cell_type": "markdown",
   "metadata": {
    "heading_collapsed": true
   },
   "source": [
    "# 3. MS coco captions"
   ]
  },
  {
   "cell_type": "markdown",
   "metadata": {
    "heading_collapsed": true,
    "hidden": true
   },
   "source": [
    "## 3.1 phrases from captions"
   ]
  },
  {
   "cell_type": "markdown",
   "metadata": {
    "hidden": true
   },
   "source": [
    "todo: remove shot (like pic) from phrases"
   ]
  },
  {
   "cell_type": "code",
   "execution_count": 50,
   "metadata": {
    "hidden": true,
    "run_control": {
     "frozen": false,
     "read_only": false
    }
   },
   "outputs": [
    {
     "name": "stdout",
     "output_type": "stream",
     "text": [
      "The autoreload extension is already loaded. To reload it, use:\n",
      "  %reload_ext autoreload\n"
     ]
    }
   ],
   "source": [
    "import pickle\n",
    "import phrase_selection.filter_coco as fc\n",
    "%load_ext autoreload\n",
    "%autoreload 2"
   ]
  },
  {
   "cell_type": "code",
   "execution_count": 51,
   "metadata": {
    "hidden": true,
    "run_control": {
     "frozen": false,
     "read_only": false
    }
   },
   "outputs": [],
   "source": [
    "coco_dir = '/Users/schwenk/wrk/pictionary/coco' "
   ]
  },
  {
   "cell_type": "code",
   "execution_count": 52,
   "metadata": {
    "hidden": true,
    "run_control": {
     "frozen": false,
     "read_only": false
    }
   },
   "outputs": [],
   "source": [
    "with open('just_pos_tags_62k_v1.pkl', 'rb') as f:\n",
    "    precomputed_pos_tags = pickle.load(f)"
   ]
  },
  {
   "cell_type": "code",
   "execution_count": 53,
   "metadata": {
    "hidden": true,
    "run_control": {
     "frozen": false,
     "read_only": false
    }
   },
   "outputs": [
    {
     "name": "stderr",
     "output_type": "stream",
     "text": [
      "Normalizing and Tokenizing: 100%|██████████| 231704/231704 [00:30<00:00, 7523.28it/s]\n",
      "Filtering out rare words: 100%|██████████| 216824/216824 [00:03<00:00, 54223.34it/s]\n",
      "100%|██████████| 125578/125578 [00:00<00:00, 556657.12it/s]\n",
      "Checking spelling: 100%|██████████| 74941/74941 [00:24<00:00, 3095.53it/s]\n",
      "POS Tagging: 100%|██████████| 73497/73497 [03:49<00:00, 320.81it/s]\n",
      "Filtering out no-verb captions: 100%|██████████| 73497/73497 [00:00<00:00, 309583.87it/s]\n"
     ]
    }
   ],
   "source": [
    "phrases_v01 = fc.run_phrase_selection(coco_dir, precomputed_pos_tags)"
   ]
  },
  {
   "cell_type": "code",
   "execution_count": 30,
   "metadata": {
    "hidden": true,
    "run_control": {
     "frozen": false,
     "read_only": false
    },
    "scrolled": false
   },
   "outputs": [
    {
     "data": {
      "text/plain": [
       "60631"
      ]
     },
     "execution_count": 30,
     "metadata": {},
     "output_type": "execute_result"
    }
   ],
   "source": [
    "len(phrases_v01)"
   ]
  },
  {
   "cell_type": "code",
   "execution_count": 32,
   "metadata": {
    "hidden": true,
    "run_control": {
     "frozen": false,
     "read_only": false
    }
   },
   "outputs": [],
   "source": [
    "# keyed_on_pid = {}\n",
    "# for k, phrase in tqdm(phrases_v01.items()):\n",
    "#     phrase['perplexity'] = perpl_lookup[k]\n",
    "#     phrase['least_common_word_freq'] = fc.least_common_word(phrase)\n",
    "#     keyed_on_pid[phrase['p_id']] = phrase"
   ]
  },
  {
   "cell_type": "code",
   "execution_count": 15,
   "metadata": {
    "hidden": true,
    "run_control": {
     "frozen": false,
     "read_only": false
    }
   },
   "outputs": [],
   "source": [
    "# with open('iconary_phrases_v1_62k.json', 'w') as f:\n",
    "#     json.dump(keyed_on_pid, f, indent=True)"
   ]
  },
  {
   "cell_type": "code",
   "execution_count": 54,
   "metadata": {
    "hidden": true,
    "run_control": {
     "frozen": false,
     "read_only": false
    }
   },
   "outputs": [],
   "source": [
    "with open('profane.json', 'r') as f:\n",
    "    profane_words = json.load(f)"
   ]
  },
  {
   "cell_type": "code",
   "execution_count": 55,
   "metadata": {
    "hidden": true,
    "run_control": {
     "frozen": false,
     "read_only": false
    }
   },
   "outputs": [],
   "source": [
    "with open('forbidden_words.json', 'r') as f:\n",
    "    reload_profane_words = json.load(f)"
   ]
  },
  {
   "cell_type": "code",
   "execution_count": 56,
   "metadata": {
    "hidden": true,
    "run_control": {
     "frozen": false,
     "read_only": false
    }
   },
   "outputs": [],
   "source": [
    "from wordfreq import zipf_frequency"
   ]
  },
  {
   "cell_type": "code",
   "execution_count": 57,
   "metadata": {
    "hidden": true,
    "run_control": {
     "frozen": false,
     "read_only": false
    }
   },
   "outputs": [],
   "source": [
    "profane_freqs = pd.Series({w: zipf_frequency(w, 'en') for w in reload_profane_words})"
   ]
  },
  {
   "cell_type": "code",
   "execution_count": 58,
   "metadata": {
    "hidden": true,
    "run_control": {
     "frozen": false,
     "read_only": false
    }
   },
   "outputs": [],
   "source": [
    "# pd.Series(profane_freqs.sort_values(ascending=False)[:300].index).to_csv('man_rev.csv', index=False)"
   ]
  },
  {
   "cell_type": "code",
   "execution_count": 59,
   "metadata": {
    "hidden": true,
    "run_control": {
     "frozen": false,
     "read_only": false
    }
   },
   "outputs": [],
   "source": [
    "man_pass_words = pd.read_csv('./man_rev.csv', header=None)[0].tolist()\n",
    "man_pass_words = [w +'s' for w in man_pass_words] + man_pass_words"
   ]
  },
  {
   "cell_type": "code",
   "execution_count": 60,
   "metadata": {
    "hidden": true,
    "run_control": {
     "frozen": false,
     "read_only": false
    }
   },
   "outputs": [],
   "source": [
    "man_passed_profane_words = [w for w in reload_profane_words if w not in man_pass_words]"
   ]
  },
  {
   "cell_type": "code",
   "execution_count": 61,
   "metadata": {
    "hidden": true,
    "run_control": {
     "frozen": false,
     "read_only": false
    }
   },
   "outputs": [],
   "source": [
    "with open('forbidden_words_rev.json', 'w') as f:\n",
    "    json.dump(man_passed_profane_words, f, indent=2)"
   ]
  },
  {
   "cell_type": "code",
   "execution_count": 62,
   "metadata": {
    "hidden": true,
    "run_control": {
     "frozen": false,
     "read_only": false
    }
   },
   "outputs": [
    {
     "data": {
      "text/plain": [
       "False"
      ]
     },
     "execution_count": 62,
     "metadata": {},
     "output_type": "execute_result"
    }
   ],
   "source": [
    "'kicking' in man_passed_profane_words"
   ]
  },
  {
   "cell_type": "code",
   "execution_count": 63,
   "metadata": {
    "hidden": true,
    "run_control": {
     "frozen": false,
     "read_only": false
    }
   },
   "outputs": [],
   "source": [
    "processed_profane = set([w.lower().replace('*', '').strip() for w in profane_words])\n",
    "processed_profane.update(set([w.lower().replace('*', '').strip() + 's' for w in profane_words]))"
   ]
  },
  {
   "cell_type": "code",
   "execution_count": 64,
   "metadata": {
    "hidden": true,
    "run_control": {
     "frozen": false,
     "read_only": false
    }
   },
   "outputs": [],
   "source": [
    "curated_profane = pd.read_csv('curated_profane.csv', header=None)[0]\n",
    "curated_profane = curated_profane.tolist()\n",
    "curated_profane += [w + 's' for w in curated_profane]"
   ]
  },
  {
   "cell_type": "code",
   "execution_count": 68,
   "metadata": {
    "hidden": true,
    "run_control": {
     "frozen": false,
     "read_only": false
    }
   },
   "outputs": [],
   "source": [
    "final_profane_list = processed_profane.difference(allowed_profane)"
   ]
  },
  {
   "cell_type": "code",
   "execution_count": 69,
   "metadata": {
    "hidden": true,
    "run_control": {
     "frozen": false,
     "read_only": false
    }
   },
   "outputs": [],
   "source": [
    "with open('forbidden_words.json', 'w') as f:\n",
    "    json.dump(sorted(list(final_profane_list)), f, indent=3)"
   ]
  },
  {
   "cell_type": "code",
   "execution_count": 70,
   "metadata": {
    "hidden": true,
    "run_control": {
     "frozen": false,
     "read_only": false
    }
   },
   "outputs": [],
   "source": [
    "matches = set([])\n",
    "for pid, p in list(phrases_v01.items()):\n",
    "    bad_words= set(p['tokens']).intersection(processed_profane)\n",
    "    matches.update(bad_words)\n",
    "#     if bad_words:\n",
    "#         print(bad_words, p['caption'])"
   ]
  },
  {
   "cell_type": "code",
   "execution_count": 71,
   "metadata": {
    "hidden": true,
    "run_control": {
     "frozen": false,
     "read_only": false
    }
   },
   "outputs": [],
   "source": [
    "allowed_profane = matches.difference(set(curated_profane))"
   ]
  },
  {
   "cell_type": "code",
   "execution_count": 72,
   "metadata": {
    "hidden": true,
    "run_control": {
     "frozen": false,
     "read_only": false
    }
   },
   "outputs": [
    {
     "name": "stdout",
     "output_type": "stream",
     "text": [
      "an empty wooden bench sitting in a woody area\n",
      "a train on tracks riding through a woody forest\n"
     ]
    }
   ],
   "source": [
    "for pid, p in list(phrases_v01.items()):\n",
    "    if 'woody' in p['tokens']:\n",
    "        print(p['caption'])"
   ]
  },
  {
   "cell_type": "code",
   "execution_count": 73,
   "metadata": {
    "hidden": true,
    "run_control": {
     "frozen": false,
     "read_only": false
    }
   },
   "outputs": [],
   "source": [
    "# pd.Series(list(matches)).sort_values().to_csv('curated_profane.csv', index=False)"
   ]
  },
  {
   "cell_type": "code",
   "execution_count": 74,
   "metadata": {
    "hidden": true,
    "run_control": {
     "frozen": false,
     "read_only": false
    }
   },
   "outputs": [],
   "source": [
    "%page matches"
   ]
  },
  {
   "cell_type": "code",
   "execution_count": 75,
   "metadata": {
    "hidden": true,
    "run_control": {
     "frozen": false,
     "read_only": false
    }
   },
   "outputs": [],
   "source": [
    "cleaned_phrases = {}\n",
    "for pid, p in list(phrases_v01.items()):\n",
    "    bad_words= set(p['tokens']).intersection(final_profane_list)\n",
    "    if not bad_words:\n",
    "        cleaned_phrases[pid] = p "
   ]
  },
  {
   "cell_type": "code",
   "execution_count": 76,
   "metadata": {
    "hidden": true,
    "run_control": {
     "frozen": false,
     "read_only": false
    }
   },
   "outputs": [],
   "source": [
    "dsdf = pd.DataFrame(list(cleaned_phrases.values()))"
   ]
  },
  {
   "cell_type": "code",
   "execution_count": 77,
   "metadata": {
    "hidden": true,
    "run_control": {
     "frozen": false,
     "read_only": false
    }
   },
   "outputs": [
    {
     "data": {
      "text/plain": [
       "59859"
      ]
     },
     "execution_count": 77,
     "metadata": {},
     "output_type": "execute_result"
    }
   ],
   "source": [
    "len(cleaned_phrases)"
   ]
  },
  {
   "cell_type": "code",
   "execution_count": 78,
   "metadata": {
    "hidden": true,
    "run_control": {
     "frozen": false,
     "read_only": false
    }
   },
   "outputs": [],
   "source": [
    "dsdf[['p_id', 'c_id', 'caption']].sample(frac=0.05).to_csv('ds_v_0p1_sample.csv', index=False)"
   ]
  },
  {
   "cell_type": "code",
   "execution_count": 79,
   "metadata": {
    "hidden": true,
    "run_control": {
     "frozen": false,
     "read_only": false
    }
   },
   "outputs": [
    {
     "data": {
      "text/plain": [
       "(59859, 8)"
      ]
     },
     "execution_count": 79,
     "metadata": {},
     "output_type": "execute_result"
    }
   ],
   "source": [
    "dsdf.shape"
   ]
  },
  {
   "cell_type": "code",
   "execution_count": 80,
   "metadata": {
    "hidden": true,
    "run_control": {
     "frozen": false,
     "read_only": false
    }
   },
   "outputs": [],
   "source": [
    "dsdf.to_pickle('62k_phrase_df.pkl')"
   ]
  },
  {
   "cell_type": "code",
   "execution_count": 19,
   "metadata": {
    "hidden": true,
    "run_control": {
     "frozen": false,
     "read_only": false
    }
   },
   "outputs": [],
   "source": [
    "# dsdf[['p_id', 'c_id', 'caption']].to_csv('coco_62k_captions.csv', index=False)"
   ]
  },
  {
   "cell_type": "code",
   "execution_count": 77,
   "metadata": {
    "hidden": true,
    "run_control": {
     "frozen": false,
     "read_only": false
    }
   },
   "outputs": [],
   "source": [
    "fc.form_iconary_input_files(phrases_v01.values(), 'coco_62k')"
   ]
  },
  {
   "cell_type": "code",
   "execution_count": 145,
   "metadata": {
    "hidden": true,
    "run_control": {
     "frozen": false,
     "read_only": false
    }
   },
   "outputs": [],
   "source": [
    "qual_phrases = [phrases_v01[i] for i in selected_ids]"
   ]
  },
  {
   "cell_type": "code",
   "execution_count": 146,
   "metadata": {
    "hidden": true,
    "run_control": {
     "frozen": false,
     "read_only": false
    }
   },
   "outputs": [],
   "source": [
    "fc.form_iconary_input_files(qual_phrases, 'qual_200')"
   ]
  },
  {
   "cell_type": "markdown",
   "metadata": {
    "heading_collapsed": true,
    "hidden": true
   },
   "source": [
    "### 3.1.1 hide"
   ]
  },
  {
   "cell_type": "code",
   "execution_count": 42,
   "metadata": {
    "code_folding": [],
    "hidden": true,
    "run_control": {
     "frozen": false,
     "read_only": false
    }
   },
   "outputs": [],
   "source": [
    "just_pos_tags_60k = {v['c_id']: v['pos_tags'] for k, v in phrases_v01.items()}\n",
    "\n",
    "with open('just_pos_tags_62k_v1.pkl', 'wb') as f:\n",
    "      pickle.dump(just_pos_tags_60k, f)\n",
    "\n",
    "with open('phrase_ds_v0p1.pkl', 'wb') as f:\n",
    "      pickle.dump(phrases_v01, f)"
   ]
  },
  {
   "cell_type": "markdown",
   "metadata": {
    "heading_collapsed": true,
    "hidden": true
   },
   "source": [
    "## 3.2 perplexity"
   ]
  },
  {
   "cell_type": "code",
   "execution_count": 17,
   "metadata": {
    "hidden": true,
    "run_control": {
     "frozen": false,
     "read_only": false
    }
   },
   "outputs": [
    {
     "data": {
      "text/html": [
       "<div>\n",
       "<style scoped>\n",
       "    .dataframe tbody tr th:only-of-type {\n",
       "        vertical-align: middle;\n",
       "    }\n",
       "\n",
       "    .dataframe tbody tr th {\n",
       "        vertical-align: top;\n",
       "    }\n",
       "\n",
       "    .dataframe thead th {\n",
       "        text-align: right;\n",
       "    }\n",
       "</style>\n",
       "<table border=\"1\" class=\"dataframe\">\n",
       "  <thead>\n",
       "    <tr style=\"text-align: right;\">\n",
       "      <th></th>\n",
       "      <th>phrase</th>\n",
       "      <th>p_id</th>\n",
       "      <th>c_id</th>\n",
       "      <th>perplexity</th>\n",
       "    </tr>\n",
       "  </thead>\n",
       "  <tbody>\n",
       "    <tr>\n",
       "      <th>0</th>\n",
       "      <td>a large passenger airplane flying through the...</td>\n",
       "      <td>coco_dp_id_000001</td>\n",
       "      <td>74ba8bdff7681c5f398325507f754c52</td>\n",
       "      <td>-5.174545</td>\n",
       "    </tr>\n",
       "    <tr>\n",
       "      <th>1</th>\n",
       "      <td>the bike has a clock as a tire</td>\n",
       "      <td>coco_dp_id_000002</td>\n",
       "      <td>39e3f8fd6f03168f888d0d7b69ce6542</td>\n",
       "      <td>-6.239627</td>\n",
       "    </tr>\n",
       "    <tr>\n",
       "      <th>2</th>\n",
       "      <td>two cars parked on the sidewalk on the street</td>\n",
       "      <td>coco_dp_id_000003</td>\n",
       "      <td>1c4471263a52fd264876052952ea969b</td>\n",
       "      <td>-4.371350</td>\n",
       "    </tr>\n",
       "    <tr>\n",
       "      <th>3</th>\n",
       "      <td>a group of motorcycle riders driving past bui...</td>\n",
       "      <td>coco_dp_id_000004</td>\n",
       "      <td>63b896a3cd6282b1de9d8373e17e9ee7</td>\n",
       "      <td>-6.030856</td>\n",
       "    </tr>\n",
       "    <tr>\n",
       "      <th>4</th>\n",
       "      <td>a random plane in the sky flying alone</td>\n",
       "      <td>coco_dp_id_000005</td>\n",
       "      <td>33cc3226dafcbed2029d37ff03fbc23b</td>\n",
       "      <td>-6.755549</td>\n",
       "    </tr>\n",
       "  </tbody>\n",
       "</table>\n",
       "</div>"
      ],
      "text/plain": [
       "                                              phrase               p_id  \\\n",
       "0   a large passenger airplane flying through the...  coco_dp_id_000001   \n",
       "1                     the bike has a clock as a tire  coco_dp_id_000002   \n",
       "2      two cars parked on the sidewalk on the street  coco_dp_id_000003   \n",
       "3   a group of motorcycle riders driving past bui...  coco_dp_id_000004   \n",
       "4             a random plane in the sky flying alone  coco_dp_id_000005   \n",
       "\n",
       "                               c_id  perplexity  \n",
       "0  74ba8bdff7681c5f398325507f754c52   -5.174545  \n",
       "1  39e3f8fd6f03168f888d0d7b69ce6542   -6.239627  \n",
       "2  1c4471263a52fd264876052952ea969b   -4.371350  \n",
       "3  63b896a3cd6282b1de9d8373e17e9ee7   -6.030856  \n",
       "4  33cc3226dafcbed2029d37ff03fbc23b   -6.755549  "
      ]
     },
     "execution_count": 17,
     "metadata": {},
     "output_type": "execute_result"
    }
   ],
   "source": [
    "coco_perplexity = pd.read_csv('./output_perplexity_coco62k_captions.txt', header=None)\n",
    "coco_perplexity.columns = ['p_id','c_id', 'phrase', 'perplexity']\n",
    "coco_perplexity = coco_perplexity[['phrase', 'p_id','c_id', 'perplexity']]\n",
    "coco_perplexity['c_id'] = coco_perplexity['c_id'].apply(lambda x: x.strip())\n",
    "coco_perplexity.head(5)"
   ]
  },
  {
   "cell_type": "code",
   "execution_count": 11,
   "metadata": {
    "hidden": true,
    "run_control": {
     "frozen": false,
     "read_only": false
    }
   },
   "outputs": [],
   "source": [
    "build_perpl_lookup = coco_perplexity[['c_id', 'perplexity']].to_dict(orient='records')"
   ]
  },
  {
   "cell_type": "code",
   "execution_count": 12,
   "metadata": {
    "hidden": true,
    "run_control": {
     "frozen": false,
     "read_only": false
    }
   },
   "outputs": [],
   "source": [
    "perpl_lookup = {p['c_id']: p['perplexity'] for p in  build_perpl_lookup}"
   ]
  },
  {
   "cell_type": "code",
   "execution_count": 299,
   "metadata": {
    "hidden": true,
    "run_control": {
     "frozen": false,
     "read_only": false
    }
   },
   "outputs": [],
   "source": [
    "# with open('perpl_lookup.pkl', 'wb') as f:\n",
    "#     pickle.dump(perpl_lookup, f)"
   ]
  },
  {
   "cell_type": "code",
   "execution_count": 183,
   "metadata": {
    "hidden": true,
    "run_control": {
     "frozen": false,
     "read_only": false
    }
   },
   "outputs": [],
   "source": [
    "# _ = coco_perplexity['perplexity'].hist(bins=50)"
   ]
  },
  {
   "cell_type": "code",
   "execution_count": 126,
   "metadata": {
    "hidden": true,
    "run_control": {
     "frozen": false,
     "read_only": false
    }
   },
   "outputs": [],
   "source": [
    "# _ = coco_perplexity['perplexity'].plot()"
   ]
  },
  {
   "cell_type": "markdown",
   "metadata": {
    "run_control": {
     "frozen": false,
     "read_only": false
    }
   },
   "source": [
    "# 4. splits"
   ]
  },
  {
   "cell_type": "code",
   "execution_count": 23,
   "metadata": {
    "run_control": {
     "frozen": false,
     "read_only": false
    }
   },
   "outputs": [],
   "source": [
    "split_dfs = {   \n",
    "    'coco_train_10k': pd.read_pickle('train_caption_10k.pkl'),\n",
    "    'coco_test_5k': pd.read_pickle('test_caption_5k.pkl'),\n",
    "    'reserve_caption_10k': pd.read_pickle('reserve_caption_10k.pkl')\n",
    "}"
   ]
  },
  {
   "cell_type": "code",
   "execution_count": 24,
   "metadata": {
    "run_control": {
     "frozen": false,
     "read_only": false
    }
   },
   "outputs": [],
   "source": [
    "train_10k_df = split_dfs['coco_train_10k']"
   ]
  },
  {
   "cell_type": "code",
   "execution_count": 25,
   "metadata": {
    "run_control": {
     "frozen": false,
     "read_only": false
    }
   },
   "outputs": [],
   "source": [
    "# set(split_dfs['reserve_caption_10k']['c_id'].tolist()).intersection(set(split_dfs['coco_train_10k']['c_id'].tolist()))"
   ]
  },
  {
   "cell_type": "code",
   "execution_count": 26,
   "metadata": {
    "run_control": {
     "frozen": false,
     "read_only": false
    }
   },
   "outputs": [],
   "source": [
    "# ids_without_num_values = set(dsdf['c_id'].tolist())"
   ]
  },
  {
   "cell_type": "code",
   "execution_count": 81,
   "metadata": {
    "run_control": {
     "frozen": false,
     "read_only": false
    }
   },
   "outputs": [],
   "source": [
    "# with open('./cleaned_phrases_60k.pkl', 'wb') as f:\n",
    "#     pickle.dump(cleaned_phrases, f)"
   ]
  },
  {
   "cell_type": "code",
   "execution_count": 30,
   "metadata": {
    "run_control": {
     "frozen": false,
     "read_only": false
    }
   },
   "outputs": [
    {
     "ename": "NameError",
     "evalue": "name 'cleaned_phrases' is not defined",
     "output_type": "error",
     "traceback": [
      "\u001b[0;31m---------------------------------------------------------------------------\u001b[0m",
      "\u001b[0;31mNameError\u001b[0m                                 Traceback (most recent call last)",
      "\u001b[0;32m<ipython-input-30-4c67a9da8209>\u001b[0m in \u001b[0;36m<module>\u001b[0;34m()\u001b[0m\n\u001b[1;32m      1\u001b[0m \u001b[0;32mfor\u001b[0m \u001b[0msplit_name\u001b[0m\u001b[0;34m,\u001b[0m \u001b[0msplif_df\u001b[0m \u001b[0;32min\u001b[0m \u001b[0msplit_dfs\u001b[0m\u001b[0;34m.\u001b[0m\u001b[0mitems\u001b[0m\u001b[0;34m(\u001b[0m\u001b[0;34m)\u001b[0m\u001b[0;34m:\u001b[0m\u001b[0;34m\u001b[0m\u001b[0m\n\u001b[1;32m      2\u001b[0m     \u001b[0morig_split_ids\u001b[0m \u001b[0;34m=\u001b[0m \u001b[0mset\u001b[0m\u001b[0;34m(\u001b[0m\u001b[0msplif_df\u001b[0m\u001b[0;34m[\u001b[0m\u001b[0;34m'c_id'\u001b[0m\u001b[0;34m]\u001b[0m\u001b[0;34m.\u001b[0m\u001b[0mtolist\u001b[0m\u001b[0;34m(\u001b[0m\u001b[0;34m)\u001b[0m\u001b[0;34m)\u001b[0m\u001b[0;34m\u001b[0m\u001b[0m\n\u001b[0;32m----> 3\u001b[0;31m     \u001b[0mnew_split\u001b[0m\u001b[0;34m=\u001b[0m \u001b[0;34m[\u001b[0m\u001b[0mcleaned_phrases\u001b[0m\u001b[0;34m[\u001b[0m\u001b[0mi\u001b[0m\u001b[0;34m]\u001b[0m \u001b[0;32mfor\u001b[0m \u001b[0mi\u001b[0m \u001b[0;32min\u001b[0m \u001b[0morig_split_ids\u001b[0m \u001b[0;32mif\u001b[0m \u001b[0mi\u001b[0m \u001b[0;32min\u001b[0m \u001b[0mcleaned_phrases\u001b[0m\u001b[0;34m]\u001b[0m\u001b[0;34m\u001b[0m\u001b[0m\n\u001b[0m\u001b[1;32m      4\u001b[0m     \u001b[0mnew_df\u001b[0m \u001b[0;34m=\u001b[0m \u001b[0mpd\u001b[0m\u001b[0;34m.\u001b[0m\u001b[0mDataFrame\u001b[0m\u001b[0;34m(\u001b[0m\u001b[0mnew_split\u001b[0m\u001b[0;34m)\u001b[0m\u001b[0;34m\u001b[0m\u001b[0m\n\u001b[1;32m      5\u001b[0m     \u001b[0moutname\u001b[0m \u001b[0;34m=\u001b[0m \u001b[0msplit_name\u001b[0m \u001b[0;34m+\u001b[0m \u001b[0;34m'_no_profane.pkl'\u001b[0m\u001b[0;34m\u001b[0m\u001b[0m\n",
      "\u001b[0;32m<ipython-input-30-4c67a9da8209>\u001b[0m in \u001b[0;36m<listcomp>\u001b[0;34m(.0)\u001b[0m\n\u001b[1;32m      1\u001b[0m \u001b[0;32mfor\u001b[0m \u001b[0msplit_name\u001b[0m\u001b[0;34m,\u001b[0m \u001b[0msplif_df\u001b[0m \u001b[0;32min\u001b[0m \u001b[0msplit_dfs\u001b[0m\u001b[0;34m.\u001b[0m\u001b[0mitems\u001b[0m\u001b[0;34m(\u001b[0m\u001b[0;34m)\u001b[0m\u001b[0;34m:\u001b[0m\u001b[0;34m\u001b[0m\u001b[0m\n\u001b[1;32m      2\u001b[0m     \u001b[0morig_split_ids\u001b[0m \u001b[0;34m=\u001b[0m \u001b[0mset\u001b[0m\u001b[0;34m(\u001b[0m\u001b[0msplif_df\u001b[0m\u001b[0;34m[\u001b[0m\u001b[0;34m'c_id'\u001b[0m\u001b[0;34m]\u001b[0m\u001b[0;34m.\u001b[0m\u001b[0mtolist\u001b[0m\u001b[0;34m(\u001b[0m\u001b[0;34m)\u001b[0m\u001b[0;34m)\u001b[0m\u001b[0;34m\u001b[0m\u001b[0m\n\u001b[0;32m----> 3\u001b[0;31m     \u001b[0mnew_split\u001b[0m\u001b[0;34m=\u001b[0m \u001b[0;34m[\u001b[0m\u001b[0mcleaned_phrases\u001b[0m\u001b[0;34m[\u001b[0m\u001b[0mi\u001b[0m\u001b[0;34m]\u001b[0m \u001b[0;32mfor\u001b[0m \u001b[0mi\u001b[0m \u001b[0;32min\u001b[0m \u001b[0morig_split_ids\u001b[0m \u001b[0;32mif\u001b[0m \u001b[0mi\u001b[0m \u001b[0;32min\u001b[0m \u001b[0mcleaned_phrases\u001b[0m\u001b[0;34m]\u001b[0m\u001b[0;34m\u001b[0m\u001b[0m\n\u001b[0m\u001b[1;32m      4\u001b[0m     \u001b[0mnew_df\u001b[0m \u001b[0;34m=\u001b[0m \u001b[0mpd\u001b[0m\u001b[0;34m.\u001b[0m\u001b[0mDataFrame\u001b[0m\u001b[0;34m(\u001b[0m\u001b[0mnew_split\u001b[0m\u001b[0;34m)\u001b[0m\u001b[0;34m\u001b[0m\u001b[0m\n\u001b[1;32m      5\u001b[0m     \u001b[0moutname\u001b[0m \u001b[0;34m=\u001b[0m \u001b[0msplit_name\u001b[0m \u001b[0;34m+\u001b[0m \u001b[0;34m'_no_profane.pkl'\u001b[0m\u001b[0;34m\u001b[0m\u001b[0m\n",
      "\u001b[0;31mNameError\u001b[0m: name 'cleaned_phrases' is not defined"
     ]
    }
   ],
   "source": [
    "for split_name, splif_df in split_dfs.items():\n",
    "    orig_split_ids = set(splif_df['c_id'].tolist())\n",
    "    new_split= [cleaned_phrases[i] for i in orig_split_ids if i in cleaned_phrases]\n",
    "    new_df = pd.DataFrame(new_split)\n",
    "    outname = split_name + '_no_profane.pkl'\n",
    "    new_df.to_pickle(outname)\n",
    "#     fc.form_iconary_input_files(new_split, split_name)"
   ]
  },
  {
   "cell_type": "code",
   "execution_count": 13,
   "metadata": {
    "run_control": {
     "frozen": false,
     "read_only": false
    }
   },
   "outputs": [],
   "source": [
    "with open('forbidden_words.json', 'r') as f:\n",
    "    test_list = json.load(f)"
   ]
  },
  {
   "cell_type": "code",
   "execution_count": 15,
   "metadata": {
    "run_control": {
     "frozen": false,
     "read_only": false
    }
   },
   "outputs": [],
   "source": [
    "# all_coco_words.intersection(set(forbidden))"
   ]
  },
  {
   "cell_type": "code",
   "execution_count": 16,
   "metadata": {
    "run_control": {
     "frozen": false,
     "read_only": false
    }
   },
   "outputs": [
    {
     "data": {
      "image/png": "[encoded data removed]",
      "text/plain": [
       "<Figure size 1152x720 with 1 Axes>"
      ]
     },
     "metadata": {},
     "output_type": "display_data"
    }
   ],
   "source": [
    "_ = train_10k_df['phrase'].str.split().apply(len).hist()"
   ]
  },
  {
   "cell_type": "markdown",
   "metadata": {
    "heading_collapsed": true,
    "run_control": {
     "frozen": false,
     "read_only": false
    }
   },
   "source": [
    "# 5. update active phrases"
   ]
  },
  {
   "cell_type": "code",
   "execution_count": 33,
   "metadata": {
    "hidden": true,
    "run_control": {
     "frozen": false,
     "read_only": false
    }
   },
   "outputs": [],
   "source": [
    "# with open('./cleaned_phrases_60k.pkl', 'rb') as f:\n",
    "#     cleaned_60k_no_profane = pickle.load(f)"
   ]
  },
  {
   "cell_type": "code",
   "execution_count": 41,
   "metadata": {
    "hidden": true,
    "run_control": {
     "frozen": false,
     "read_only": false
    }
   },
   "outputs": [],
   "source": [
    "split_dfs = {   \n",
    "    'coco_train_10k': pd.read_pickle('coco_train_10k_no_profane.pkl'),\n",
    "    'coco_test_5k': pd.read_pickle('coco_test_5k_no_profane.pkl'),\n",
    "    'reserve_caption_10k': pd.read_pickle('reserve_caption_10k_no_profane.pkl')\n",
    "}"
   ]
  },
  {
   "cell_type": "code",
   "execution_count": 35,
   "metadata": {
    "hidden": true,
    "run_control": {
     "frozen": false,
     "read_only": false
    }
   },
   "outputs": [],
   "source": [
    "retired_phrases_df = pd.read_pickle('../turk_task/phrases_to_remove_after_10k.pkl')\n",
    "retired_phrases = set(retired_phrases_df.index)"
   ]
  },
  {
   "cell_type": "code",
   "execution_count": 36,
   "metadata": {
    "hidden": true,
    "run_control": {
     "frozen": false,
     "read_only": false
    }
   },
   "outputs": [],
   "source": [
    "retired_phrases_df['c_id'] = retired_phrases_df.index"
   ]
  },
  {
   "cell_type": "code",
   "execution_count": 37,
   "metadata": {
    "hidden": true,
    "run_control": {
     "frozen": false,
     "read_only": false
    }
   },
   "outputs": [],
   "source": [
    "retired_phrases_df[['c_id', 'word']].to_json('retired_phrases.json', orient='records')"
   ]
  },
  {
   "cell_type": "code",
   "execution_count": 82,
   "metadata": {
    "hidden": true,
    "run_control": {
     "frozen": false,
     "read_only": false
    }
   },
   "outputs": [],
   "source": [
    "split_name = 'coco_train_10k'\n",
    "splif_df = split_dfs[split_name]\n",
    "orig_split_ids = set(splif_df['c_id'].tolist())\n",
    "new_split= [cleaned_phrases[i] for i in orig_split_ids if i in cleaned_phrases and i not in retired_phrases]\n",
    "fc.form_iconary_input_files(new_split, split_name)"
   ]
  },
  {
   "cell_type": "code",
   "execution_count": null,
   "metadata": {
    "hidden": true
   },
   "outputs": [],
   "source": []
  },
  {
   "cell_type": "code",
   "execution_count": 88,
   "metadata": {
    "hidden": true,
    "run_control": {
     "frozen": false,
     "read_only": false
    }
   },
   "outputs": [
    {
     "name": "stdout",
     "output_type": "stream",
     "text": [
      "9817\n",
      "4930\n",
      "9873\n"
     ]
    }
   ],
   "source": [
    "new_dfs = []\n",
    "for split_name, splif_df in split_dfs.items():\n",
    "    orig_split_ids = set(splif_df['c_id'].tolist())\n",
    "    new_split = [cleaned_phrases[i] for i in orig_split_ids if i in cleaned_phrases and i not in retired_phrases]\n",
    "    new_df = pd.DataFrame(new_split)\n",
    "    new_df['split'] = split_name\n",
    "    new_dfs.append(new_df)\n",
    "    print(len(new_split))\n",
    "#     fc.form_iconary_input_files(new_split, split_name)"
   ]
  },
  {
   "cell_type": "code",
   "execution_count": 90,
   "metadata": {
    "hidden": true
   },
   "outputs": [],
   "source": [
    "combined_25k_df = pd.concat(new_dfs)"
   ]
  },
  {
   "cell_type": "code",
   "execution_count": 93,
   "metadata": {
    "hidden": true
   },
   "outputs": [],
   "source": [
    "# combined_25k_df.to_pickle('combined_25k_splits_df.pkl')"
   ]
  },
  {
   "cell_type": "markdown",
   "metadata": {
    "heading_collapsed": true,
    "run_control": {
     "frozen": false,
     "read_only": false
    }
   },
   "source": [
    "# post 10k games phrase cleanup"
   ]
  },
  {
   "cell_type": "code",
   "execution_count": 96,
   "metadata": {
    "code_folding": [
     0
    ],
    "hidden": true
   },
   "outputs": [],
   "source": [
    "body_parts = [\n",
    "                'arm',\n",
    "                'hand',\n",
    "                'leg',\n",
    "                'foot',\n",
    "                'head',\n",
    "                'eye',\n",
    "                'hip',\n",
    "                'shoulder',\n",
    "                'mouth',\n",
    "                'lip',\n",
    "                'chest',\n",
    "                'back',\n",
    "                'torso',\n",
    "                'neck',\n",
    "                'ear',\n",
    "                'eyebrow',\n",
    "                'finger',\n",
    "                'feet',\n",
    "                'toe',\n",
    "                'thumb',\n",
    "                'cheek',\n",
    "                'tongue',\n",
    "                'tooth',\n",
    "                'teeth',\n",
    "                'stomach',\n",
    "                'tummy',\n",
    "                'belly',\n",
    "                'hair',\n",
    "                'face',\n",
    "                'waist',\n",
    "                'nose',\n",
    "                'beard',\n",
    "                'knee',\n",
    "                'elbow',\n",
    "                'brow'\n",
    "            ]"
   ]
  },
  {
   "cell_type": "code",
   "execution_count": 84,
   "metadata": {
    "hidden": true
   },
   "outputs": [],
   "source": [
    "train_df = split_dfs['coco_train_10k']"
   ]
  },
  {
   "cell_type": "code",
   "execution_count": 85,
   "metadata": {
    "hidden": true
   },
   "outputs": [
    {
     "data": {
      "text/plain": [
       "(9866, 8)"
      ]
     },
     "execution_count": 85,
     "metadata": {},
     "output_type": "execute_result"
    }
   ],
   "source": [
    "train_df.shape"
   ]
  },
  {
   "cell_type": "code",
   "execution_count": 137,
   "metadata": {
    "hidden": true
   },
   "outputs": [],
   "source": [
    "possesive_pronouns = ['his', 'her', 'their']"
   ]
  },
  {
   "cell_type": "code",
   "execution_count": 126,
   "metadata": {
    "hidden": true
   },
   "outputs": [],
   "source": [
    "remove_interesection = combined_25k_df['tokens'].apply(lambda x: set(x).intersection(remove_tokens))"
   ]
  },
  {
   "cell_type": "code",
   "execution_count": 127,
   "metadata": {
    "hidden": true
   },
   "outputs": [],
   "source": [
    "remove_words = remove_interesection[remove_interesection.apply(bool)].apply(set.pop)"
   ]
  },
  {
   "cell_type": "code",
   "execution_count": 128,
   "metadata": {
    "hidden": true
   },
   "outputs": [
    {
     "data": {
      "text/plain": [
       "that     2432\n",
       "there    1026\n",
       "which       5\n",
       "Name: tokens, dtype: int64"
      ]
     },
     "execution_count": 128,
     "metadata": {},
     "output_type": "execute_result"
    }
   ],
   "source": [
    "remove_words.value_counts()"
   ]
  },
  {
   "cell_type": "code",
   "execution_count": 195,
   "metadata": {
    "hidden": true
   },
   "outputs": [],
   "source": [
    "exam_1 = combined_25k_df[combined_25k_df['tokens'].apply(lambda x: 'their' in x)]"
   ]
  },
  {
   "cell_type": "code",
   "execution_count": 154,
   "metadata": {
    "hidden": true
   },
   "outputs": [],
   "source": [
    "most_there_phrases = set(combined_25k_df[combined_25k_df['caption'].str.contains('there is')].c_id.tolist() + combined_25k_df[combined_25k_df['caption'].str.contains('there are')].c_id.tolist())"
   ]
  },
  {
   "cell_type": "code",
   "execution_count": 159,
   "metadata": {
    "hidden": true
   },
   "outputs": [
    {
     "data": {
      "text/html": [
       "<div>\n",
       "<style scoped>\n",
       "    .dataframe tbody tr th:only-of-type {\n",
       "        vertical-align: middle;\n",
       "    }\n",
       "\n",
       "    .dataframe tbody tr th {\n",
       "        vertical-align: top;\n",
       "    }\n",
       "\n",
       "    .dataframe thead th {\n",
       "        text-align: right;\n",
       "    }\n",
       "</style>\n",
       "<table border=\"1\" class=\"dataframe\">\n",
       "  <thead>\n",
       "    <tr style=\"text-align: right;\">\n",
       "      <th></th>\n",
       "      <th>c_id</th>\n",
       "      <th>caption</th>\n",
       "      <th>coco_c_id</th>\n",
       "      <th>coco_im_id</th>\n",
       "      <th>p_id</th>\n",
       "      <th>pos_tags</th>\n",
       "      <th>raw_caption</th>\n",
       "      <th>tokens</th>\n",
       "      <th>split</th>\n",
       "    </tr>\n",
       "  </thead>\n",
       "  <tbody>\n",
       "    <tr>\n",
       "      <th>1955</th>\n",
       "      <td>6d006da4a0c50f847b4acfcecb9af235</td>\n",
       "      <td>she is holding an umbrella there on the street</td>\n",
       "      <td>366954</td>\n",
       "      <td>281837</td>\n",
       "      <td>coco_dp_id_004409</td>\n",
       "      <td>[(she, PRP), (is, VBZ), (holding, VBG), (an, D...</td>\n",
       "      <td>She is holding an umbrella there on the street.</td>\n",
       "      <td>[she, is, holding, an, umbrella, there, on, th...</td>\n",
       "      <td>coco_test_5k</td>\n",
       "    </tr>\n",
       "    <tr>\n",
       "      <th>2473</th>\n",
       "      <td>f693584fc65b01d09738ae4a85e71aed</td>\n",
       "      <td>there have been many different pieces of art c...</td>\n",
       "      <td>761186</td>\n",
       "      <td>534271</td>\n",
       "      <td>coco_dp_id_002788</td>\n",
       "      <td>[(there, EX), (have, VBP), (been, VBN), (many,...</td>\n",
       "      <td>There have been many different pieces of art c...</td>\n",
       "      <td>[there, have, been, many, different, pieces, o...</td>\n",
       "      <td>reserve_caption_10k</td>\n",
       "    </tr>\n",
       "    <tr>\n",
       "      <th>3567</th>\n",
       "      <td>99ba684d41cce56099d201fa755e61e9</td>\n",
       "      <td>there was no room for him to sit</td>\n",
       "      <td>367225</td>\n",
       "      <td>557627</td>\n",
       "      <td>coco_dp_id_030394</td>\n",
       "      <td>[(there, EX), (was, VBD), (no, DT), (room, NN)...</td>\n",
       "      <td>There was no room for him to sit.</td>\n",
       "      <td>[there, was, no, room, for, him, to, sit]</td>\n",
       "      <td>reserve_caption_10k</td>\n",
       "    </tr>\n",
       "  </tbody>\n",
       "</table>\n",
       "</div>"
      ],
      "text/plain": [
       "                                  c_id  \\\n",
       "1955  6d006da4a0c50f847b4acfcecb9af235   \n",
       "2473  f693584fc65b01d09738ae4a85e71aed   \n",
       "3567  99ba684d41cce56099d201fa755e61e9   \n",
       "\n",
       "                                                caption  coco_c_id  \\\n",
       "1955     she is holding an umbrella there on the street     366954   \n",
       "2473  there have been many different pieces of art c...     761186   \n",
       "3567                   there was no room for him to sit     367225   \n",
       "\n",
       "      coco_im_id               p_id  \\\n",
       "1955      281837  coco_dp_id_004409   \n",
       "2473      534271  coco_dp_id_002788   \n",
       "3567      557627  coco_dp_id_030394   \n",
       "\n",
       "                                               pos_tags  \\\n",
       "1955  [(she, PRP), (is, VBZ), (holding, VBG), (an, D...   \n",
       "2473  [(there, EX), (have, VBP), (been, VBN), (many,...   \n",
       "3567  [(there, EX), (was, VBD), (no, DT), (room, NN)...   \n",
       "\n",
       "                                            raw_caption  \\\n",
       "1955    She is holding an umbrella there on the street.   \n",
       "2473  There have been many different pieces of art c...   \n",
       "3567                  There was no room for him to sit.   \n",
       "\n",
       "                                                 tokens                split  \n",
       "1955  [she, is, holding, an, umbrella, there, on, th...         coco_test_5k  \n",
       "2473  [there, have, been, many, different, pieces, o...  reserve_caption_10k  \n",
       "3567          [there, was, no, room, for, him, to, sit]  reserve_caption_10k  "
      ]
     },
     "execution_count": 159,
     "metadata": {},
     "output_type": "execute_result"
    }
   ],
   "source": [
    "exam_1[~exam_1['c_id'].isin(most_there_phrases)]"
   ]
  },
  {
   "cell_type": "code",
   "execution_count": 144,
   "metadata": {
    "hidden": true
   },
   "outputs": [],
   "source": [
    "#combined_25k_df.head(1)"
   ]
  },
  {
   "cell_type": "code",
   "execution_count": 191,
   "metadata": {
    "hidden": true
   },
   "outputs": [],
   "source": [
    "cleaned_25k_df = deepcopy(combined_25k_df)"
   ]
  },
  {
   "cell_type": "code",
   "execution_count": 192,
   "metadata": {
    "hidden": true
   },
   "outputs": [],
   "source": [
    "remove_phrases = ['there are ', 'there is ', 'that ', ]"
   ]
  },
  {
   "cell_type": "code",
   "execution_count": 193,
   "metadata": {
    "hidden": true
   },
   "outputs": [],
   "source": [
    "for rp in remove_phrases:\n",
    "    cleaned_25k_df['caption'] = cleaned_25k_df.caption.str.replace(rp, '')\n",
    "\n",
    "cleaned_25k_df = cleaned_25k_df[~cleaned_25k_df['caption'].apply(lambda x: 'there ' in x)]"
   ]
  },
  {
   "cell_type": "code",
   "execution_count": null,
   "metadata": {
    "hidden": true
   },
   "outputs": [],
   "source": []
  },
  {
   "cell_type": "code",
   "execution_count": null,
   "metadata": {
    "hidden": true
   },
   "outputs": [],
   "source": [
    "def remove_possesives(phrase_tokens):\n",
    "    for idx, t in enumerate(phrase_tokens):"
   ]
  },
  {
   "cell_type": "code",
   "execution_count": 198,
   "metadata": {
    "hidden": true,
    "scrolled": true
   },
   "outputs": [],
   "source": [
    "# cleaned_25k_df['tokens']"
   ]
  },
  {
   "cell_type": "markdown",
   "metadata": {
    "heading_collapsed": true
   },
   "source": [
    "# perplexity computation"
   ]
  },
  {
   "cell_type": "code",
   "execution_count": null,
   "metadata": {
    "hidden": true
   },
   "outputs": [],
   "source": []
  },
  {
   "cell_type": "code",
   "execution_count": null,
   "metadata": {
    "hidden": true
   },
   "outputs": [],
   "source": []
  },
  {
   "cell_type": "markdown",
   "metadata": {},
   "source": [
    "# SAB set"
   ]
  },
  {
   "cell_type": "markdown",
   "metadata": {},
   "source": [
    "10k games \n",
    "2k games "
   ]
  },
  {
   "cell_type": "code",
   "execution_count": null,
   "metadata": {},
   "outputs": [],
   "source": []
  },
  {
   "cell_type": "code",
   "execution_count": null,
   "metadata": {},
   "outputs": [],
   "source": []
  },
  {
   "cell_type": "code",
   "execution_count": null,
   "metadata": {},
   "outputs": [],
   "source": []
  }
 ],
 "metadata": {
  "kernelspec": {
   "display_name": "Python 3",
   "language": "python",
   "name": "python3"
  },
  "language_info": {
   "codemirror_mode": {
    "name": "ipython",
    "version": 3
   },
   "file_extension": ".py",
   "mimetype": "text/x-python",
   "name": "python",
   "nbconvert_exporter": "python",
   "pygments_lexer": "ipython3",
   "version": "3.6.5"
  },
  "notify_time": "30"
 },
 "nbformat": 4,
 "nbformat_minor": 2
}
