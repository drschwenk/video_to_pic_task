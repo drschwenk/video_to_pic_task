{
 "cells": [
  {
   "cell_type": "markdown",
   "metadata": {},
   "source": [
    "# Table of Contents\n",
    "* [1. imports](#1.-imports)\n",
    "* [2. Viconary server data](#2.-Viconary-server-data)\n",
    "\t* [2.1 load data](#2.1-load-data)\n",
    "\t\t* [2.1.1 alternate ways to filter games](#2.1.1-alternate-ways-to-filter-games)\n",
    "\t* [2.2 analysis- prod](#2.2-analysis--prod)\n",
    "\t* [2.3 looking into dupes](#2.3-looking-into-dupes)\n",
    "\t* [2.4 viz games](#2.4-viz-games)\n"
   ]
  },
  {
   "cell_type": "markdown",
   "metadata": {
    "heading_collapsed": true
   },
   "source": [
    "# 1. imports"
   ]
  },
  {
   "cell_type": "code",
   "execution_count": 1,
   "metadata": {
    "hidden": true,
    "run_control": {
     "frozen": false,
     "read_only": false
    }
   },
   "outputs": [],
   "source": [
    "%%capture\n",
    "import numpy as np\n",
    "import pandas as pd\n",
    "import scipy.stats as st\n",
    "from tqdm import tqdm\n",
    "import datetime\n",
    "\n",
    "from copy import deepcopy\n",
    "\n",
    "%load_ext autoreload\n",
    "%autoreload 2\n",
    "\n",
    "import matplotlib as mpl\n",
    "mpl.use(\"Agg\")\n",
    "import matplotlib.pylab as plt\n",
    "import matplotlib.cm as cm\n",
    "#%matplotlib notebook\n",
    "%matplotlib inline\n",
    "%load_ext base16_mplrc\n",
    "%base16_mplrc light solarized\n",
    "#%base16_mplrc dark solarized\n",
    "plt.rcParams['grid.linewidth'] = 0\n",
    "plt.rcParams['figure.figsize'] = (16.0, 10.0)\n",
    "\n",
    "from game_analysis.viconary import useful_cols\n",
    "from game_analysis.viconary import make_standard_fig\n",
    "from game_analysis.viconary import load_hit_data\n",
    "from game_analysis.viconary import plot_submit_times\n",
    "from game_analysis.viconary import plot_task_durations\n",
    "from game_analysis.viconary import comp_task_duration\n",
    "from game_analysis.viconary import comp_batch_time_stats\n",
    "from game_analysis.viconary import load_games_data\n",
    "from game_analysis.viconary import filter_games_by_date\n",
    "from game_analysis.viconary import filter_games_by_batch_id\n",
    "from game_analysis.viconary import filter_games_by_batch_prefix\n",
    "from game_analysis.viconary import display_game_vid\n",
    "from game_analysis.viconary import display_source_vid"
   ]
  },
  {
   "cell_type": "markdown",
   "metadata": {
    "run_control": {
     "frozen": false,
     "read_only": false
    }
   },
   "source": [
    "# 2. Viconary server data"
   ]
  },
  {
   "cell_type": "markdown",
   "metadata": {},
   "source": [
    "## 2.1 load data"
   ]
  },
  {
   "cell_type": "code",
   "execution_count": 117,
   "metadata": {
    "run_control": {
     "frozen": false,
     "read_only": false
    }
   },
   "outputs": [],
   "source": [
    "games_dir = 'ai2-vision-viconary/games/'\n",
    "full_games_df = load_games_data(games_dir)"
   ]
  },
  {
   "cell_type": "code",
   "execution_count": 118,
   "metadata": {
    "run_control": {
     "frozen": false,
     "read_only": false
    }
   },
   "outputs": [],
   "source": [
    "# games_df_by_batch = filter_games_by_batch_prefix(full_games_df, 'vic_prod_2_200')\n",
    "games_df_by_batch = filter_games_by_batch_prefix(full_games_df, 'vic_prod_4_1000')\n",
    "games_df = games_df_by_batch\n",
    "\n",
    "# full_games_df = full_games_df[~(full_games_df['drawer_assignment_id'] == '')]\n",
    "# games_df = full_games_df[full_games_df['drawer_hit_batch_id'] == 'vic_prod_2_100']"
   ]
  },
  {
   "cell_type": "code",
   "execution_count": 120,
   "metadata": {
    "run_control": {
     "frozen": false,
     "read_only": false
    }
   },
   "outputs": [],
   "source": [
    "# games_df.shape"
   ]
  },
  {
   "cell_type": "code",
   "execution_count": 72,
   "metadata": {
    "run_control": {
     "frozen": false,
     "read_only": false
    }
   },
   "outputs": [],
   "source": [
    "submit_time = datetime.datetime(2018, 8, 23, 10, 30)"
   ]
  },
  {
   "cell_type": "code",
   "execution_count": 73,
   "metadata": {
    "run_control": {
     "frozen": false,
     "read_only": false
    }
   },
   "outputs": [],
   "source": [
    "# games_df = filter_games_by_date(full_games_df, submit_time=submit_time, hours_pre=10, hours_post=10)[useful_cols]"
   ]
  },
  {
   "cell_type": "code",
   "execution_count": 74,
   "metadata": {
    "run_control": {
     "frozen": false,
     "read_only": false
    }
   },
   "outputs": [
    {
     "data": {
      "text/plain": [
       "(521, 30)"
      ]
     },
     "execution_count": 74,
     "metadata": {},
     "output_type": "execute_result"
    }
   ],
   "source": [
    "games_df.shape"
   ]
  },
  {
   "cell_type": "code",
   "execution_count": 75,
   "metadata": {
    "run_control": {
     "frozen": false,
     "read_only": false
    }
   },
   "outputs": [],
   "source": [
    "working_df = deepcopy(games_df)"
   ]
  },
  {
   "cell_type": "code",
   "execution_count": null,
   "metadata": {
    "run_control": {
     "frozen": false,
     "read_only": false
    }
   },
   "outputs": [],
   "source": []
  },
  {
   "cell_type": "markdown",
   "metadata": {
    "heading_collapsed": true
   },
   "source": [
    "### 2.1.1 alternate ways to filter games"
   ]
  },
  {
   "cell_type": "code",
   "execution_count": 787,
   "metadata": {
    "hidden": true,
    "run_control": {
     "frozen": false,
     "read_only": false
    }
   },
   "outputs": [],
   "source": [
    "# filter_batch_id = ['third_qualification_test', 'fourth_qualification_test']# filter_b \n",
    "# filter_batch_id = ['prod_b1_300', 'prod_b2_500', 'prod_b3_500', 'prod_b4_1500', 'prod_b5_1000', 'prod_b6_2000', 'prod_b7_2000', 'prod_b8_1000', 'prod_b9_2000']\n",
    "# # filter_batch_id = ['prod_b9_2000']\n",
    "# games_df_by_batch = filter_games_by_batch_id(full_games_df, filter_batch_id)\n",
    "# games_df = games_df_by_batch"
   ]
  },
  {
   "cell_type": "code",
   "execution_count": 838,
   "metadata": {
    "hidden": true,
    "run_control": {
     "frozen": false,
     "read_only": false
    }
   },
   "outputs": [],
   "source": [
    "# submit_time = datetime.datetime(2018, 5, 26, 0, 45)\n",
    "# stop_time = datetime.datetime(2018, 5, 26, 23, 45)\n",
    "\n",
    "# games_df_by_date = filter_games_by_date(full_games_df, submit_time , 1, 24 )\n",
    "# supplement_with_hit_data(games_df_by_date, worker_lookup)\n",
    "\n",
    "# games_df = pd.concat([games_df_by_date, games_df_by_batch])"
   ]
  },
  {
   "cell_type": "markdown",
   "metadata": {
    "heading_collapsed": true
   },
   "source": [
    "## 2.2 analysis- prod"
   ]
  },
  {
   "cell_type": "code",
   "execution_count": 79,
   "metadata": {
    "hidden": true,
    "run_control": {
     "frozen": false,
     "read_only": false
    }
   },
   "outputs": [
    {
     "data": {
      "text/plain": [
       "vic_prod_4_1000    521\n",
       "Name: drawer_hit_batch_id, dtype: int64"
      ]
     },
     "execution_count": 79,
     "metadata": {},
     "output_type": "execute_result"
    }
   ],
   "source": [
    "working_df.drawer_hit_batch_id.value_counts()"
   ]
  },
  {
   "cell_type": "code",
   "execution_count": 80,
   "metadata": {
    "hidden": true,
    "run_control": {
     "frozen": false,
     "read_only": false
    }
   },
   "outputs": [],
   "source": [
    "assignement_returned_df = pd.read_pickle('hitdata.pkl')"
   ]
  },
  {
   "cell_type": "code",
   "execution_count": 81,
   "metadata": {
    "hidden": true,
    "run_control": {
     "frozen": false,
     "read_only": false
    }
   },
   "outputs": [],
   "source": [
    "in_game_data = set(working_df.drawer_assignment_id.tolist())"
   ]
  },
  {
   "cell_type": "code",
   "execution_count": 82,
   "metadata": {
    "hidden": true,
    "run_control": {
     "frozen": false,
     "read_only": false
    }
   },
   "outputs": [],
   "source": [
    "in_game_data_df = assignement_returned_df[assignement_returned_df.AssignmentId.isin(in_game_data)]\n",
    "missing_from_game_data = assignement_returned_df[~assignement_returned_df.AssignmentId.isin(in_game_data)]"
   ]
  },
  {
   "cell_type": "code",
   "execution_count": 83,
   "metadata": {
    "hidden": true,
    "run_control": {
     "frozen": false,
     "read_only": false
    }
   },
   "outputs": [],
   "source": [
    "# missing_from_game_data"
   ]
  },
  {
   "cell_type": "code",
   "execution_count": 84,
   "metadata": {
    "hidden": true,
    "run_control": {
     "frozen": false,
     "read_only": false
    }
   },
   "outputs": [],
   "source": [
    "# working_df.id.value_counts()"
   ]
  },
  {
   "cell_type": "code",
   "execution_count": 101,
   "metadata": {
    "hidden": true,
    "run_control": {
     "frozen": false,
     "read_only": false
    }
   },
   "outputs": [],
   "source": [
    "worker_focus_df = deepcopy(working_df)"
   ]
  },
  {
   "cell_type": "code",
   "execution_count": 113,
   "metadata": {
    "hidden": true,
    "run_control": {
     "frozen": false,
     "read_only": false
    }
   },
   "outputs": [
    {
     "data": {
      "text/html": [
       "<div>\n",
       "<style scoped>\n",
       "    .dataframe tbody tr th:only-of-type {\n",
       "        vertical-align: middle;\n",
       "    }\n",
       "\n",
       "    .dataframe tbody tr th {\n",
       "        vertical-align: top;\n",
       "    }\n",
       "\n",
       "    .dataframe thead tr th {\n",
       "        text-align: left;\n",
       "    }\n",
       "\n",
       "    .dataframe thead tr:last-of-type th {\n",
       "        text-align: right;\n",
       "    }\n",
       "</style>\n",
       "<table border=\"1\" class=\"dataframe\">\n",
       "  <thead>\n",
       "    <tr>\n",
       "      <th></th>\n",
       "      <th>duration_in_min</th>\n",
       "      <th>count</th>\n",
       "      <th>total_hours</th>\n",
       "      <th>avg_hourly_rate</th>\n",
       "    </tr>\n",
       "    <tr>\n",
       "      <th></th>\n",
       "      <th>sum</th>\n",
       "      <th>sum</th>\n",
       "      <th></th>\n",
       "      <th></th>\n",
       "    </tr>\n",
       "    <tr>\n",
       "      <th>drawer_worker_id</th>\n",
       "      <th></th>\n",
       "      <th></th>\n",
       "      <th></th>\n",
       "      <th></th>\n",
       "    </tr>\n",
       "  </thead>\n",
       "  <tbody>\n",
       "    <tr>\n",
       "      <th>A6U2C66WQ7QQN</th>\n",
       "      <td>3.25</td>\n",
       "      <td>1.8</td>\n",
       "      <td>0.054167</td>\n",
       "      <td>33.230769</td>\n",
       "    </tr>\n",
       "    <tr>\n",
       "      <th>A3TUJHF9LW3M8N</th>\n",
       "      <td>3.76</td>\n",
       "      <td>1.8</td>\n",
       "      <td>0.062667</td>\n",
       "      <td>28.723404</td>\n",
       "    </tr>\n",
       "    <tr>\n",
       "      <th>A25XXQPMBBDAV3</th>\n",
       "      <td>38.79</td>\n",
       "      <td>16.8</td>\n",
       "      <td>0.646500</td>\n",
       "      <td>25.986079</td>\n",
       "    </tr>\n",
       "    <tr>\n",
       "      <th>A1LRS8BYH64JOH</th>\n",
       "      <td>25.43</td>\n",
       "      <td>9.0</td>\n",
       "      <td>0.423833</td>\n",
       "      <td>21.234762</td>\n",
       "    </tr>\n",
       "    <tr>\n",
       "      <th>A3UAD8T88XUPI4</th>\n",
       "      <td>159.08</td>\n",
       "      <td>54.6</td>\n",
       "      <td>2.651333</td>\n",
       "      <td>20.593412</td>\n",
       "    </tr>\n",
       "  </tbody>\n",
       "</table>\n",
       "</div>"
      ],
      "text/plain": [
       "                 duration_in_min count total_hours avg_hourly_rate\n",
       "                             sum   sum                            \n",
       "drawer_worker_id                                                  \n",
       "A6U2C66WQ7QQN               3.25   1.8    0.054167       33.230769\n",
       "A3TUJHF9LW3M8N              3.76   1.8    0.062667       28.723404\n",
       "A25XXQPMBBDAV3             38.79  16.8    0.646500       25.986079\n",
       "A1LRS8BYH64JOH             25.43   9.0    0.423833       21.234762\n",
       "A3UAD8T88XUPI4            159.08  54.6    2.651333       20.593412"
      ]
     },
     "execution_count": 113,
     "metadata": {},
     "output_type": "execute_result"
    }
   ],
   "source": [
    "worker_focus_df = worker_focus_df[['drawer_worker_id', 'duration_in_min']]\n",
    "worker_focus_df['count'] = np.ones_like(worker_focus_df['drawer_worker_id']) * .60\n",
    "worker_avg_score = worker_focus_df.groupby('drawer_worker_id').aggregate(['sum'])\n",
    "\n",
    "worker_avg_score['total_hours'] = worker_avg_score['duration_in_min']['sum'].apply(lambda x: x/60)\n",
    "worker_avg_score['avg_hourly_rate'] = worker_avg_score['count']['sum'] / worker_avg_score['total_hours']\n",
    "worker_avg_score.sort_values('avg_hourly_rate', ascending=False).head()"
   ]
  },
  {
   "cell_type": "code",
   "execution_count": 114,
   "metadata": {
    "hidden": true,
    "run_control": {
     "frozen": false,
     "read_only": false
    }
   },
   "outputs": [],
   "source": [
    "# _ = worker_avg_score.avg_hourly_rate.hist()"
   ]
  },
  {
   "cell_type": "code",
   "execution_count": 116,
   "metadata": {
    "hidden": true
   },
   "outputs": [
    {
     "data": {
      "text/plain": [
       "1.5"
      ]
     },
     "execution_count": 116,
     "metadata": {},
     "output_type": "execute_result"
    }
   ],
   "source": [
    "60/40"
   ]
  },
  {
   "cell_type": "code",
   "execution_count": 115,
   "metadata": {
    "hidden": true
   },
   "outputs": [
    {
     "data": {
      "text/plain": [
       "8.85968460437168"
      ]
     },
     "execution_count": 115,
     "metadata": {},
     "output_type": "execute_result"
    }
   ],
   "source": [
    "worker_avg_score.avg_hourly_rate.median() "
   ]
  },
  {
   "cell_type": "code",
   "execution_count": 108,
   "metadata": {
    "hidden": true,
    "run_control": {
     "frozen": false,
     "read_only": false
    }
   },
   "outputs": [
    {
     "data": {
      "text/plain": [
       "3"
      ]
     },
     "execution_count": 108,
     "metadata": {},
     "output_type": "execute_result"
    }
   ],
   "source": [
    "working_df.number_events.min()"
   ]
  },
  {
   "cell_type": "code",
   "execution_count": 26,
   "metadata": {
    "hidden": true,
    "run_control": {
     "frozen": false,
     "read_only": false
    }
   },
   "outputs": [],
   "source": [
    "# _ = working_df.number_events.hist()"
   ]
  },
  {
   "cell_type": "code",
   "execution_count": 58,
   "metadata": {
    "hidden": true,
    "run_control": {
     "frozen": false,
     "read_only": false
    }
   },
   "outputs": [
    {
     "data": {
      "text/plain": [
       "0.33695652173913043"
      ]
     },
     "execution_count": 58,
     "metadata": {},
     "output_type": "execute_result"
    }
   ],
   "source": [
    "game_event_dict = {}\n",
    "for g in working_df.to_dict(orient='record'):\n",
    "    game_event_dict[g['id']] = [e['event_name'] for e in g['events']]\n",
    "\n",
    "no_remove_games = set([g for g, events in game_event_dict.items() if 'removeIconFromServer' not in events])\n",
    "no_remove_game_df = focus_df[focus_df['id'].isin(no_remove_games)]\n",
    "\n",
    "no_remove_game_df.shape[0] / focus_df.shape[0]"
   ]
  },
  {
   "cell_type": "code",
   "execution_count": 65,
   "metadata": {
    "hidden": true,
    "run_control": {
     "frozen": false,
     "read_only": false
    }
   },
   "outputs": [],
   "source": [
    "all_events = pd.Series([e for g in game_event_dict.values() for e in g])"
   ]
  },
  {
   "cell_type": "code",
   "execution_count": 28,
   "metadata": {
    "hidden": true,
    "run_control": {
     "frozen": false,
     "read_only": false
    }
   },
   "outputs": [],
   "source": [
    "# all_events.value_counts()"
   ]
  },
  {
   "cell_type": "code",
   "execution_count": null,
   "metadata": {
    "hidden": true,
    "run_control": {
     "frozen": false,
     "read_only": false
    }
   },
   "outputs": [],
   "source": [
    "np.pad()"
   ]
  },
  {
   "cell_type": "code",
   "execution_count": null,
   "metadata": {
    "hidden": true,
    "run_control": {
     "frozen": false,
     "read_only": false
    }
   },
   "outputs": [],
   "source": []
  },
  {
   "cell_type": "code",
   "execution_count": null,
   "metadata": {
    "hidden": true,
    "run_control": {
     "frozen": false,
     "read_only": false
    }
   },
   "outputs": [],
   "source": []
  },
  {
   "cell_type": "code",
   "execution_count": null,
   "metadata": {
    "hidden": true,
    "run_control": {
     "frozen": false,
     "read_only": false
    }
   },
   "outputs": [],
   "source": []
  },
  {
   "cell_type": "code",
   "execution_count": null,
   "metadata": {
    "hidden": true,
    "run_control": {
     "frozen": false,
     "read_only": false
    }
   },
   "outputs": [],
   "source": []
  },
  {
   "cell_type": "code",
   "execution_count": null,
   "metadata": {
    "hidden": true,
    "run_control": {
     "frozen": false,
     "read_only": false
    }
   },
   "outputs": [],
   "source": []
  },
  {
   "cell_type": "markdown",
   "metadata": {
    "heading_collapsed": true
   },
   "source": [
    "## 2.3 looking into dupes"
   ]
  },
  {
   "cell_type": "code",
   "execution_count": 80,
   "metadata": {
    "hidden": true,
    "run_control": {
     "frozen": false,
     "read_only": false
    }
   },
   "outputs": [],
   "source": [
    "dupe_vid_counts = focus_df.video.value_counts()\n",
    "dupe_vid_counts = dupe_vid_counts[dupe_vid_counts > 1]"
   ]
  },
  {
   "cell_type": "code",
   "execution_count": 67,
   "metadata": {
    "hidden": true,
    "run_control": {
     "frozen": false,
     "read_only": false
    }
   },
   "outputs": [],
   "source": [
    "dupevid = dupe_vid_counts.index[0]"
   ]
  },
  {
   "cell_type": "code",
   "execution_count": 82,
   "metadata": {
    "hidden": true,
    "run_control": {
     "frozen": false,
     "read_only": false
    }
   },
   "outputs": [
    {
     "data": {
      "text/html": [
       "<div>\n",
       "<style scoped>\n",
       "    .dataframe tbody tr th:only-of-type {\n",
       "        vertical-align: middle;\n",
       "    }\n",
       "\n",
       "    .dataframe tbody tr th {\n",
       "        vertical-align: top;\n",
       "    }\n",
       "\n",
       "    .dataframe thead th {\n",
       "        text-align: right;\n",
       "    }\n",
       "</style>\n",
       "<table border=\"1\" class=\"dataframe\">\n",
       "  <thead>\n",
       "    <tr style=\"text-align: right;\">\n",
       "      <th></th>\n",
       "      <th>id</th>\n",
       "      <th>video</th>\n",
       "      <th>drawer</th>\n",
       "      <th>drawer_assignment_id</th>\n",
       "      <th>drawer_hit_batch_id</th>\n",
       "      <th>ended_at</th>\n",
       "      <th>events</th>\n",
       "      <th>state</th>\n",
       "    </tr>\n",
       "  </thead>\n",
       "  <tbody>\n",
       "    <tr>\n",
       "      <th>13</th>\n",
       "      <td>game.91fbcd12-374b-4118-a85c-3669435394ad</td>\n",
       "      <td>WU8I6_cropped_c108_s6_5_e16_0</td>\n",
       "      <td>user.8a65726d</td>\n",
       "      <td>3R9WASFE203P3P0VEGQSYTRSQ0PFZX</td>\n",
       "      <td>batch_1</td>\n",
       "      <td>2018-07-13T17:18:39.375Z</td>\n",
       "      <td>[{'y': 136.40625, 'x': 165.40625, 'username': ...</td>\n",
       "      <td>finished</td>\n",
       "    </tr>\n",
       "    <tr>\n",
       "      <th>303</th>\n",
       "      <td>game.076e428b-ac62-4a59-8c55-eadb1241b55a</td>\n",
       "      <td>WU8I6_cropped_c108_s6_5_e16_0</td>\n",
       "      <td>user.ed3b3099</td>\n",
       "      <td>3URFVVM1665B6BRZNQUPE6I7LPIUZ9</td>\n",
       "      <td>batch_1</td>\n",
       "      <td>2018-07-12T21:30:47.105Z</td>\n",
       "      <td>[{'guessCorrect': False, 'event_name': 'endGam...</td>\n",
       "      <td>finished</td>\n",
       "    </tr>\n",
       "    <tr>\n",
       "      <th>387</th>\n",
       "      <td>game.95cff519-a8bd-411d-b45d-f23eefb73466</td>\n",
       "      <td>WU8I6_cropped_c108_s6_5_e16_0</td>\n",
       "      <td>user.1bb16361</td>\n",
       "      <td>3DBQWDE4Y7L3K3TN5G2PHUT6Q7JN5E</td>\n",
       "      <td>batch_1</td>\n",
       "      <td>2018-07-12T23:20:48.459Z</td>\n",
       "      <td>[{'width': '80px', 'name': 'man', 'x': 65.7395...</td>\n",
       "      <td>finished</td>\n",
       "    </tr>\n",
       "    <tr>\n",
       "      <th>434</th>\n",
       "      <td>game.79625c4e-7137-4145-ac91-d73a1726acfa</td>\n",
       "      <td>WU8I6_cropped_c108_s6_5_e16_0</td>\n",
       "      <td>user.64e34c13</td>\n",
       "      <td>39U1BHVTDMEY11B3OT08BW1E1T3T3K</td>\n",
       "      <td>batch_1</td>\n",
       "      <td>2018-07-12T23:02:48.237Z</td>\n",
       "      <td>[{'x': 210.0625, 'event_name': 'placingIconFro...</td>\n",
       "      <td>finished</td>\n",
       "    </tr>\n",
       "  </tbody>\n",
       "</table>\n",
       "</div>"
      ],
      "text/plain": [
       "                                            id                          video  \\\n",
       "13   game.91fbcd12-374b-4118-a85c-3669435394ad  WU8I6_cropped_c108_s6_5_e16_0   \n",
       "303  game.076e428b-ac62-4a59-8c55-eadb1241b55a  WU8I6_cropped_c108_s6_5_e16_0   \n",
       "387  game.95cff519-a8bd-411d-b45d-f23eefb73466  WU8I6_cropped_c108_s6_5_e16_0   \n",
       "434  game.79625c4e-7137-4145-ac91-d73a1726acfa  WU8I6_cropped_c108_s6_5_e16_0   \n",
       "\n",
       "            drawer            drawer_assignment_id drawer_hit_batch_id  \\\n",
       "13   user.8a65726d  3R9WASFE203P3P0VEGQSYTRSQ0PFZX             batch_1   \n",
       "303  user.ed3b3099  3URFVVM1665B6BRZNQUPE6I7LPIUZ9             batch_1   \n",
       "387  user.1bb16361  3DBQWDE4Y7L3K3TN5G2PHUT6Q7JN5E             batch_1   \n",
       "434  user.64e34c13  39U1BHVTDMEY11B3OT08BW1E1T3T3K             batch_1   \n",
       "\n",
       "                     ended_at  \\\n",
       "13   2018-07-13T17:18:39.375Z   \n",
       "303  2018-07-12T21:30:47.105Z   \n",
       "387  2018-07-12T23:20:48.459Z   \n",
       "434  2018-07-12T23:02:48.237Z   \n",
       "\n",
       "                                                events     state  \n",
       "13   [{'y': 136.40625, 'x': 165.40625, 'username': ...  finished  \n",
       "303  [{'guessCorrect': False, 'event_name': 'endGam...  finished  \n",
       "387  [{'width': '80px', 'name': 'man', 'x': 65.7395...  finished  \n",
       "434  [{'x': 210.0625, 'event_name': 'placingIconFro...  finished  "
      ]
     },
     "execution_count": 82,
     "metadata": {},
     "output_type": "execute_result"
    }
   ],
   "source": [
    "focus_df[working_df.video == dupevid]"
   ]
  },
  {
   "cell_type": "code",
   "execution_count": 88,
   "metadata": {
    "hidden": true,
    "run_control": {
     "frozen": false,
     "read_only": false
    }
   },
   "outputs": [],
   "source": [
    "pickled_hits =!  ls hit_data/\n",
    "pickled_hits = [f for f in pickled_hits if 'prod' in f]"
   ]
  },
  {
   "cell_type": "code",
   "execution_count": 110,
   "metadata": {
    "hidden": true,
    "run_control": {
     "frozen": false,
     "read_only": false
    }
   },
   "outputs": [],
   "source": [
    "hits = []\n",
    "for ph in pickled_hits:\n",
    "    pf = 'hit_data/' + ph\n",
    "    hits.extend(pd.read_pickle(pf))"
   ]
  },
  {
   "cell_type": "code",
   "execution_count": 113,
   "metadata": {
    "hidden": true,
    "run_control": {
     "frozen": false,
     "read_only": false
    }
   },
   "outputs": [],
   "source": [
    "video_names_hits = [h['HIT']['Question'].split('.mp4')[0].split('/')[-1] for h in hits]\n",
    "video_names_hits = pd.Series(video_names_hits)"
   ]
  },
  {
   "cell_type": "code",
   "execution_count": 118,
   "metadata": {
    "hidden": true,
    "run_control": {
     "frozen": false,
     "read_only": false
    }
   },
   "outputs": [],
   "source": [
    "more_than_1 = video_names_hits.value_counts()[video_names_hits.value_counts() == 2]"
   ]
  },
  {
   "cell_type": "code",
   "execution_count": 95,
   "metadata": {
    "hidden": true,
    "run_control": {
     "frozen": false,
     "read_only": false
    }
   },
   "outputs": [
    {
     "data": {
      "text/html": [
       "<div>\n",
       "<style scoped>\n",
       "    .dataframe tbody tr th:only-of-type {\n",
       "        vertical-align: middle;\n",
       "    }\n",
       "\n",
       "    .dataframe tbody tr th {\n",
       "        vertical-align: top;\n",
       "    }\n",
       "\n",
       "    .dataframe thead th {\n",
       "        text-align: right;\n",
       "    }\n",
       "</style>\n",
       "<table border=\"1\" class=\"dataframe\">\n",
       "  <thead>\n",
       "    <tr style=\"text-align: right;\">\n",
       "      <th></th>\n",
       "      <th>id</th>\n",
       "      <th>drawer_assignment_id</th>\n",
       "      <th>drawer_worker_id</th>\n",
       "      <th>drawer_hit_batch_id</th>\n",
       "      <th>number_events</th>\n",
       "      <th>game_duration</th>\n",
       "      <th>events</th>\n",
       "      <th>duration_in_min</th>\n",
       "      <th>videoFilename</th>\n",
       "      <th>video</th>\n",
       "    </tr>\n",
       "  </thead>\n",
       "  <tbody>\n",
       "    <tr>\n",
       "      <th>0</th>\n",
       "      <td>game.291e7c94-d44e-4e3e-a610-d7cd54b73cfe</td>\n",
       "      <td>34Q075JO1Y01BP0X3NYF3SKDIR001V</td>\n",
       "      <td>A2FUMA4UR6S920</td>\n",
       "      <td>batch_1</td>\n",
       "      <td>16</td>\n",
       "      <td>00:01:41.131000</td>\n",
       "      <td>[{'height': '200px', 'y': 177.40277099609375, ...</td>\n",
       "      <td>1.69</td>\n",
       "      <td>https://s3-us-west-2.amazonaws.com/ai2-vision-...</td>\n",
       "      <td>PIMO4_cropped_c150_s1_8_e10_3</td>\n",
       "    </tr>\n",
       "    <tr>\n",
       "      <th>1</th>\n",
       "      <td>game.cb4f034e-2ad4-428c-849d-a18c265f4317</td>\n",
       "      <td>3KOPY89HM9P4NYFYCZM49QE6FKN3J0</td>\n",
       "      <td>A12HZGOZQD5YK7</td>\n",
       "      <td>batch_1</td>\n",
       "      <td>70</td>\n",
       "      <td>00:04:34.098000</td>\n",
       "      <td>[{'event_name': 'placingIconFromServer', 'src'...</td>\n",
       "      <td>4.57</td>\n",
       "      <td>https://s3-us-west-2.amazonaws.com/ai2-vision-...</td>\n",
       "      <td>1M8EE_cropped_c131_c154_s22_6_e31_1</td>\n",
       "    </tr>\n",
       "    <tr>\n",
       "      <th>2</th>\n",
       "      <td>game.804f59dc-ad97-4081-a204-f2b50eadf522</td>\n",
       "      <td>32XVDSJFP0K53OP0BWLR681VD1R2M3</td>\n",
       "      <td>A28APJKWR06OMJ</td>\n",
       "      <td>batch_1</td>\n",
       "      <td>18</td>\n",
       "      <td>00:01:36.767000</td>\n",
       "      <td>[{'event_name': 'placingIconFromServer', 'src'...</td>\n",
       "      <td>1.61</td>\n",
       "      <td>https://s3-us-west-2.amazonaws.com/ai2-vision-...</td>\n",
       "      <td>LY10X_cropped_c118_s3_0_e14_9</td>\n",
       "    </tr>\n",
       "    <tr>\n",
       "      <th>3</th>\n",
       "      <td>game.d77d6a1d-ba8a-4f59-b5b4-9189113e0fe5</td>\n",
       "      <td>39PAAFCODNNIDADM836EURTY47HVT6</td>\n",
       "      <td>A2EJLS2NDBTQHX</td>\n",
       "      <td>batch_1</td>\n",
       "      <td>61</td>\n",
       "      <td>00:11:34.399000</td>\n",
       "      <td>[{'event_name': 'placingIconFromServer', 'src'...</td>\n",
       "      <td>11.57</td>\n",
       "      <td>https://s3-us-west-2.amazonaws.com/ai2-vision-...</td>\n",
       "      <td>QVQNK_cropped_c074_c071_c002_s10_3_e19_2</td>\n",
       "    </tr>\n",
       "    <tr>\n",
       "      <th>4</th>\n",
       "      <td>game.e538c676-9815-485e-aa49-067400837f6e</td>\n",
       "      <td>36ZN444YTSLXECOEDFLWLSXHXWWIO0</td>\n",
       "      <td>A25XXQPMBBDAV3</td>\n",
       "      <td>batch_1</td>\n",
       "      <td>41</td>\n",
       "      <td>00:02:28.812000</td>\n",
       "      <td>[{'height': '200px', 'y': 170.7421875, 'event_...</td>\n",
       "      <td>2.48</td>\n",
       "      <td>https://s3-us-west-2.amazonaws.com/ai2-vision-...</td>\n",
       "      <td>ZU8Q1_cropped_c062_c112_s4_9_e16_5</td>\n",
       "    </tr>\n",
       "    <tr>\n",
       "      <th>5</th>\n",
       "      <td>game.4afc5eb0-fecf-4d89-8061-8d55dfa9a88c</td>\n",
       "      <td>3RXCAC0YISCGXTV3GAWX3UU13EU8GP</td>\n",
       "      <td>A2FUMA4UR6S920</td>\n",
       "      <td>batch_1</td>\n",
       "      <td>24</td>\n",
       "      <td>00:01:36.927000</td>\n",
       "      <td>[{'height': '80px', 'y': 133.40277099609375, '...</td>\n",
       "      <td>1.62</td>\n",
       "      <td>https://s3-us-west-2.amazonaws.com/ai2-vision-...</td>\n",
       "      <td>Q0BNP_cropped_c106_s23_8_e32_0</td>\n",
       "    </tr>\n",
       "    <tr>\n",
       "      <th>6</th>\n",
       "      <td>game.603b5ce9-cda6-4294-8f9c-fe7a079f7977</td>\n",
       "      <td>3OB0CAO74IC9CVHWDKC9N7U4BT9YHR</td>\n",
       "      <td>A2FUMA4UR6S920</td>\n",
       "      <td>batch_1</td>\n",
       "      <td>27</td>\n",
       "      <td>00:02:42.122000</td>\n",
       "      <td>[{'height': '200px', 'y': 102.40277099609375, ...</td>\n",
       "      <td>2.70</td>\n",
       "      <td>https://s3-us-west-2.amazonaws.com/ai2-vision-...</td>\n",
       "      <td>TTZVW_cropped_c090_s0_0_e9_5</td>\n",
       "    </tr>\n",
       "    <tr>\n",
       "      <th>7</th>\n",
       "      <td>game.053d8940-9be0-492e-9864-a37ef0b8cc7a</td>\n",
       "      <td>3LWJHTCVCD9GPXZ4RK7F70FPW5GFQ8</td>\n",
       "      <td>A2EJLS2NDBTQHX</td>\n",
       "      <td>batch_1</td>\n",
       "      <td>38</td>\n",
       "      <td>00:03:15.368000</td>\n",
       "      <td>[{'height': '200px', 'y': -58.59375, 'event_na...</td>\n",
       "      <td>3.26</td>\n",
       "      <td>https://s3-us-west-2.amazonaws.com/ai2-vision-...</td>\n",
       "      <td>BBQIS_cropped_c151_s20_8_e29_1</td>\n",
       "    </tr>\n",
       "    <tr>\n",
       "      <th>8</th>\n",
       "      <td>game.41fdd8f9-f3dd-4ae5-a373-9f37e4f94cd2</td>\n",
       "      <td>3R0T90IZ1TZI9WLGXMC25GQKT5FGC3</td>\n",
       "      <td>A3MHYBS6PHJ5QG</td>\n",
       "      <td>batch_1</td>\n",
       "      <td>29</td>\n",
       "      <td>00:02:22.840000</td>\n",
       "      <td>[{'height': '200px', 'y': 13.2889404296875, 'e...</td>\n",
       "      <td>2.38</td>\n",
       "      <td>https://s3-us-west-2.amazonaws.com/ai2-vision-...</td>\n",
       "      <td>KNXCB_cropped_c129_s0_0_e9_1</td>\n",
       "    </tr>\n",
       "    <tr>\n",
       "      <th>9</th>\n",
       "      <td>game.0a64e8cc-bca6-40bf-befa-0a0bd0a5b0dc</td>\n",
       "      <td>36PW28KO40JWW3SR7DQNZIFKGMRAEQ</td>\n",
       "      <td>ABI1EI8UQK6LK</td>\n",
       "      <td>batch_1</td>\n",
       "      <td>48</td>\n",
       "      <td>00:05:52.228000</td>\n",
       "      <td>[{'event_name': 'placingIconFromServer', 'src'...</td>\n",
       "      <td>5.87</td>\n",
       "      <td>https://s3-us-west-2.amazonaws.com/ai2-vision-...</td>\n",
       "      <td>UJO36_cropped_c107_c119_s8_2_e16_5</td>\n",
       "    </tr>\n",
       "    <tr>\n",
       "      <th>10</th>\n",
       "      <td>game.972f466a-65a9-4ae2-90f3-616b627338ed</td>\n",
       "      <td>3UOUJI6MTE1PHCX68NX6N8CL3VIXUM</td>\n",
       "      <td>A2A4UAFZ5LW71K</td>\n",
       "      <td>batch_1</td>\n",
       "      <td>101</td>\n",
       "      <td>00:05:03.021000</td>\n",
       "      <td>[{'height': '200px', 'y': 47.72222733797889, '...</td>\n",
       "      <td>5.05</td>\n",
       "      <td>https://s3-us-west-2.amazonaws.com/ai2-vision-...</td>\n",
       "      <td>9HI9D_cropped_c113_s4_8_e15_3</td>\n",
       "    </tr>\n",
       "    <tr>\n",
       "      <th>11</th>\n",
       "      <td>game.340e7b14-7f08-44a5-8eda-3c0c9c050be1</td>\n",
       "      <td>3NPFYT4IZDR6CUWBOI8PJTBUUNAXGT</td>\n",
       "      <td>ABI1EI8UQK6LK</td>\n",
       "      <td>batch_1</td>\n",
       "      <td>48</td>\n",
       "      <td>00:05:15.684000</td>\n",
       "      <td>[{'event_name': 'placingIconFromServer', 'src'...</td>\n",
       "      <td>5.26</td>\n",
       "      <td>https://s3-us-west-2.amazonaws.com/ai2-vision-...</td>\n",
       "      <td>RGE8C_cropped_c057_s0_0_e8_9</td>\n",
       "    </tr>\n",
       "    <tr>\n",
       "      <th>12</th>\n",
       "      <td>game.74cab24a-5d1f-411c-9244-8cb10ff444db</td>\n",
       "      <td>31IBVUNM9TM8U5VLDJ1PDNEXDXUVFH</td>\n",
       "      <td>A3AFC26CB0AXMI</td>\n",
       "      <td>batch_1</td>\n",
       "      <td>21</td>\n",
       "      <td>00:02:06.600000</td>\n",
       "      <td>[{'y': 97.40625, 'event_name': 'placingIconFro...</td>\n",
       "      <td>2.11</td>\n",
       "      <td>https://s3-us-west-2.amazonaws.com/ai2-vision-...</td>\n",
       "      <td>1TW98_cropped_c006_s12_4_e21_5</td>\n",
       "    </tr>\n",
       "    <tr>\n",
       "      <th>13</th>\n",
       "      <td>game.a469b051-2727-404d-8c9b-6d78dd1b6b7d</td>\n",
       "      <td>3L0KT67Y8F3Y24VCOEO8RL16K4QYSC</td>\n",
       "      <td>A2FUMA4UR6S920</td>\n",
       "      <td>batch_1</td>\n",
       "      <td>19</td>\n",
       "      <td>00:02:32.495000</td>\n",
       "      <td>[{'height': '200px', 'y': 156.40277099609375, ...</td>\n",
       "      <td>2.54</td>\n",
       "      <td>https://s3-us-west-2.amazonaws.com/ai2-vision-...</td>\n",
       "      <td>GBZAK_cropped_c071_s15_5_e24_0</td>\n",
       "    </tr>\n",
       "    <tr>\n",
       "      <th>14</th>\n",
       "      <td>game.cc2636e7-d1b6-45fb-9d00-7b85f56310b2</td>\n",
       "      <td>37U1UTWH9W97MJ4HWLQ92Y885N58RL</td>\n",
       "      <td>A2FUMA4UR6S920</td>\n",
       "      <td>batch_1</td>\n",
       "      <td>25</td>\n",
       "      <td>00:01:39.914000</td>\n",
       "      <td>[{'height': '200px', 'y': 108.40277099609375, ...</td>\n",
       "      <td>1.67</td>\n",
       "      <td>https://s3-us-west-2.amazonaws.com/ai2-vision-...</td>\n",
       "      <td>IBRFM_cropped_c059_s0_0_e10_0</td>\n",
       "    </tr>\n",
       "    <tr>\n",
       "      <th>15</th>\n",
       "      <td>game.b6deffd8-92ab-49fd-a737-9b1c78c2d049</td>\n",
       "      <td>336KAV9KYRF5X5EEUZ9203O2MASY2A</td>\n",
       "      <td>A2A4UAFZ5LW71K</td>\n",
       "      <td>batch_1</td>\n",
       "      <td>38</td>\n",
       "      <td>00:02:48.047000</td>\n",
       "      <td>[{'height': '80px', 'y': 103.75, 'event_name':...</td>\n",
       "      <td>2.80</td>\n",
       "      <td>https://s3-us-west-2.amazonaws.com/ai2-vision-...</td>\n",
       "      <td>5RY3S_cropped_c140_s12_3_e22_3</td>\n",
       "    </tr>\n",
       "    <tr>\n",
       "      <th>16</th>\n",
       "      <td>game.6ee319e1-f7f4-41a4-b1af-cbbd58f5e9f2</td>\n",
       "      <td>38YMOXR4MVMPQ12F203H5JKYR7TW6P</td>\n",
       "      <td>A2FUMA4UR6S920</td>\n",
       "      <td>batch_1</td>\n",
       "      <td>34</td>\n",
       "      <td>00:02:47.687000</td>\n",
       "      <td>[{'height': '200px', 'y': 97.40277099609375, '...</td>\n",
       "      <td>2.79</td>\n",
       "      <td>https://s3-us-west-2.amazonaws.com/ai2-vision-...</td>\n",
       "      <td>0HD0T_cropped_c079_c126_s18_7_e28_2</td>\n",
       "    </tr>\n",
       "    <tr>\n",
       "      <th>17</th>\n",
       "      <td>game.560addac-0ec0-4647-b161-a965c87bc994</td>\n",
       "      <td>3HWRJOOET6P0WZELODCEKI9Q2STSEZ</td>\n",
       "      <td>A1JKSAQ8UNCE7B</td>\n",
       "      <td>batch_1</td>\n",
       "      <td>51</td>\n",
       "      <td>00:04:28.935000</td>\n",
       "      <td>[{'height': '200px', 'y': 107.7396240234375, '...</td>\n",
       "      <td>4.48</td>\n",
       "      <td>https://s3-us-west-2.amazonaws.com/ai2-vision-...</td>\n",
       "      <td>3OQ8M_cropped_c008_c124_c141_s9_5_e18_2</td>\n",
       "    </tr>\n",
       "    <tr>\n",
       "      <th>18</th>\n",
       "      <td>game.f0639b68-cc22-4b30-a027-8fa1bb30a6b1</td>\n",
       "      <td>3N2BF7Y2VRH9IESIUHOYTC7X2JWMHQ</td>\n",
       "      <td>AARYGXZXH8WMH</td>\n",
       "      <td>batch_1</td>\n",
       "      <td>13</td>\n",
       "      <td>00:02:28.258000</td>\n",
       "      <td>[{'height': '200px', 'y': 92.40625, 'event_nam...</td>\n",
       "      <td>2.47</td>\n",
       "      <td>https://s3-us-west-2.amazonaws.com/ai2-vision-...</td>\n",
       "      <td>PKEZI_cropped_c000_c002_s28_3_e40_0</td>\n",
       "    </tr>\n",
       "    <tr>\n",
       "      <th>19</th>\n",
       "      <td>game.26e72852-af0a-406f-ae33-93bc6cdb82af</td>\n",
       "      <td>3R3YRB5GRGQDLZPDXD5S301N2A9AUV</td>\n",
       "      <td>ABI1EI8UQK6LK</td>\n",
       "      <td>batch_1</td>\n",
       "      <td>33</td>\n",
       "      <td>00:03:55.165000</td>\n",
       "      <td>[{'event_name': 'placingIconFromServer', 'src'...</td>\n",
       "      <td>3.92</td>\n",
       "      <td>https://s3-us-west-2.amazonaws.com/ai2-vision-...</td>\n",
       "      <td>B0BDR_cropped_c151_s0_2_e9_9</td>\n",
       "    </tr>\n",
       "    <tr>\n",
       "      <th>20</th>\n",
       "      <td>game.24c8d4ba-c351-4668-849b-46b9405ff7e0</td>\n",
       "      <td>3IJXV6UZ1Y60BPGU5720FN2M8JFRIH</td>\n",
       "      <td>A2EJLS2NDBTQHX</td>\n",
       "      <td>batch_1</td>\n",
       "      <td>27</td>\n",
       "      <td>00:10:05.098000</td>\n",
       "      <td>[{'height': '200px', 'y': -62.59375, 'event_na...</td>\n",
       "      <td>10.08</td>\n",
       "      <td>https://s3-us-west-2.amazonaws.com/ai2-vision-...</td>\n",
       "      <td>G3W9M_cropped_c076_s20_6_e32_0</td>\n",
       "    </tr>\n",
       "    <tr>\n",
       "      <th>21</th>\n",
       "      <td>game.6625c16f-87e6-4537-9b9b-7468e48b8ac1</td>\n",
       "      <td>351SEKWQS14S6YNG8L582RSZAR5MDJ</td>\n",
       "      <td>A2FUMA4UR6S920</td>\n",
       "      <td>batch_1</td>\n",
       "      <td>56</td>\n",
       "      <td>00:03:47.481000</td>\n",
       "      <td>[{'event_name': 'placingIconFromServer', 'src'...</td>\n",
       "      <td>3.79</td>\n",
       "      <td>https://s3-us-west-2.amazonaws.com/ai2-vision-...</td>\n",
       "      <td>FAZXS_cropped_c012_c117_s0_1_e10_8</td>\n",
       "    </tr>\n",
       "    <tr>\n",
       "      <th>22</th>\n",
       "      <td>game.8278d550-2fcb-4dfa-b69b-e95ae81a872e</td>\n",
       "      <td>3VHHR074H44SJ74LHW172M3EOBL7LI</td>\n",
       "      <td>A24F08A7411TVV</td>\n",
       "      <td>batch_1</td>\n",
       "      <td>33</td>\n",
       "      <td>00:04:26.007000</td>\n",
       "      <td>[{'event_name': 'placingIconFromServer', 'src'...</td>\n",
       "      <td>4.43</td>\n",
       "      <td>https://s3-us-west-2.amazonaws.com/ai2-vision-...</td>\n",
       "      <td>5B4HF_cropped_c106_s0_0_e10_5</td>\n",
       "    </tr>\n",
       "    <tr>\n",
       "      <th>23</th>\n",
       "      <td>game.f88eb630-f8f1-4cfe-9d07-ea18f87abca8</td>\n",
       "      <td>3Q5C1WP23NO06WMY0T4RKNG4ZZG15M</td>\n",
       "      <td>A12HZGOZQD5YK7</td>\n",
       "      <td>batch_1</td>\n",
       "      <td>31</td>\n",
       "      <td>00:02:23.721000</td>\n",
       "      <td>[{'height': '200px', 'y': 94.40625, 'event_nam...</td>\n",
       "      <td>2.40</td>\n",
       "      <td>https://s3-us-west-2.amazonaws.com/ai2-vision-...</td>\n",
       "      <td>6TNP4_cropped_c143_s0_0_e9_8</td>\n",
       "    </tr>\n",
       "    <tr>\n",
       "      <th>24</th>\n",
       "      <td>game.776c66d4-67e5-48d3-94d6-76e0ea026449</td>\n",
       "      <td>358UUM7WR0Q3M5ZYMGY3OYCDU3Z7RX</td>\n",
       "      <td>A12HZGOZQD5YK7</td>\n",
       "      <td>batch_1</td>\n",
       "      <td>23</td>\n",
       "      <td>00:02:14.497000</td>\n",
       "      <td>[{'height': '200px', 'y': 113.40625, 'event_na...</td>\n",
       "      <td>2.24</td>\n",
       "      <td>https://s3-us-west-2.amazonaws.com/ai2-vision-...</td>\n",
       "      <td>NSDFA_cropped_c042_s20_6_e29_2</td>\n",
       "    </tr>\n",
       "    <tr>\n",
       "      <th>25</th>\n",
       "      <td>game.c9d75045-3f1e-417b-bb03-f5b0fad3db86</td>\n",
       "      <td>3STRJBFXOXE4XZJA9ZS7SIIHO85TKB</td>\n",
       "      <td>A2EJLS2NDBTQHX</td>\n",
       "      <td>batch_1</td>\n",
       "      <td>85</td>\n",
       "      <td>00:08:55.730000</td>\n",
       "      <td>[{'event_name': 'placingIconFromServer', 'src'...</td>\n",
       "      <td>8.93</td>\n",
       "      <td>https://s3-us-west-2.amazonaws.com/ai2-vision-...</td>\n",
       "      <td>LA0DB_cropped_c080_c104_s0_0_e9_7</td>\n",
       "    </tr>\n",
       "    <tr>\n",
       "      <th>26</th>\n",
       "      <td>game.9515f6d9-f77f-4f77-93e6-c201e96f9c5a</td>\n",
       "      <td>3V0Z7YWSIZNOTBJ9POMIT4K84TS2V7</td>\n",
       "      <td>A2FUMA4UR6S920</td>\n",
       "      <td>batch_1</td>\n",
       "      <td>47</td>\n",
       "      <td>00:03:46.348000</td>\n",
       "      <td>[{'height': '200px', 'y': 107.40277099609375, ...</td>\n",
       "      <td>3.77</td>\n",
       "      <td>https://s3-us-west-2.amazonaws.com/ai2-vision-...</td>\n",
       "      <td>H6BT7_cropped_c151_s26_5_e37_4</td>\n",
       "    </tr>\n",
       "    <tr>\n",
       "      <th>27</th>\n",
       "      <td>game.4794a177-73d5-4451-8982-d3873bcf0083</td>\n",
       "      <td>3A1PQ49WVI4CMP6T1V509KJU4891H5</td>\n",
       "      <td>ABI1EI8UQK6LK</td>\n",
       "      <td>batch_1</td>\n",
       "      <td>40</td>\n",
       "      <td>00:05:29.636000</td>\n",
       "      <td>[{'event_name': 'placingIconFromServer', 'src'...</td>\n",
       "      <td>5.49</td>\n",
       "      <td>https://s3-us-west-2.amazonaws.com/ai2-vision-...</td>\n",
       "      <td>IL0JH_cropped_c008_c097_s8_4_e18_5</td>\n",
       "    </tr>\n",
       "    <tr>\n",
       "      <th>28</th>\n",
       "      <td>game.7d5046ae-ef9c-44b5-9fc7-deb3c41d4fa2</td>\n",
       "      <td>37UEWGM5HUVPBJKWX0HUNOL0RHYR1J</td>\n",
       "      <td>A2FUMA4UR6S920</td>\n",
       "      <td>batch_1</td>\n",
       "      <td>54</td>\n",
       "      <td>00:05:26.170000</td>\n",
       "      <td>[{'height': '200px', 'y': 77.40277099609375, '...</td>\n",
       "      <td>5.44</td>\n",
       "      <td>https://s3-us-west-2.amazonaws.com/ai2-vision-...</td>\n",
       "      <td>0J5T4_cropped_c142_s14_7_e23_6</td>\n",
       "    </tr>\n",
       "    <tr>\n",
       "      <th>29</th>\n",
       "      <td>game.0e14c5ba-0f81-4392-8ba4-871386d95253</td>\n",
       "      <td>3UN61F00HXCOZ1LFYNJ6QEYH3X5R53</td>\n",
       "      <td>A12HZGOZQD5YK7</td>\n",
       "      <td>batch_1</td>\n",
       "      <td>38</td>\n",
       "      <td>00:03:31.615000</td>\n",
       "      <td>[{'height': '200px', 'y': 137.36320250600068, ...</td>\n",
       "      <td>3.53</td>\n",
       "      <td>https://s3-us-west-2.amazonaws.com/ai2-vision-...</td>\n",
       "      <td>YPTHX_cropped_c022_s0_0_e10_7</td>\n",
       "    </tr>\n",
       "    <tr>\n",
       "      <th>...</th>\n",
       "      <td>...</td>\n",
       "      <td>...</td>\n",
       "      <td>...</td>\n",
       "      <td>...</td>\n",
       "      <td>...</td>\n",
       "      <td>...</td>\n",
       "      <td>...</td>\n",
       "      <td>...</td>\n",
       "      <td>...</td>\n",
       "      <td>...</td>\n",
       "    </tr>\n",
       "    <tr>\n",
       "      <th>62</th>\n",
       "      <td>game.19dca149-d174-43dd-a7ec-2a22978e307f</td>\n",
       "      <td>3DUZQ9U6SNBHYA07J31OKMXC2NOVS0</td>\n",
       "      <td>AKVDY8OXNMQED</td>\n",
       "      <td>batch_1</td>\n",
       "      <td>48</td>\n",
       "      <td>00:03:51.288000</td>\n",
       "      <td>[{'height': '200px', 'y': 100.07421875, 'event...</td>\n",
       "      <td>3.85</td>\n",
       "      <td>https://s3-us-west-2.amazonaws.com/ai2-vision-...</td>\n",
       "      <td>7GYR4_cropped_c106_c119_c120_s20_0_e31_0</td>\n",
       "    </tr>\n",
       "    <tr>\n",
       "      <th>63</th>\n",
       "      <td>game.0a1e4635-b2ab-4d12-9170-7f186d629a6b</td>\n",
       "      <td>3DR23U6WE611BZR0DDH4UN5C4B6TEO</td>\n",
       "      <td>A7OY2DNQAQ73P</td>\n",
       "      <td>batch_1</td>\n",
       "      <td>30</td>\n",
       "      <td>00:02:26.637000</td>\n",
       "      <td>[{'height': '80px', 'y': 68.40625, 'event_name...</td>\n",
       "      <td>2.44</td>\n",
       "      <td>https://s3-us-west-2.amazonaws.com/ai2-vision-...</td>\n",
       "      <td>AA104_cropped_c108_s3_8_e15_7</td>\n",
       "    </tr>\n",
       "    <tr>\n",
       "      <th>64</th>\n",
       "      <td>game.8e33f099-5af6-462b-9e35-a9469cbf7e79</td>\n",
       "      <td>3BV8HQ2ZZXOSJOZC1V7PNUN7ZORA6T</td>\n",
       "      <td>A3UK4IH1X64TYH</td>\n",
       "      <td>batch_1</td>\n",
       "      <td>13</td>\n",
       "      <td>00:00:57.202000</td>\n",
       "      <td>[{'y': 83.40625, 'event_name': 'placingIconFro...</td>\n",
       "      <td>0.95</td>\n",
       "      <td>https://s3-us-west-2.amazonaws.com/ai2-vision-...</td>\n",
       "      <td>5VINT_cropped_c006_c097_s23_7_e32_0</td>\n",
       "    </tr>\n",
       "    <tr>\n",
       "      <th>65</th>\n",
       "      <td>game.157b02bf-3c3a-4737-bdf5-03c4961860b0</td>\n",
       "      <td>3W92K5RLWV4GS82W77OGRBNKO3HV5Z</td>\n",
       "      <td>A2SWQM5X54P1O5</td>\n",
       "      <td>batch_1</td>\n",
       "      <td>23</td>\n",
       "      <td>00:03:10.287000</td>\n",
       "      <td>[{'height': '200px', 'y': 29.4140625, 'event_n...</td>\n",
       "      <td>3.17</td>\n",
       "      <td>https://s3-us-west-2.amazonaws.com/ai2-vision-...</td>\n",
       "      <td>FGY8R_cropped_c065_c061_c068_s9_0_e18_8</td>\n",
       "    </tr>\n",
       "    <tr>\n",
       "      <th>66</th>\n",
       "      <td>game.8926b3fd-5233-4368-92bd-e1ce6c87eadb</td>\n",
       "      <td>3SKRO2GZ72E3OF717G8XMCZMWP51K1</td>\n",
       "      <td>A3NJHDZKBYBPIC</td>\n",
       "      <td>batch_1</td>\n",
       "      <td>40</td>\n",
       "      <td>00:02:15.011000</td>\n",
       "      <td>[{'y': 50.40625, 'event_name': 'placingIconFro...</td>\n",
       "      <td>2.25</td>\n",
       "      <td>https://s3-us-west-2.amazonaws.com/ai2-vision-...</td>\n",
       "      <td>4RLYA_cropped_c119_c111_s0_0_e11_7</td>\n",
       "    </tr>\n",
       "    <tr>\n",
       "      <th>67</th>\n",
       "      <td>game.afea7487-11c8-443a-9d97-877dd8dae3e0</td>\n",
       "      <td>3VW04L3ZLUTHYGR1DS8T7FBPXDZXXE</td>\n",
       "      <td>A25XXQPMBBDAV3</td>\n",
       "      <td>batch_1</td>\n",
       "      <td>46</td>\n",
       "      <td>00:02:58.095000</td>\n",
       "      <td>[{'height': '200px', 'y': 110.2265625, 'event_...</td>\n",
       "      <td>2.97</td>\n",
       "      <td>https://s3-us-west-2.amazonaws.com/ai2-vision-...</td>\n",
       "      <td>K9KDK_cropped_c051_s0_0_e9_2</td>\n",
       "    </tr>\n",
       "    <tr>\n",
       "      <th>68</th>\n",
       "      <td>game.6d231eca-93b9-4930-8596-fd4d37aa7f80</td>\n",
       "      <td>3UN61F00HXCOZ1LFYNJ6QEYH3X3R51</td>\n",
       "      <td>A12HZGOZQD5YK7</td>\n",
       "      <td>batch_1</td>\n",
       "      <td>32</td>\n",
       "      <td>00:03:50.139000</td>\n",
       "      <td>[{'height': '200px', 'y': 106.40625, 'event_na...</td>\n",
       "      <td>3.84</td>\n",
       "      <td>https://s3-us-west-2.amazonaws.com/ai2-vision-...</td>\n",
       "      <td>VDK6L_cropped_c093_c081_s1_2_e11_4</td>\n",
       "    </tr>\n",
       "    <tr>\n",
       "      <th>69</th>\n",
       "      <td>game.1212af1e-3df5-446b-9631-03b1ef66c318</td>\n",
       "      <td>3RWE2M8QWIX4PW7M8AWD0ZXGLSAN0V</td>\n",
       "      <td>A24F08A7411TVV</td>\n",
       "      <td>batch_1</td>\n",
       "      <td>53</td>\n",
       "      <td>00:04:32.290000</td>\n",
       "      <td>[{'event_name': 'placingIconFromServer', 'src'...</td>\n",
       "      <td>4.54</td>\n",
       "      <td>https://s3-us-west-2.amazonaws.com/ai2-vision-...</td>\n",
       "      <td>4D7GX_cropped_c008_c097_s4_2_e13_7</td>\n",
       "    </tr>\n",
       "    <tr>\n",
       "      <th>70</th>\n",
       "      <td>game.5f58a0fd-36ff-4213-aef9-9e34d24538a0</td>\n",
       "      <td>3U8YCDAGXQ3PSTKEO2OU4TSLQ3R0QP</td>\n",
       "      <td>A3UK4IH1X64TYH</td>\n",
       "      <td>batch_1</td>\n",
       "      <td>24</td>\n",
       "      <td>00:01:20.731000</td>\n",
       "      <td>[{'y': 141.40625, 'event_name': 'placingIconFr...</td>\n",
       "      <td>1.35</td>\n",
       "      <td>https://s3-us-west-2.amazonaws.com/ai2-vision-...</td>\n",
       "      <td>ZIWZH_cropped_c041_s1_6_e13_5</td>\n",
       "    </tr>\n",
       "    <tr>\n",
       "      <th>71</th>\n",
       "      <td>game.c3770b85-376c-4d07-a7ea-0423e013e357</td>\n",
       "      <td>3Z4XG4ZF49ERJFQT5KW1RGUW64Q8XH</td>\n",
       "      <td>APRZ7BR8C0ZMQ</td>\n",
       "      <td>batch_1</td>\n",
       "      <td>41</td>\n",
       "      <td>00:06:13.422000</td>\n",
       "      <td>[{'height': '200px', 'y': 58.40625, 'event_nam...</td>\n",
       "      <td>6.22</td>\n",
       "      <td>https://s3-us-west-2.amazonaws.com/ai2-vision-...</td>\n",
       "      <td>O45BC_cropped_c047_c049_s0_6_e11_0</td>\n",
       "    </tr>\n",
       "    <tr>\n",
       "      <th>72</th>\n",
       "      <td>game.1e05f5b1-a991-4109-932a-ad3f21433fb9</td>\n",
       "      <td>3W92K5RLWV4GS82W77OGRBNKO3S5VK</td>\n",
       "      <td>A12HZGOZQD5YK7</td>\n",
       "      <td>batch_1</td>\n",
       "      <td>35</td>\n",
       "      <td>00:05:30.539000</td>\n",
       "      <td>[{'event_name': 'placingIconFromServer', 'src'...</td>\n",
       "      <td>5.51</td>\n",
       "      <td>https://s3-us-west-2.amazonaws.com/ai2-vision-...</td>\n",
       "      <td>GRBUE_cropped_c006_c155_c126_s4_1_e14_1</td>\n",
       "    </tr>\n",
       "    <tr>\n",
       "      <th>73</th>\n",
       "      <td>game.9c5a68af-802f-486f-8299-f955a5969dd0</td>\n",
       "      <td>3S96KQ6I9NRWJTD0HI6KO5NR4ZZTDP</td>\n",
       "      <td>A12HZGOZQD5YK7</td>\n",
       "      <td>batch_1</td>\n",
       "      <td>32</td>\n",
       "      <td>00:01:55.184000</td>\n",
       "      <td>[{'height': '80px', 'y': 73.40625, 'event_name...</td>\n",
       "      <td>1.92</td>\n",
       "      <td>https://s3-us-west-2.amazonaws.com/ai2-vision-...</td>\n",
       "      <td>41GXC_cropped_c008_s19_1_e28_3</td>\n",
       "    </tr>\n",
       "    <tr>\n",
       "      <th>74</th>\n",
       "      <td>game.5694800c-fd98-45f9-afaf-7b13870fe022</td>\n",
       "      <td>36ZN444YTSLXECOEDFLWLSXHXWPOIZ</td>\n",
       "      <td>A2FUMA4UR6S920</td>\n",
       "      <td>batch_1</td>\n",
       "      <td>46</td>\n",
       "      <td>00:03:29.082000</td>\n",
       "      <td>[{'height': '200px', 'y': 23.40277099609375, '...</td>\n",
       "      <td>3.48</td>\n",
       "      <td>https://s3-us-west-2.amazonaws.com/ai2-vision-...</td>\n",
       "      <td>HDDU0_cropped_c116_s14_8_e22_9</td>\n",
       "    </tr>\n",
       "    <tr>\n",
       "      <th>75</th>\n",
       "      <td>game.0eb51721-9b97-4d16-8b5c-1eea22e1fb0b</td>\n",
       "      <td>3KIBXJ1WD6HOK7E2DI68Y8CUP0PKOH</td>\n",
       "      <td>A24F08A7411TVV</td>\n",
       "      <td>batch_1</td>\n",
       "      <td>36</td>\n",
       "      <td>00:04:12.521000</td>\n",
       "      <td>[{'event_name': 'placingIconFromServer', 'src'...</td>\n",
       "      <td>4.21</td>\n",
       "      <td>https://s3-us-west-2.amazonaws.com/ai2-vision-...</td>\n",
       "      <td>X0CVU_cropped_c092_s0_0_e12_0</td>\n",
       "    </tr>\n",
       "    <tr>\n",
       "      <th>76</th>\n",
       "      <td>game.2027c695-8ae2-4c57-abbd-3e7b1f30c116</td>\n",
       "      <td>3PPTZCWALR7MUEQ4SW1MASV78AEQZB</td>\n",
       "      <td>A12HZGOZQD5YK7</td>\n",
       "      <td>batch_1</td>\n",
       "      <td>37</td>\n",
       "      <td>00:02:33.658000</td>\n",
       "      <td>[{'height': '80px', 'y': 89.40625, 'event_name...</td>\n",
       "      <td>2.56</td>\n",
       "      <td>https://s3-us-west-2.amazonaws.com/ai2-vision-...</td>\n",
       "      <td>UAT1F_cropped_c048_c028_s15_0_e26_2</td>\n",
       "    </tr>\n",
       "    <tr>\n",
       "      <th>77</th>\n",
       "      <td>game.c91c39df-5ff9-4b07-b386-3130a1ec7662</td>\n",
       "      <td>358010RM5FGPURM6DD7BJUE4H2QVX8</td>\n",
       "      <td>A2FUMA4UR6S920</td>\n",
       "      <td>batch_1</td>\n",
       "      <td>40</td>\n",
       "      <td>00:03:48.667000</td>\n",
       "      <td>[{'height': '200px', 'y': 113.40277099609375, ...</td>\n",
       "      <td>3.81</td>\n",
       "      <td>https://s3-us-west-2.amazonaws.com/ai2-vision-...</td>\n",
       "      <td>KNX2Y_cropped_c009_c061_c017_s11_3_e21_0</td>\n",
       "    </tr>\n",
       "    <tr>\n",
       "      <th>78</th>\n",
       "      <td>game.e473cddd-5092-42ac-96ae-e345d1a897df</td>\n",
       "      <td>32SCWG5HIIRZ6S5EQEPMDPC2YA36PH</td>\n",
       "      <td>ABI1EI8UQK6LK</td>\n",
       "      <td>batch_1</td>\n",
       "      <td>52</td>\n",
       "      <td>00:06:49.453000</td>\n",
       "      <td>[{'event_name': 'placingIconFromServer', 'src'...</td>\n",
       "      <td>6.82</td>\n",
       "      <td>https://s3-us-west-2.amazonaws.com/ai2-vision-...</td>\n",
       "      <td>BI31D_cropped_c151_c015_c017_s1_4_e13_4</td>\n",
       "    </tr>\n",
       "    <tr>\n",
       "      <th>79</th>\n",
       "      <td>game.d19b2f3a-0a47-4bd1-83e1-d6e6ec78e4d5</td>\n",
       "      <td>33OOO72IVI8ME17MHMB94Z59JZTTCV</td>\n",
       "      <td>A2EJLS2NDBTQHX</td>\n",
       "      <td>batch_1</td>\n",
       "      <td>39</td>\n",
       "      <td>00:03:30.157000</td>\n",
       "      <td>[{'event_name': 'placingIconFromServer', 'src'...</td>\n",
       "      <td>3.50</td>\n",
       "      <td>https://s3-us-west-2.amazonaws.com/ai2-vision-...</td>\n",
       "      <td>7BAUC_cropped_c032_c026_s0_0_e8_0</td>\n",
       "    </tr>\n",
       "    <tr>\n",
       "      <th>80</th>\n",
       "      <td>game.d9ece75c-c758-4ae0-bae7-cc42570f0a46</td>\n",
       "      <td>3JV9LGBJWU1JILIJNRLT0GK1IJYGO0</td>\n",
       "      <td>A12HZGOZQD5YK7</td>\n",
       "      <td>batch_1</td>\n",
       "      <td>48</td>\n",
       "      <td>00:02:43.941000</td>\n",
       "      <td>[{'height': '200px', 'y': 102.36808389281009, ...</td>\n",
       "      <td>2.73</td>\n",
       "      <td>https://s3-us-west-2.amazonaws.com/ai2-vision-...</td>\n",
       "      <td>YEH3H_cropped_c106_c108_s9_7_e21_2</td>\n",
       "    </tr>\n",
       "    <tr>\n",
       "      <th>81</th>\n",
       "      <td>game.7b41387d-a53b-4708-906a-256b9cd73892</td>\n",
       "      <td>32SCWG5HIIRZ6S5EQEPMDPC2YARP6O</td>\n",
       "      <td>A12HZGOZQD5YK7</td>\n",
       "      <td>batch_1</td>\n",
       "      <td>31</td>\n",
       "      <td>00:02:04.974000</td>\n",
       "      <td>[{'height': '80px', 'y': 94.40625, 'event_name...</td>\n",
       "      <td>2.08</td>\n",
       "      <td>https://s3-us-west-2.amazonaws.com/ai2-vision-...</td>\n",
       "      <td>4JWAH_cropped_c077_s6_8_e17_5</td>\n",
       "    </tr>\n",
       "    <tr>\n",
       "      <th>82</th>\n",
       "      <td>game.cbf79b2b-751d-48b2-9c1c-708b19e837d8</td>\n",
       "      <td>3W92K5RLWV4GS82W77OGRBNKO3I5VA</td>\n",
       "      <td>A2FUMA4UR6S920</td>\n",
       "      <td>batch_1</td>\n",
       "      <td>35</td>\n",
       "      <td>00:02:53.800000</td>\n",
       "      <td>[{'height': '200px', 'y': 98.40277099609375, '...</td>\n",
       "      <td>2.90</td>\n",
       "      <td>https://s3-us-west-2.amazonaws.com/ai2-vision-...</td>\n",
       "      <td>SBG5F_cropped_c151_s23_6_e33_0</td>\n",
       "    </tr>\n",
       "    <tr>\n",
       "      <th>83</th>\n",
       "      <td>game.82a9dfbf-34d0-4dcb-a3ac-6eac9d5b51bb</td>\n",
       "      <td>3NLZY2D53QC2PP90DVAD2DK9T12QLO</td>\n",
       "      <td>A2FUMA4UR6S920</td>\n",
       "      <td>batch_1</td>\n",
       "      <td>31</td>\n",
       "      <td>00:02:49.656000</td>\n",
       "      <td>[{'height': '200px', 'y': 161.40277099609375, ...</td>\n",
       "      <td>2.83</td>\n",
       "      <td>https://s3-us-west-2.amazonaws.com/ai2-vision-...</td>\n",
       "      <td>BWHUX_cropped_c009_c097_s4_7_e16_0</td>\n",
       "    </tr>\n",
       "    <tr>\n",
       "      <th>84</th>\n",
       "      <td>game.56b2ca87-10d3-4c3b-9fc3-580b343be82d</td>\n",
       "      <td>3NGI5ARFTUS4Z64HK8D5ITLLQZB1P2</td>\n",
       "      <td>APRZ7BR8C0ZMQ</td>\n",
       "      <td>batch_1</td>\n",
       "      <td>55</td>\n",
       "      <td>00:07:45.398000</td>\n",
       "      <td>[{'height': '200px', 'y': 133.40625, 'event_na...</td>\n",
       "      <td>7.76</td>\n",
       "      <td>https://s3-us-west-2.amazonaws.com/ai2-vision-...</td>\n",
       "      <td>KZK6W_cropped_c106_s5_3_e16_9</td>\n",
       "    </tr>\n",
       "    <tr>\n",
       "      <th>85</th>\n",
       "      <td>game.ab1a66c1-52d9-477a-b790-acaae0e753bd</td>\n",
       "      <td>3TGOYF991Y9X083B3IMJ31DH9DCUU2</td>\n",
       "      <td>A24F08A7411TVV</td>\n",
       "      <td>batch_1</td>\n",
       "      <td>20</td>\n",
       "      <td>00:03:34.117000</td>\n",
       "      <td>[{'event_name': 'placingIconFromServer', 'src'...</td>\n",
       "      <td>3.57</td>\n",
       "      <td>https://s3-us-west-2.amazonaws.com/ai2-vision-...</td>\n",
       "      <td>V00AL_cropped_c019_c149_s0_0_e12_0</td>\n",
       "    </tr>\n",
       "    <tr>\n",
       "      <th>86</th>\n",
       "      <td>game.ce0f46e4-d112-4f78-9381-6a78fdde5874</td>\n",
       "      <td>3FTOP5WARGB866G1TC4L7SGZC80J0I</td>\n",
       "      <td>A12HZGOZQD5YK7</td>\n",
       "      <td>batch_1</td>\n",
       "      <td>32</td>\n",
       "      <td>00:01:35.680000</td>\n",
       "      <td>[{'height': '80px', 'y': 30.40625, 'event_name...</td>\n",
       "      <td>1.59</td>\n",
       "      <td>https://s3-us-west-2.amazonaws.com/ai2-vision-...</td>\n",
       "      <td>5S1SL_cropped_c081_s1_1_e11_4</td>\n",
       "    </tr>\n",
       "    <tr>\n",
       "      <th>87</th>\n",
       "      <td>game.a044d708-7580-457e-bc47-599d40935bb0</td>\n",
       "      <td>3TDXMTX3CCH7P6IADJZ24SBQCWWI65</td>\n",
       "      <td>A3UK4IH1X64TYH</td>\n",
       "      <td>batch_1</td>\n",
       "      <td>19</td>\n",
       "      <td>00:01:08.153000</td>\n",
       "      <td>[{'y': 110.29276819500728, 'event_name': 'plac...</td>\n",
       "      <td>1.14</td>\n",
       "      <td>https://s3-us-west-2.amazonaws.com/ai2-vision-...</td>\n",
       "      <td>4SN6Z_cropped_c006_c113_s12_6_e21_0</td>\n",
       "    </tr>\n",
       "    <tr>\n",
       "      <th>88</th>\n",
       "      <td>game.b8ba610a-f43f-43d8-ad15-b26ff7e4dcda</td>\n",
       "      <td>3CN4LGXD5YBF0JT1YDSQTIL06ONY45</td>\n",
       "      <td>A12HZGOZQD5YK7</td>\n",
       "      <td>batch_1</td>\n",
       "      <td>28</td>\n",
       "      <td>00:01:56.483000</td>\n",
       "      <td>[{'y': 144.40625, 'event_name': 'placingIconFr...</td>\n",
       "      <td>1.94</td>\n",
       "      <td>https://s3-us-west-2.amazonaws.com/ai2-vision-...</td>\n",
       "      <td>RH44U_cropped_c107_s0_0_e10_8</td>\n",
       "    </tr>\n",
       "    <tr>\n",
       "      <th>89</th>\n",
       "      <td>game.214781a8-7bfe-491f-b207-b8368e2c3f41</td>\n",
       "      <td>3QRYMNZ7FZ45554D6CKNKAZLI4KTNS</td>\n",
       "      <td>A3UAD8T88XUPI4</td>\n",
       "      <td>batch_1</td>\n",
       "      <td>62</td>\n",
       "      <td>00:03:36.962000</td>\n",
       "      <td>[{'objectId': 'icon-1534793048971-1639542392',...</td>\n",
       "      <td>3.62</td>\n",
       "      <td>https://s3-us-west-2.amazonaws.com/ai2-vision-...</td>\n",
       "      <td>1LKPL_cropped_c087_s0_5_e12_3</td>\n",
       "    </tr>\n",
       "    <tr>\n",
       "      <th>90</th>\n",
       "      <td>game.3c7aa4fb-9d5a-46f6-9d90-4fb27a186949</td>\n",
       "      <td>3IKZ72A5B53VM0MCBSFY36KKRUTNFT</td>\n",
       "      <td>A3AFC26CB0AXMI</td>\n",
       "      <td>batch_1</td>\n",
       "      <td>21</td>\n",
       "      <td>00:02:14.316000</td>\n",
       "      <td>[{'height': '80px', 'y': -20.59375, 'event_nam...</td>\n",
       "      <td>2.24</td>\n",
       "      <td>https://s3-us-west-2.amazonaws.com/ai2-vision-...</td>\n",
       "      <td>FP7N3_cropped_c006_c113_s1_6_e10_5</td>\n",
       "    </tr>\n",
       "    <tr>\n",
       "      <th>91</th>\n",
       "      <td>game.cae6983c-8cdf-4238-b84f-58b52166e559</td>\n",
       "      <td>3B1NLC6UG0J13LUK2RY8PGPRSOWGPJ</td>\n",
       "      <td>A2FUMA4UR6S920</td>\n",
       "      <td>batch_1</td>\n",
       "      <td>35</td>\n",
       "      <td>00:02:33.729000</td>\n",
       "      <td>[{'height': '200px', 'y': 70.40277099609375, '...</td>\n",
       "      <td>2.56</td>\n",
       "      <td>https://s3-us-west-2.amazonaws.com/ai2-vision-...</td>\n",
       "      <td>E3S4O_cropped_c083_c154_s0_0_e8_2</td>\n",
       "    </tr>\n",
       "  </tbody>\n",
       "</table>\n",
       "<p>92 rows × 10 columns</p>\n",
       "</div>"
      ],
      "text/plain": [
       "                                           id            drawer_assignment_id  \\\n",
       "0   game.291e7c94-d44e-4e3e-a610-d7cd54b73cfe  34Q075JO1Y01BP0X3NYF3SKDIR001V   \n",
       "1   game.cb4f034e-2ad4-428c-849d-a18c265f4317  3KOPY89HM9P4NYFYCZM49QE6FKN3J0   \n",
       "2   game.804f59dc-ad97-4081-a204-f2b50eadf522  32XVDSJFP0K53OP0BWLR681VD1R2M3   \n",
       "3   game.d77d6a1d-ba8a-4f59-b5b4-9189113e0fe5  39PAAFCODNNIDADM836EURTY47HVT6   \n",
       "4   game.e538c676-9815-485e-aa49-067400837f6e  36ZN444YTSLXECOEDFLWLSXHXWWIO0   \n",
       "5   game.4afc5eb0-fecf-4d89-8061-8d55dfa9a88c  3RXCAC0YISCGXTV3GAWX3UU13EU8GP   \n",
       "6   game.603b5ce9-cda6-4294-8f9c-fe7a079f7977  3OB0CAO74IC9CVHWDKC9N7U4BT9YHR   \n",
       "7   game.053d8940-9be0-492e-9864-a37ef0b8cc7a  3LWJHTCVCD9GPXZ4RK7F70FPW5GFQ8   \n",
       "8   game.41fdd8f9-f3dd-4ae5-a373-9f37e4f94cd2  3R0T90IZ1TZI9WLGXMC25GQKT5FGC3   \n",
       "9   game.0a64e8cc-bca6-40bf-befa-0a0bd0a5b0dc  36PW28KO40JWW3SR7DQNZIFKGMRAEQ   \n",
       "10  game.972f466a-65a9-4ae2-90f3-616b627338ed  3UOUJI6MTE1PHCX68NX6N8CL3VIXUM   \n",
       "11  game.340e7b14-7f08-44a5-8eda-3c0c9c050be1  3NPFYT4IZDR6CUWBOI8PJTBUUNAXGT   \n",
       "12  game.74cab24a-5d1f-411c-9244-8cb10ff444db  31IBVUNM9TM8U5VLDJ1PDNEXDXUVFH   \n",
       "13  game.a469b051-2727-404d-8c9b-6d78dd1b6b7d  3L0KT67Y8F3Y24VCOEO8RL16K4QYSC   \n",
       "14  game.cc2636e7-d1b6-45fb-9d00-7b85f56310b2  37U1UTWH9W97MJ4HWLQ92Y885N58RL   \n",
       "15  game.b6deffd8-92ab-49fd-a737-9b1c78c2d049  336KAV9KYRF5X5EEUZ9203O2MASY2A   \n",
       "16  game.6ee319e1-f7f4-41a4-b1af-cbbd58f5e9f2  38YMOXR4MVMPQ12F203H5JKYR7TW6P   \n",
       "17  game.560addac-0ec0-4647-b161-a965c87bc994  3HWRJOOET6P0WZELODCEKI9Q2STSEZ   \n",
       "18  game.f0639b68-cc22-4b30-a027-8fa1bb30a6b1  3N2BF7Y2VRH9IESIUHOYTC7X2JWMHQ   \n",
       "19  game.26e72852-af0a-406f-ae33-93bc6cdb82af  3R3YRB5GRGQDLZPDXD5S301N2A9AUV   \n",
       "20  game.24c8d4ba-c351-4668-849b-46b9405ff7e0  3IJXV6UZ1Y60BPGU5720FN2M8JFRIH   \n",
       "21  game.6625c16f-87e6-4537-9b9b-7468e48b8ac1  351SEKWQS14S6YNG8L582RSZAR5MDJ   \n",
       "22  game.8278d550-2fcb-4dfa-b69b-e95ae81a872e  3VHHR074H44SJ74LHW172M3EOBL7LI   \n",
       "23  game.f88eb630-f8f1-4cfe-9d07-ea18f87abca8  3Q5C1WP23NO06WMY0T4RKNG4ZZG15M   \n",
       "24  game.776c66d4-67e5-48d3-94d6-76e0ea026449  358UUM7WR0Q3M5ZYMGY3OYCDU3Z7RX   \n",
       "25  game.c9d75045-3f1e-417b-bb03-f5b0fad3db86  3STRJBFXOXE4XZJA9ZS7SIIHO85TKB   \n",
       "26  game.9515f6d9-f77f-4f77-93e6-c201e96f9c5a  3V0Z7YWSIZNOTBJ9POMIT4K84TS2V7   \n",
       "27  game.4794a177-73d5-4451-8982-d3873bcf0083  3A1PQ49WVI4CMP6T1V509KJU4891H5   \n",
       "28  game.7d5046ae-ef9c-44b5-9fc7-deb3c41d4fa2  37UEWGM5HUVPBJKWX0HUNOL0RHYR1J   \n",
       "29  game.0e14c5ba-0f81-4392-8ba4-871386d95253  3UN61F00HXCOZ1LFYNJ6QEYH3X5R53   \n",
       "..                                        ...                             ...   \n",
       "62  game.19dca149-d174-43dd-a7ec-2a22978e307f  3DUZQ9U6SNBHYA07J31OKMXC2NOVS0   \n",
       "63  game.0a1e4635-b2ab-4d12-9170-7f186d629a6b  3DR23U6WE611BZR0DDH4UN5C4B6TEO   \n",
       "64  game.8e33f099-5af6-462b-9e35-a9469cbf7e79  3BV8HQ2ZZXOSJOZC1V7PNUN7ZORA6T   \n",
       "65  game.157b02bf-3c3a-4737-bdf5-03c4961860b0  3W92K5RLWV4GS82W77OGRBNKO3HV5Z   \n",
       "66  game.8926b3fd-5233-4368-92bd-e1ce6c87eadb  3SKRO2GZ72E3OF717G8XMCZMWP51K1   \n",
       "67  game.afea7487-11c8-443a-9d97-877dd8dae3e0  3VW04L3ZLUTHYGR1DS8T7FBPXDZXXE   \n",
       "68  game.6d231eca-93b9-4930-8596-fd4d37aa7f80  3UN61F00HXCOZ1LFYNJ6QEYH3X3R51   \n",
       "69  game.1212af1e-3df5-446b-9631-03b1ef66c318  3RWE2M8QWIX4PW7M8AWD0ZXGLSAN0V   \n",
       "70  game.5f58a0fd-36ff-4213-aef9-9e34d24538a0  3U8YCDAGXQ3PSTKEO2OU4TSLQ3R0QP   \n",
       "71  game.c3770b85-376c-4d07-a7ea-0423e013e357  3Z4XG4ZF49ERJFQT5KW1RGUW64Q8XH   \n",
       "72  game.1e05f5b1-a991-4109-932a-ad3f21433fb9  3W92K5RLWV4GS82W77OGRBNKO3S5VK   \n",
       "73  game.9c5a68af-802f-486f-8299-f955a5969dd0  3S96KQ6I9NRWJTD0HI6KO5NR4ZZTDP   \n",
       "74  game.5694800c-fd98-45f9-afaf-7b13870fe022  36ZN444YTSLXECOEDFLWLSXHXWPOIZ   \n",
       "75  game.0eb51721-9b97-4d16-8b5c-1eea22e1fb0b  3KIBXJ1WD6HOK7E2DI68Y8CUP0PKOH   \n",
       "76  game.2027c695-8ae2-4c57-abbd-3e7b1f30c116  3PPTZCWALR7MUEQ4SW1MASV78AEQZB   \n",
       "77  game.c91c39df-5ff9-4b07-b386-3130a1ec7662  358010RM5FGPURM6DD7BJUE4H2QVX8   \n",
       "78  game.e473cddd-5092-42ac-96ae-e345d1a897df  32SCWG5HIIRZ6S5EQEPMDPC2YA36PH   \n",
       "79  game.d19b2f3a-0a47-4bd1-83e1-d6e6ec78e4d5  33OOO72IVI8ME17MHMB94Z59JZTTCV   \n",
       "80  game.d9ece75c-c758-4ae0-bae7-cc42570f0a46  3JV9LGBJWU1JILIJNRLT0GK1IJYGO0   \n",
       "81  game.7b41387d-a53b-4708-906a-256b9cd73892  32SCWG5HIIRZ6S5EQEPMDPC2YARP6O   \n",
       "82  game.cbf79b2b-751d-48b2-9c1c-708b19e837d8  3W92K5RLWV4GS82W77OGRBNKO3I5VA   \n",
       "83  game.82a9dfbf-34d0-4dcb-a3ac-6eac9d5b51bb  3NLZY2D53QC2PP90DVAD2DK9T12QLO   \n",
       "84  game.56b2ca87-10d3-4c3b-9fc3-580b343be82d  3NGI5ARFTUS4Z64HK8D5ITLLQZB1P2   \n",
       "85  game.ab1a66c1-52d9-477a-b790-acaae0e753bd  3TGOYF991Y9X083B3IMJ31DH9DCUU2   \n",
       "86  game.ce0f46e4-d112-4f78-9381-6a78fdde5874  3FTOP5WARGB866G1TC4L7SGZC80J0I   \n",
       "87  game.a044d708-7580-457e-bc47-599d40935bb0  3TDXMTX3CCH7P6IADJZ24SBQCWWI65   \n",
       "88  game.b8ba610a-f43f-43d8-ad15-b26ff7e4dcda  3CN4LGXD5YBF0JT1YDSQTIL06ONY45   \n",
       "89  game.214781a8-7bfe-491f-b207-b8368e2c3f41  3QRYMNZ7FZ45554D6CKNKAZLI4KTNS   \n",
       "90  game.3c7aa4fb-9d5a-46f6-9d90-4fb27a186949  3IKZ72A5B53VM0MCBSFY36KKRUTNFT   \n",
       "91  game.cae6983c-8cdf-4238-b84f-58b52166e559  3B1NLC6UG0J13LUK2RY8PGPRSOWGPJ   \n",
       "\n",
       "   drawer_worker_id drawer_hit_batch_id  number_events   game_duration  \\\n",
       "0    A2FUMA4UR6S920             batch_1             16 00:01:41.131000   \n",
       "1    A12HZGOZQD5YK7             batch_1             70 00:04:34.098000   \n",
       "2    A28APJKWR06OMJ             batch_1             18 00:01:36.767000   \n",
       "3    A2EJLS2NDBTQHX             batch_1             61 00:11:34.399000   \n",
       "4    A25XXQPMBBDAV3             batch_1             41 00:02:28.812000   \n",
       "5    A2FUMA4UR6S920             batch_1             24 00:01:36.927000   \n",
       "6    A2FUMA4UR6S920             batch_1             27 00:02:42.122000   \n",
       "7    A2EJLS2NDBTQHX             batch_1             38 00:03:15.368000   \n",
       "8    A3MHYBS6PHJ5QG             batch_1             29 00:02:22.840000   \n",
       "9     ABI1EI8UQK6LK             batch_1             48 00:05:52.228000   \n",
       "10   A2A4UAFZ5LW71K             batch_1            101 00:05:03.021000   \n",
       "11    ABI1EI8UQK6LK             batch_1             48 00:05:15.684000   \n",
       "12   A3AFC26CB0AXMI             batch_1             21 00:02:06.600000   \n",
       "13   A2FUMA4UR6S920             batch_1             19 00:02:32.495000   \n",
       "14   A2FUMA4UR6S920             batch_1             25 00:01:39.914000   \n",
       "15   A2A4UAFZ5LW71K             batch_1             38 00:02:48.047000   \n",
       "16   A2FUMA4UR6S920             batch_1             34 00:02:47.687000   \n",
       "17   A1JKSAQ8UNCE7B             batch_1             51 00:04:28.935000   \n",
       "18    AARYGXZXH8WMH             batch_1             13 00:02:28.258000   \n",
       "19    ABI1EI8UQK6LK             batch_1             33 00:03:55.165000   \n",
       "20   A2EJLS2NDBTQHX             batch_1             27 00:10:05.098000   \n",
       "21   A2FUMA4UR6S920             batch_1             56 00:03:47.481000   \n",
       "22   A24F08A7411TVV             batch_1             33 00:04:26.007000   \n",
       "23   A12HZGOZQD5YK7             batch_1             31 00:02:23.721000   \n",
       "24   A12HZGOZQD5YK7             batch_1             23 00:02:14.497000   \n",
       "25   A2EJLS2NDBTQHX             batch_1             85 00:08:55.730000   \n",
       "26   A2FUMA4UR6S920             batch_1             47 00:03:46.348000   \n",
       "27    ABI1EI8UQK6LK             batch_1             40 00:05:29.636000   \n",
       "28   A2FUMA4UR6S920             batch_1             54 00:05:26.170000   \n",
       "29   A12HZGOZQD5YK7             batch_1             38 00:03:31.615000   \n",
       "..              ...                 ...            ...             ...   \n",
       "62    AKVDY8OXNMQED             batch_1             48 00:03:51.288000   \n",
       "63    A7OY2DNQAQ73P             batch_1             30 00:02:26.637000   \n",
       "64   A3UK4IH1X64TYH             batch_1             13 00:00:57.202000   \n",
       "65   A2SWQM5X54P1O5             batch_1             23 00:03:10.287000   \n",
       "66   A3NJHDZKBYBPIC             batch_1             40 00:02:15.011000   \n",
       "67   A25XXQPMBBDAV3             batch_1             46 00:02:58.095000   \n",
       "68   A12HZGOZQD5YK7             batch_1             32 00:03:50.139000   \n",
       "69   A24F08A7411TVV             batch_1             53 00:04:32.290000   \n",
       "70   A3UK4IH1X64TYH             batch_1             24 00:01:20.731000   \n",
       "71    APRZ7BR8C0ZMQ             batch_1             41 00:06:13.422000   \n",
       "72   A12HZGOZQD5YK7             batch_1             35 00:05:30.539000   \n",
       "73   A12HZGOZQD5YK7             batch_1             32 00:01:55.184000   \n",
       "74   A2FUMA4UR6S920             batch_1             46 00:03:29.082000   \n",
       "75   A24F08A7411TVV             batch_1             36 00:04:12.521000   \n",
       "76   A12HZGOZQD5YK7             batch_1             37 00:02:33.658000   \n",
       "77   A2FUMA4UR6S920             batch_1             40 00:03:48.667000   \n",
       "78    ABI1EI8UQK6LK             batch_1             52 00:06:49.453000   \n",
       "79   A2EJLS2NDBTQHX             batch_1             39 00:03:30.157000   \n",
       "80   A12HZGOZQD5YK7             batch_1             48 00:02:43.941000   \n",
       "81   A12HZGOZQD5YK7             batch_1             31 00:02:04.974000   \n",
       "82   A2FUMA4UR6S920             batch_1             35 00:02:53.800000   \n",
       "83   A2FUMA4UR6S920             batch_1             31 00:02:49.656000   \n",
       "84    APRZ7BR8C0ZMQ             batch_1             55 00:07:45.398000   \n",
       "85   A24F08A7411TVV             batch_1             20 00:03:34.117000   \n",
       "86   A12HZGOZQD5YK7             batch_1             32 00:01:35.680000   \n",
       "87   A3UK4IH1X64TYH             batch_1             19 00:01:08.153000   \n",
       "88   A12HZGOZQD5YK7             batch_1             28 00:01:56.483000   \n",
       "89   A3UAD8T88XUPI4             batch_1             62 00:03:36.962000   \n",
       "90   A3AFC26CB0AXMI             batch_1             21 00:02:14.316000   \n",
       "91   A2FUMA4UR6S920             batch_1             35 00:02:33.729000   \n",
       "\n",
       "                                               events  duration_in_min  \\\n",
       "0   [{'height': '200px', 'y': 177.40277099609375, ...             1.69   \n",
       "1   [{'event_name': 'placingIconFromServer', 'src'...             4.57   \n",
       "2   [{'event_name': 'placingIconFromServer', 'src'...             1.61   \n",
       "3   [{'event_name': 'placingIconFromServer', 'src'...            11.57   \n",
       "4   [{'height': '200px', 'y': 170.7421875, 'event_...             2.48   \n",
       "5   [{'height': '80px', 'y': 133.40277099609375, '...             1.62   \n",
       "6   [{'height': '200px', 'y': 102.40277099609375, ...             2.70   \n",
       "7   [{'height': '200px', 'y': -58.59375, 'event_na...             3.26   \n",
       "8   [{'height': '200px', 'y': 13.2889404296875, 'e...             2.38   \n",
       "9   [{'event_name': 'placingIconFromServer', 'src'...             5.87   \n",
       "10  [{'height': '200px', 'y': 47.72222733797889, '...             5.05   \n",
       "11  [{'event_name': 'placingIconFromServer', 'src'...             5.26   \n",
       "12  [{'y': 97.40625, 'event_name': 'placingIconFro...             2.11   \n",
       "13  [{'height': '200px', 'y': 156.40277099609375, ...             2.54   \n",
       "14  [{'height': '200px', 'y': 108.40277099609375, ...             1.67   \n",
       "15  [{'height': '80px', 'y': 103.75, 'event_name':...             2.80   \n",
       "16  [{'height': '200px', 'y': 97.40277099609375, '...             2.79   \n",
       "17  [{'height': '200px', 'y': 107.7396240234375, '...             4.48   \n",
       "18  [{'height': '200px', 'y': 92.40625, 'event_nam...             2.47   \n",
       "19  [{'event_name': 'placingIconFromServer', 'src'...             3.92   \n",
       "20  [{'height': '200px', 'y': -62.59375, 'event_na...            10.08   \n",
       "21  [{'event_name': 'placingIconFromServer', 'src'...             3.79   \n",
       "22  [{'event_name': 'placingIconFromServer', 'src'...             4.43   \n",
       "23  [{'height': '200px', 'y': 94.40625, 'event_nam...             2.40   \n",
       "24  [{'height': '200px', 'y': 113.40625, 'event_na...             2.24   \n",
       "25  [{'event_name': 'placingIconFromServer', 'src'...             8.93   \n",
       "26  [{'height': '200px', 'y': 107.40277099609375, ...             3.77   \n",
       "27  [{'event_name': 'placingIconFromServer', 'src'...             5.49   \n",
       "28  [{'height': '200px', 'y': 77.40277099609375, '...             5.44   \n",
       "29  [{'height': '200px', 'y': 137.36320250600068, ...             3.53   \n",
       "..                                                ...              ...   \n",
       "62  [{'height': '200px', 'y': 100.07421875, 'event...             3.85   \n",
       "63  [{'height': '80px', 'y': 68.40625, 'event_name...             2.44   \n",
       "64  [{'y': 83.40625, 'event_name': 'placingIconFro...             0.95   \n",
       "65  [{'height': '200px', 'y': 29.4140625, 'event_n...             3.17   \n",
       "66  [{'y': 50.40625, 'event_name': 'placingIconFro...             2.25   \n",
       "67  [{'height': '200px', 'y': 110.2265625, 'event_...             2.97   \n",
       "68  [{'height': '200px', 'y': 106.40625, 'event_na...             3.84   \n",
       "69  [{'event_name': 'placingIconFromServer', 'src'...             4.54   \n",
       "70  [{'y': 141.40625, 'event_name': 'placingIconFr...             1.35   \n",
       "71  [{'height': '200px', 'y': 58.40625, 'event_nam...             6.22   \n",
       "72  [{'event_name': 'placingIconFromServer', 'src'...             5.51   \n",
       "73  [{'height': '80px', 'y': 73.40625, 'event_name...             1.92   \n",
       "74  [{'height': '200px', 'y': 23.40277099609375, '...             3.48   \n",
       "75  [{'event_name': 'placingIconFromServer', 'src'...             4.21   \n",
       "76  [{'height': '80px', 'y': 89.40625, 'event_name...             2.56   \n",
       "77  [{'height': '200px', 'y': 113.40277099609375, ...             3.81   \n",
       "78  [{'event_name': 'placingIconFromServer', 'src'...             6.82   \n",
       "79  [{'event_name': 'placingIconFromServer', 'src'...             3.50   \n",
       "80  [{'height': '200px', 'y': 102.36808389281009, ...             2.73   \n",
       "81  [{'height': '80px', 'y': 94.40625, 'event_name...             2.08   \n",
       "82  [{'height': '200px', 'y': 98.40277099609375, '...             2.90   \n",
       "83  [{'height': '200px', 'y': 161.40277099609375, ...             2.83   \n",
       "84  [{'height': '200px', 'y': 133.40625, 'event_na...             7.76   \n",
       "85  [{'event_name': 'placingIconFromServer', 'src'...             3.57   \n",
       "86  [{'height': '80px', 'y': 30.40625, 'event_name...             1.59   \n",
       "87  [{'y': 110.29276819500728, 'event_name': 'plac...             1.14   \n",
       "88  [{'y': 144.40625, 'event_name': 'placingIconFr...             1.94   \n",
       "89  [{'objectId': 'icon-1534793048971-1639542392',...             3.62   \n",
       "90  [{'height': '80px', 'y': -20.59375, 'event_nam...             2.24   \n",
       "91  [{'height': '200px', 'y': 70.40277099609375, '...             2.56   \n",
       "\n",
       "                                        videoFilename  \\\n",
       "0   https://s3-us-west-2.amazonaws.com/ai2-vision-...   \n",
       "1   https://s3-us-west-2.amazonaws.com/ai2-vision-...   \n",
       "2   https://s3-us-west-2.amazonaws.com/ai2-vision-...   \n",
       "3   https://s3-us-west-2.amazonaws.com/ai2-vision-...   \n",
       "4   https://s3-us-west-2.amazonaws.com/ai2-vision-...   \n",
       "5   https://s3-us-west-2.amazonaws.com/ai2-vision-...   \n",
       "6   https://s3-us-west-2.amazonaws.com/ai2-vision-...   \n",
       "7   https://s3-us-west-2.amazonaws.com/ai2-vision-...   \n",
       "8   https://s3-us-west-2.amazonaws.com/ai2-vision-...   \n",
       "9   https://s3-us-west-2.amazonaws.com/ai2-vision-...   \n",
       "10  https://s3-us-west-2.amazonaws.com/ai2-vision-...   \n",
       "11  https://s3-us-west-2.amazonaws.com/ai2-vision-...   \n",
       "12  https://s3-us-west-2.amazonaws.com/ai2-vision-...   \n",
       "13  https://s3-us-west-2.amazonaws.com/ai2-vision-...   \n",
       "14  https://s3-us-west-2.amazonaws.com/ai2-vision-...   \n",
       "15  https://s3-us-west-2.amazonaws.com/ai2-vision-...   \n",
       "16  https://s3-us-west-2.amazonaws.com/ai2-vision-...   \n",
       "17  https://s3-us-west-2.amazonaws.com/ai2-vision-...   \n",
       "18  https://s3-us-west-2.amazonaws.com/ai2-vision-...   \n",
       "19  https://s3-us-west-2.amazonaws.com/ai2-vision-...   \n",
       "20  https://s3-us-west-2.amazonaws.com/ai2-vision-...   \n",
       "21  https://s3-us-west-2.amazonaws.com/ai2-vision-...   \n",
       "22  https://s3-us-west-2.amazonaws.com/ai2-vision-...   \n",
       "23  https://s3-us-west-2.amazonaws.com/ai2-vision-...   \n",
       "24  https://s3-us-west-2.amazonaws.com/ai2-vision-...   \n",
       "25  https://s3-us-west-2.amazonaws.com/ai2-vision-...   \n",
       "26  https://s3-us-west-2.amazonaws.com/ai2-vision-...   \n",
       "27  https://s3-us-west-2.amazonaws.com/ai2-vision-...   \n",
       "28  https://s3-us-west-2.amazonaws.com/ai2-vision-...   \n",
       "29  https://s3-us-west-2.amazonaws.com/ai2-vision-...   \n",
       "..                                                ...   \n",
       "62  https://s3-us-west-2.amazonaws.com/ai2-vision-...   \n",
       "63  https://s3-us-west-2.amazonaws.com/ai2-vision-...   \n",
       "64  https://s3-us-west-2.amazonaws.com/ai2-vision-...   \n",
       "65  https://s3-us-west-2.amazonaws.com/ai2-vision-...   \n",
       "66  https://s3-us-west-2.amazonaws.com/ai2-vision-...   \n",
       "67  https://s3-us-west-2.amazonaws.com/ai2-vision-...   \n",
       "68  https://s3-us-west-2.amazonaws.com/ai2-vision-...   \n",
       "69  https://s3-us-west-2.amazonaws.com/ai2-vision-...   \n",
       "70  https://s3-us-west-2.amazonaws.com/ai2-vision-...   \n",
       "71  https://s3-us-west-2.amazonaws.com/ai2-vision-...   \n",
       "72  https://s3-us-west-2.amazonaws.com/ai2-vision-...   \n",
       "73  https://s3-us-west-2.amazonaws.com/ai2-vision-...   \n",
       "74  https://s3-us-west-2.amazonaws.com/ai2-vision-...   \n",
       "75  https://s3-us-west-2.amazonaws.com/ai2-vision-...   \n",
       "76  https://s3-us-west-2.amazonaws.com/ai2-vision-...   \n",
       "77  https://s3-us-west-2.amazonaws.com/ai2-vision-...   \n",
       "78  https://s3-us-west-2.amazonaws.com/ai2-vision-...   \n",
       "79  https://s3-us-west-2.amazonaws.com/ai2-vision-...   \n",
       "80  https://s3-us-west-2.amazonaws.com/ai2-vision-...   \n",
       "81  https://s3-us-west-2.amazonaws.com/ai2-vision-...   \n",
       "82  https://s3-us-west-2.amazonaws.com/ai2-vision-...   \n",
       "83  https://s3-us-west-2.amazonaws.com/ai2-vision-...   \n",
       "84  https://s3-us-west-2.amazonaws.com/ai2-vision-...   \n",
       "85  https://s3-us-west-2.amazonaws.com/ai2-vision-...   \n",
       "86  https://s3-us-west-2.amazonaws.com/ai2-vision-...   \n",
       "87  https://s3-us-west-2.amazonaws.com/ai2-vision-...   \n",
       "88  https://s3-us-west-2.amazonaws.com/ai2-vision-...   \n",
       "89  https://s3-us-west-2.amazonaws.com/ai2-vision-...   \n",
       "90  https://s3-us-west-2.amazonaws.com/ai2-vision-...   \n",
       "91  https://s3-us-west-2.amazonaws.com/ai2-vision-...   \n",
       "\n",
       "                                       video  \n",
       "0              PIMO4_cropped_c150_s1_8_e10_3  \n",
       "1        1M8EE_cropped_c131_c154_s22_6_e31_1  \n",
       "2              LY10X_cropped_c118_s3_0_e14_9  \n",
       "3   QVQNK_cropped_c074_c071_c002_s10_3_e19_2  \n",
       "4         ZU8Q1_cropped_c062_c112_s4_9_e16_5  \n",
       "5             Q0BNP_cropped_c106_s23_8_e32_0  \n",
       "6               TTZVW_cropped_c090_s0_0_e9_5  \n",
       "7             BBQIS_cropped_c151_s20_8_e29_1  \n",
       "8               KNXCB_cropped_c129_s0_0_e9_1  \n",
       "9         UJO36_cropped_c107_c119_s8_2_e16_5  \n",
       "10             9HI9D_cropped_c113_s4_8_e15_3  \n",
       "11              RGE8C_cropped_c057_s0_0_e8_9  \n",
       "12            1TW98_cropped_c006_s12_4_e21_5  \n",
       "13            GBZAK_cropped_c071_s15_5_e24_0  \n",
       "14             IBRFM_cropped_c059_s0_0_e10_0  \n",
       "15            5RY3S_cropped_c140_s12_3_e22_3  \n",
       "16       0HD0T_cropped_c079_c126_s18_7_e28_2  \n",
       "17   3OQ8M_cropped_c008_c124_c141_s9_5_e18_2  \n",
       "18       PKEZI_cropped_c000_c002_s28_3_e40_0  \n",
       "19              B0BDR_cropped_c151_s0_2_e9_9  \n",
       "20            G3W9M_cropped_c076_s20_6_e32_0  \n",
       "21        FAZXS_cropped_c012_c117_s0_1_e10_8  \n",
       "22             5B4HF_cropped_c106_s0_0_e10_5  \n",
       "23              6TNP4_cropped_c143_s0_0_e9_8  \n",
       "24            NSDFA_cropped_c042_s20_6_e29_2  \n",
       "25         LA0DB_cropped_c080_c104_s0_0_e9_7  \n",
       "26            H6BT7_cropped_c151_s26_5_e37_4  \n",
       "27        IL0JH_cropped_c008_c097_s8_4_e18_5  \n",
       "28            0J5T4_cropped_c142_s14_7_e23_6  \n",
       "29             YPTHX_cropped_c022_s0_0_e10_7  \n",
       "..                                       ...  \n",
       "62  7GYR4_cropped_c106_c119_c120_s20_0_e31_0  \n",
       "63             AA104_cropped_c108_s3_8_e15_7  \n",
       "64       5VINT_cropped_c006_c097_s23_7_e32_0  \n",
       "65   FGY8R_cropped_c065_c061_c068_s9_0_e18_8  \n",
       "66        4RLYA_cropped_c119_c111_s0_0_e11_7  \n",
       "67              K9KDK_cropped_c051_s0_0_e9_2  \n",
       "68        VDK6L_cropped_c093_c081_s1_2_e11_4  \n",
       "69        4D7GX_cropped_c008_c097_s4_2_e13_7  \n",
       "70             ZIWZH_cropped_c041_s1_6_e13_5  \n",
       "71        O45BC_cropped_c047_c049_s0_6_e11_0  \n",
       "72   GRBUE_cropped_c006_c155_c126_s4_1_e14_1  \n",
       "73            41GXC_cropped_c008_s19_1_e28_3  \n",
       "74            HDDU0_cropped_c116_s14_8_e22_9  \n",
       "75             X0CVU_cropped_c092_s0_0_e12_0  \n",
       "76       UAT1F_cropped_c048_c028_s15_0_e26_2  \n",
       "77  KNX2Y_cropped_c009_c061_c017_s11_3_e21_0  \n",
       "78   BI31D_cropped_c151_c015_c017_s1_4_e13_4  \n",
       "79         7BAUC_cropped_c032_c026_s0_0_e8_0  \n",
       "80        YEH3H_cropped_c106_c108_s9_7_e21_2  \n",
       "81             4JWAH_cropped_c077_s6_8_e17_5  \n",
       "82            SBG5F_cropped_c151_s23_6_e33_0  \n",
       "83        BWHUX_cropped_c009_c097_s4_7_e16_0  \n",
       "84             KZK6W_cropped_c106_s5_3_e16_9  \n",
       "85        V00AL_cropped_c019_c149_s0_0_e12_0  \n",
       "86             5S1SL_cropped_c081_s1_1_e11_4  \n",
       "87       4SN6Z_cropped_c006_c113_s12_6_e21_0  \n",
       "88             RH44U_cropped_c107_s0_0_e10_8  \n",
       "89             1LKPL_cropped_c087_s0_5_e12_3  \n",
       "90        FP7N3_cropped_c006_c113_s1_6_e10_5  \n",
       "91         E3S4O_cropped_c083_c154_s0_0_e8_2  \n",
       "\n",
       "[92 rows x 10 columns]"
      ]
     },
     "execution_count": 95,
     "metadata": {},
     "output_type": "execute_result"
    }
   ],
   "source": [
    "focus_df"
   ]
  },
  {
   "cell_type": "code",
   "execution_count": 124,
   "metadata": {
    "hidden": true,
    "run_control": {
     "frozen": false,
     "read_only": false
    }
   },
   "outputs": [],
   "source": [
    "submitted_twice = set(more_than_1.index)"
   ]
  },
  {
   "cell_type": "code",
   "execution_count": 128,
   "metadata": {
    "hidden": true,
    "run_control": {
     "frozen": false,
     "read_only": false
    }
   },
   "outputs": [],
   "source": [
    "games_subbed_twice = focus_df[focus_df['video'].isin(submitted_twice)]"
   ]
  },
  {
   "cell_type": "code",
   "execution_count": 134,
   "metadata": {
    "hidden": true,
    "run_control": {
     "frozen": false,
     "read_only": false
    }
   },
   "outputs": [
    {
     "data": {
      "text/plain": [
       "101"
      ]
     },
     "execution_count": 134,
     "metadata": {},
     "output_type": "execute_result"
    }
   ],
   "source": [
    "sum(games_subbed_twice.video.value_counts() > 1)"
   ]
  },
  {
   "cell_type": "code",
   "execution_count": 42,
   "metadata": {
    "hidden": true,
    "run_control": {
     "frozen": false,
     "read_only": false
    }
   },
   "outputs": [],
   "source": [
    "g1 = working_df[working_df['id'].str.contains('26755')]\n",
    "g2 = working_df[working_df['id'].str.contains('3523cb')]"
   ]
  },
  {
   "cell_type": "code",
   "execution_count": 49,
   "metadata": {
    "hidden": true,
    "run_control": {
     "frozen": false,
     "read_only": false
    }
   },
   "outputs": [],
   "source": [
    "vids_to_submit = pd.read_pickle('submitted_vids.pkl')"
   ]
  },
  {
   "cell_type": "code",
   "execution_count": 50,
   "metadata": {
    "hidden": true,
    "run_control": {
     "frozen": false,
     "read_only": false
    }
   },
   "outputs": [],
   "source": [
    "intended_to_submit = set(vids_to_submit.tolist())"
   ]
  },
  {
   "cell_type": "code",
   "execution_count": 46,
   "metadata": {
    "hidden": true,
    "run_control": {
     "frozen": false,
     "read_only": false
    }
   },
   "outputs": [],
   "source": [
    "act_done = set(working_df['videoFilename'].tolist())"
   ]
  },
  {
   "cell_type": "code",
   "execution_count": 33,
   "metadata": {
    "hidden": true,
    "run_control": {
     "frozen": false,
     "read_only": false
    }
   },
   "outputs": [],
   "source": [
    "# intended_to_submit.difference(act_done)"
   ]
  },
  {
   "cell_type": "code",
   "execution_count": 34,
   "metadata": {
    "hidden": true,
    "run_control": {
     "frozen": false,
     "read_only": false
    }
   },
   "outputs": [],
   "source": [
    "all_submitted_aids = pd.read_pickle('submitted_aids.pkl')"
   ]
  },
  {
   "cell_type": "code",
   "execution_count": 143,
   "metadata": {
    "hidden": true,
    "run_control": {
     "frozen": false,
     "read_only": false
    }
   },
   "outputs": [],
   "source": [
    "game_data_aids = set(focus_df['drawer_assignment_id'].tolist())"
   ]
  },
  {
   "cell_type": "code",
   "execution_count": 144,
   "metadata": {
    "hidden": true,
    "run_control": {
     "frozen": false,
     "read_only": false
    }
   },
   "outputs": [],
   "source": [
    "hit_aids = set(all_submitted_aids.tolist())"
   ]
  },
  {
   "cell_type": "code",
   "execution_count": 97,
   "metadata": {
    "hidden": true,
    "run_control": {
     "frozen": false,
     "read_only": false
    }
   },
   "outputs": [],
   "source": [
    "# hit_aids.difference(game_data_aids)"
   ]
  },
  {
   "cell_type": "code",
   "execution_count": 146,
   "metadata": {
    "hidden": true,
    "run_control": {
     "frozen": false,
     "read_only": false
    }
   },
   "outputs": [
    {
     "data": {
      "text/plain": [
       "{'38JBBYETQPXHUECAYCGWMFTJFXD4EM'}"
      ]
     },
     "execution_count": 146,
     "metadata": {},
     "output_type": "execute_result"
    }
   ],
   "source": [
    "game_data_aids.difference(hit_aids)"
   ]
  },
  {
   "cell_type": "code",
   "execution_count": null,
   "metadata": {
    "hidden": true,
    "run_control": {
     "frozen": false,
     "read_only": false
    }
   },
   "outputs": [],
   "source": [
    "dupe_aids = ['38JBBYETQPXHUECAYCGWMFTJFXD4EM', '3P1L2B7AD2CZ4DWKYII9D8P85M1LOP']"
   ]
  },
  {
   "cell_type": "code",
   "execution_count": 118,
   "metadata": {
    "hidden": true,
    "run_control": {
     "frozen": false,
     "read_only": false
    }
   },
   "outputs": [
    {
     "data": {
      "text/plain": [
       "134   2018-07-18 10:53:38\n",
       "Name: ended_at, dtype: datetime64[ns]"
      ]
     },
     "execution_count": 118,
     "metadata": {},
     "output_type": "execute_result"
    }
   ],
   "source": [
    "g1['ended_at']"
   ]
  },
  {
   "cell_type": "code",
   "execution_count": 119,
   "metadata": {
    "hidden": true,
    "run_control": {
     "frozen": false,
     "read_only": false
    }
   },
   "outputs": [
    {
     "data": {
      "text/plain": [
       "60   2018-07-18 12:23:03.531\n",
       "Name: ended_at, dtype: datetime64[ns]"
      ]
     },
     "execution_count": 119,
     "metadata": {},
     "output_type": "execute_result"
    }
   ],
   "source": [
    "g2['ended_at']"
   ]
  },
  {
   "cell_type": "code",
   "execution_count": 37,
   "metadata": {
    "hidden": true,
    "run_control": {
     "frozen": false,
     "read_only": false
    }
   },
   "outputs": [],
   "source": [
    "# display_game_vid(g1['id'].iloc[0])"
   ]
  },
  {
   "cell_type": "code",
   "execution_count": 19,
   "metadata": {
    "hidden": true,
    "run_control": {
     "frozen": false,
     "read_only": false
    }
   },
   "outputs": [],
   "source": [
    "focus_df['drawer_worker_id'].to_pickle('viconary_first_test_wids.pkl')"
   ]
  },
  {
   "cell_type": "code",
   "execution_count": 47,
   "metadata": {
    "hidden": true,
    "run_control": {
     "frozen": false,
     "read_only": false
    }
   },
   "outputs": [
    {
     "data": {
      "text/plain": [
       "4.25"
      ]
     },
     "execution_count": 47,
     "metadata": {},
     "output_type": "execute_result"
    }
   ],
   "source": [
    "focus_df['duration_in_min'].median()"
   ]
  },
  {
   "cell_type": "code",
   "execution_count": 49,
   "metadata": {
    "hidden": true,
    "run_control": {
     "frozen": false,
     "read_only": false
    }
   },
   "outputs": [
    {
     "data": {
      "text/plain": [
       "53.25"
      ]
     },
     "execution_count": 49,
     "metadata": {},
     "output_type": "execute_result"
    }
   ],
   "source": [
    "# focus_df['number_events'].mean()"
   ]
  },
  {
   "cell_type": "code",
   "execution_count": 38,
   "metadata": {
    "hidden": true,
    "run_control": {
     "frozen": false,
     "read_only": false
    }
   },
   "outputs": [],
   "source": [
    "# fig_labels = {\n",
    "#     'fig_title': 'Time Spent on Task',\n",
    "#       'x_label': 'task duration (min)',\n",
    "#       'y_label': '# tasks'\n",
    "# }\n",
    "# make_standard_fig(focus_df['duration_in_min'].hist(), fig_labels)"
   ]
  },
  {
   "cell_type": "markdown",
   "metadata": {
    "heading_collapsed": true
   },
   "source": [
    "## 2.4 viz games"
   ]
  },
  {
   "cell_type": "code",
   "execution_count": 48,
   "metadata": {
    "hidden": true,
    "run_control": {
     "frozen": false,
     "read_only": false
    }
   },
   "outputs": [],
   "source": [
    "examine_id = 'game.5f11caa3-082c-4b59-9725-2e4abb970b4a'\n",
    "examine_game = focus_df[focus_df['id'] == examine_id].iloc[0]"
   ]
  },
  {
   "cell_type": "code",
   "execution_count": 54,
   "metadata": {
    "hidden": true,
    "run_control": {
     "frozen": false,
     "read_only": false
    },
    "scrolled": true
   },
   "outputs": [
    {
     "data": {
      "text/html": [
       "<div>\n",
       "<style scoped>\n",
       "    .dataframe tbody tr th:only-of-type {\n",
       "        vertical-align: middle;\n",
       "    }\n",
       "\n",
       "    .dataframe tbody tr th {\n",
       "        vertical-align: top;\n",
       "    }\n",
       "\n",
       "    .dataframe thead th {\n",
       "        text-align: right;\n",
       "    }\n",
       "</style>\n",
       "<table border=\"1\" class=\"dataframe\">\n",
       "  <thead>\n",
       "    <tr style=\"text-align: right;\">\n",
       "      <th></th>\n",
       "      <th>62</th>\n",
       "    </tr>\n",
       "  </thead>\n",
       "  <tbody>\n",
       "    <tr>\n",
       "      <th>id</th>\n",
       "      <td>game.19dca149-d174-43dd-a7ec-2a22978e307f</td>\n",
       "    </tr>\n",
       "    <tr>\n",
       "      <th>duration_in_min</th>\n",
       "      <td>3.85</td>\n",
       "    </tr>\n",
       "    <tr>\n",
       "      <th>number_events</th>\n",
       "      <td>48</td>\n",
       "    </tr>\n",
       "  </tbody>\n",
       "</table>\n",
       "</div>"
      ],
      "text/plain": [
       "                                                        62\n",
       "id               game.19dca149-d174-43dd-a7ec-2a22978e307f\n",
       "duration_in_min                                       3.85\n",
       "number_events                                           48"
      ]
     },
     "execution_count": 54,
     "metadata": {},
     "output_type": "execute_result"
    }
   ],
   "source": [
    "min_cols = ['id', 'duration_in_min', 'number_events']\n",
    "# examine_game = working_df[working_df['id'] == examine_id].iloc[0]\n",
    "examine_game = working_df[min_cols].sample(1).iloc[0]\n",
    "\n",
    "pd.DataFrame(examine_game)"
   ]
  },
  {
   "cell_type": "code",
   "execution_count": null,
   "metadata": {
    "hidden": true,
    "run_control": {
     "frozen": false,
     "read_only": false
    }
   },
   "outputs": [],
   "source": []
  },
  {
   "cell_type": "code",
   "execution_count": 56,
   "metadata": {
    "hidden": true,
    "run_control": {
     "frozen": false,
     "read_only": false
    }
   },
   "outputs": [],
   "source": [
    "# display_source_vid(test_vid.video)"
   ]
  }
 ],
 "metadata": {
  "kernelspec": {
   "display_name": "Python 3",
   "language": "python",
   "name": "python3"
  },
  "language_info": {
   "codemirror_mode": {
    "name": "ipython",
    "version": 3
   },
   "file_extension": ".py",
   "mimetype": "text/x-python",
   "name": "python",
   "nbconvert_exporter": "python",
   "pygments_lexer": "ipython3",
   "version": "3.7.0"
  }
 },
 "nbformat": 4,
 "nbformat_minor": 1
}
